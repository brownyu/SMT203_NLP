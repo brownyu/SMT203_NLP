{
  "nbformat": 4,
  "nbformat_minor": 0,
  "metadata": {
    "colab": {
      "name": " Lab7_topic_modeling_with_solution.ipynb",
      "provenance": [],
      "collapsed_sections": [
        "ncL7zRE_1a4T",
        "LLKFXxOW1a4Y",
        "bw9U2l491a4Z",
        "XxYnx_Ga1a4b",
        "O1DjRl151a4c"
      ],
      "include_colab_link": true
    },
    "kernelspec": {
      "display_name": "Python 3",
      "language": "python",
      "name": "python3"
    },
    "language_info": {
      "codemirror_mode": {
        "name": "ipython",
        "version": 3
      },
      "file_extension": ".py",
      "mimetype": "text/x-python",
      "name": "python",
      "nbconvert_exporter": "python",
      "pygments_lexer": "ipython3",
      "version": "3.8.5"
    }
  },
  "cells": [
    {
      "cell_type": "markdown",
      "metadata": {
        "id": "view-in-github",
        "colab_type": "text"
      },
      "source": [
        "<a href=\"https://colab.research.google.com/github/brownyu/SMT203_NLP/blob/main/Lab7_topic_modeling_with_solution.ipynb\" target=\"_parent\"><img src=\"https://colab.research.google.com/assets/colab-badge.svg\" alt=\"Open In Colab\"/></a>"
      ]
    },
    {
      "cell_type": "markdown",
      "metadata": {
        "id": "ncL7zRE_1a4T"
      },
      "source": [
        "# Lab 7 - Topic Modeling\n",
        "\n",
        "In this lab, you will learn:\n",
        "* How to find topics in a corpus using topic modeling\n",
        "* How to apply Latent Dirichlet Allocation (LDA), a topic modeling technique, to texts\n",
        "* How to find the distribution of LDA topics in a corpus\n",
        "\n",
        "This lab is written by Jisun AN (jisunan@smu.edu.sg) and Michelle KAN (michellekan@smu.edu.sg) based on existing tutorial, titled \"[Topic Modeling with Gensim (Python)](https://www.machinelearningplus.com/nlp/topic-modeling-gensim-python/),\" by Selva Prabhakaran. \n",
        "\n",
        "\n",
        " "
      ]
    },
    {
      "cell_type": "markdown",
      "metadata": {
        "id": "LLKFXxOW1a4Y"
      },
      "source": [
        "# 0. Introduction \n",
        "\n",
        "One of the primary applications of natural language processing is to automatically extract what topics people are discussing from large volumes of text. Some examples of large text could be feeds from social media, customer reviews of hotels, movies, etc, user feedbacks, news stories, e-mails of customer complaints etc.\n",
        "\n",
        "Knowing what people are talking about and understanding their problems and opinions is highly valuable to businesses, administrators, political campaigns. And it’s really hard to manually read through such large volumes and compile the topics.\n",
        "\n",
        "Thus is required an automated algorithm that can read through the text documents and automatically output the topics discussed. This is called topic modeling. The ultimate goal of topic modeling is to find various topics that are present in your corpus. Each document in the corpus will be made up of at least one topic, if not multiple topics.\n",
        "\n",
        "In this tutorial, we will take a real example of the COVID-19 Twitter dataset and use **Latent Dirichlet Allocation (LDA)**, which is one of many topic modeling techniques. It was specifically designed for text data, to extract the naturally discussed topics.\n",
        "\n",
        "We will also extract the volume and percentage contribution of each topic to get an idea of how important a topic is.\n"
      ]
    },
    {
      "cell_type": "code",
      "metadata": {
        "id": "kxTJBgnB1a4Y",
        "colab": {
          "base_uri": "https://localhost:8080/",
          "height": 1000
        },
        "outputId": "8cd6cdc5-f862-491a-e8bc-5e1f44618757"
      },
      "source": [
        "!pip install pyldavis\n",
        "!pip install -U gensim\n",
        "# !pip install en_core_web_sm"
      ],
      "execution_count": null,
      "outputs": [
        {
          "output_type": "stream",
          "text": [
            "Collecting pyldavis\n",
            "\u001b[?25l  Downloading https://files.pythonhosted.org/packages/7a/f0/0bad54f2ebe51e0aa09c6f69f53204f499b97b35b4d969d2c6644f48d834/pyLDAvis-3.3.0.tar.gz (1.7MB)\n",
            "\u001b[K     |████████████████████████████████| 1.7MB 5.5MB/s \n",
            "\u001b[?25h  Installing build dependencies ... \u001b[?25l\u001b[?25hdone\n",
            "  Getting requirements to build wheel ... \u001b[?25l\u001b[?25hdone\n",
            "  Installing backend dependencies ... \u001b[?25l\u001b[?25hdone\n",
            "    Preparing wheel metadata ... \u001b[?25l\u001b[?25hdone\n",
            "Requirement already satisfied: numexpr in /usr/local/lib/python3.7/dist-packages (from pyldavis) (2.7.3)\n",
            "Collecting funcy\n",
            "  Downloading https://files.pythonhosted.org/packages/66/89/479de0afbbfb98d1c4b887936808764627300208bb771fcd823403645a36/funcy-1.15-py2.py3-none-any.whl\n",
            "Collecting pandas>=1.2.0\n",
            "\u001b[?25l  Downloading https://files.pythonhosted.org/packages/f3/d4/3fe3b5bf9886912b64ef040040aec356fa48825e5a829a84c2667afdf952/pandas-1.2.3-cp37-cp37m-manylinux1_x86_64.whl (9.9MB)\n",
            "\u001b[K     |████████████████████████████████| 9.9MB 16.3MB/s \n",
            "\u001b[?25hRequirement already satisfied: setuptools in /usr/local/lib/python3.7/dist-packages (from pyldavis) (54.1.2)\n",
            "Requirement already satisfied: sklearn in /usr/local/lib/python3.7/dist-packages (from pyldavis) (0.0)\n",
            "Requirement already satisfied: scipy in /usr/local/lib/python3.7/dist-packages (from pyldavis) (1.4.1)\n",
            "Requirement already satisfied: gensim in /usr/local/lib/python3.7/dist-packages (from pyldavis) (3.6.0)\n",
            "Requirement already satisfied: scikit-learn in /usr/local/lib/python3.7/dist-packages (from pyldavis) (0.22.2.post1)\n",
            "Requirement already satisfied: future in /usr/local/lib/python3.7/dist-packages (from pyldavis) (0.16.0)\n",
            "Collecting numpy>=1.20.0\n",
            "\u001b[?25l  Downloading https://files.pythonhosted.org/packages/70/8a/064b4077e3d793f877e3b77aa64f56fa49a4d37236a53f78ee28be009a16/numpy-1.20.1-cp37-cp37m-manylinux2010_x86_64.whl (15.3MB)\n",
            "\u001b[K     |████████████████████████████████| 15.3MB 309kB/s \n",
            "\u001b[?25hRequirement already satisfied: jinja2 in /usr/local/lib/python3.7/dist-packages (from pyldavis) (2.11.3)\n",
            "Requirement already satisfied: joblib in /usr/local/lib/python3.7/dist-packages (from pyldavis) (1.0.1)\n",
            "Requirement already satisfied: python-dateutil>=2.7.3 in /usr/local/lib/python3.7/dist-packages (from pandas>=1.2.0->pyldavis) (2.8.1)\n",
            "Requirement already satisfied: pytz>=2017.3 in /usr/local/lib/python3.7/dist-packages (from pandas>=1.2.0->pyldavis) (2018.9)\n",
            "Requirement already satisfied: smart-open>=1.2.1 in /usr/local/lib/python3.7/dist-packages (from gensim->pyldavis) (4.2.0)\n",
            "Requirement already satisfied: six>=1.5.0 in /usr/local/lib/python3.7/dist-packages (from gensim->pyldavis) (1.15.0)\n",
            "Requirement already satisfied: MarkupSafe>=0.23 in /usr/local/lib/python3.7/dist-packages (from jinja2->pyldavis) (1.1.1)\n",
            "Building wheels for collected packages: pyldavis\n",
            "  Building wheel for pyldavis (PEP 517) ... \u001b[?25l\u001b[?25hdone\n",
            "  Created wheel for pyldavis: filename=pyLDAvis-3.3.0-cp37-none-any.whl size=136817 sha256=f47a44647ec2459d56d833ddd45d2169cdec3dbe73332bafb0281eee7b7bbf1a\n",
            "  Stored in directory: /root/.cache/pip/wheels/2b/19/cd/a60c0d50a1a60ae2476d00611fa87c62c5d2b7762429eb642b\n",
            "Successfully built pyldavis\n",
            "\u001b[31mERROR: tensorflow 2.4.1 has requirement numpy~=1.19.2, but you'll have numpy 1.20.1 which is incompatible.\u001b[0m\n",
            "\u001b[31mERROR: google-colab 1.0.0 has requirement pandas~=1.1.0; python_version >= \"3.0\", but you'll have pandas 1.2.3 which is incompatible.\u001b[0m\n",
            "\u001b[31mERROR: datascience 0.10.6 has requirement folium==0.2.1, but you'll have folium 0.8.3 which is incompatible.\u001b[0m\n",
            "\u001b[31mERROR: albumentations 0.1.12 has requirement imgaug<0.2.7,>=0.2.5, but you'll have imgaug 0.2.9 which is incompatible.\u001b[0m\n",
            "Installing collected packages: funcy, numpy, pandas, pyldavis\n",
            "  Found existing installation: numpy 1.19.5\n",
            "    Uninstalling numpy-1.19.5:\n",
            "      Successfully uninstalled numpy-1.19.5\n",
            "  Found existing installation: pandas 1.1.5\n",
            "    Uninstalling pandas-1.1.5:\n",
            "      Successfully uninstalled pandas-1.1.5\n",
            "Successfully installed funcy-1.15 numpy-1.20.1 pandas-1.2.3 pyldavis-3.3.0\n"
          ],
          "name": "stdout"
        },
        {
          "output_type": "display_data",
          "data": {
            "application/vnd.colab-display-data+json": {
              "pip_warning": {
                "packages": [
                  "numpy",
                  "pandas"
                ]
              }
            }
          },
          "metadata": {
            "tags": []
          }
        },
        {
          "output_type": "stream",
          "text": [
            "Collecting gensim\n",
            "\u001b[?25l  Downloading https://files.pythonhosted.org/packages/5c/4e/afe2315e08a38967f8a3036bbe7e38b428e9b7a90e823a83d0d49df1adf5/gensim-3.8.3-cp37-cp37m-manylinux1_x86_64.whl (24.2MB)\n",
            "\u001b[K     |████████████████████████████████| 24.2MB 1.6MB/s \n",
            "\u001b[?25hRequirement already satisfied, skipping upgrade: numpy>=1.11.3 in /usr/local/lib/python3.7/dist-packages (from gensim) (1.20.1)\n",
            "Requirement already satisfied, skipping upgrade: six>=1.5.0 in /usr/local/lib/python3.7/dist-packages (from gensim) (1.15.0)\n",
            "Requirement already satisfied, skipping upgrade: scipy>=0.18.1 in /usr/local/lib/python3.7/dist-packages (from gensim) (1.4.1)\n",
            "Requirement already satisfied, skipping upgrade: smart-open>=1.8.1 in /usr/local/lib/python3.7/dist-packages (from gensim) (4.2.0)\n",
            "Installing collected packages: gensim\n",
            "  Found existing installation: gensim 3.6.0\n",
            "    Uninstalling gensim-3.6.0:\n",
            "      Successfully uninstalled gensim-3.6.0\n",
            "Successfully installed gensim-3.8.3\n"
          ],
          "name": "stdout"
        }
      ]
    },
    {
      "cell_type": "markdown",
      "metadata": {
        "id": "ZcmZSfyP5ytl"
      },
      "source": [
        "You must restart runtime after updating libraries. "
      ]
    },
    {
      "cell_type": "code",
      "metadata": {
        "id": "xTonnmoY1a4Z",
        "colab": {
          "base_uri": "https://localhost:8080/"
        },
        "outputId": "db5378a0-a1d7-42cb-ecd1-6ff095edcfd0"
      },
      "source": [
        "import pandas as pd\n",
        "import re \n",
        "\n",
        "# Gensim for topic modeling\n",
        "import gensim\n",
        "from gensim.utils import simple_preprocess\n",
        "from gensim import matutils, models\n",
        "import gensim.corpora as corpora\n",
        "from gensim.models import CoherenceModel\n",
        "\n",
        "# spacy for lemmatization\n",
        "import spacy\n",
        "import scipy.sparse\n",
        "\n",
        "# NLTK Stop words\n",
        "import nltk\n",
        "nltk.download('stopwords')\n",
        "from nltk.corpus import stopwords\n",
        "\n",
        "# Plotting tools\n",
        "import pyLDAvis\n",
        "import pyLDAvis.gensim_models  # don't skip this\n",
        "import matplotlib.pyplot as plt\n",
        "%matplotlib inline\n"
      ],
      "execution_count": null,
      "outputs": [
        {
          "output_type": "stream",
          "text": [
            "[nltk_data] Downloading package stopwords to /root/nltk_data...\n",
            "[nltk_data]   Unzipping corpora/stopwords.zip.\n"
          ],
          "name": "stdout"
        },
        {
          "output_type": "stream",
          "text": [
            "/usr/local/lib/python3.7/dist-packages/past/types/oldstr.py:5: DeprecationWarning: Using or importing the ABCs from 'collections' instead of from 'collections.abc' is deprecated since Python 3.3,and in 3.9 it will stop working\n",
            "  from collections import Iterable\n",
            "/usr/local/lib/python3.7/dist-packages/past/builtins/misc.py:4: DeprecationWarning: Using or importing the ABCs from 'collections' instead of from 'collections.abc' is deprecated since Python 3.3,and in 3.9 it will stop working\n",
            "  from collections import Mapping\n",
            "/usr/local/lib/python3.7/dist-packages/sklearn/decomposition/_lda.py:29: DeprecationWarning: `np.float` is a deprecated alias for the builtin `float`. To silence this warning, use `float` by itself. Doing this will not modify any behavior and is safe. If you specifically wanted the numpy scalar type, use `np.float64` here.\n",
            "Deprecated in NumPy 1.20; for more details and guidance: https://numpy.org/devdocs/release/1.20.0-notes.html#deprecations\n",
            "  EPS = np.finfo(np.float).eps\n"
          ],
          "name": "stderr"
        }
      ]
    },
    {
      "cell_type": "markdown",
      "metadata": {
        "id": "bw9U2l491a4Z"
      },
      "source": [
        "# 1. Getting the data\n",
        "\n",
        "We will use the COVID-19 Twitter dataset, which is collected based on COVID-19 related keywords, including covid, coronavirus, etc from Jan to April 2020. \n"
      ]
    },
    {
      "cell_type": "code",
      "metadata": {
        "id": "H3W6N99X1a4a",
        "colab": {
          "base_uri": "https://localhost:8080/",
          "height": 212
        },
        "outputId": "b7c2697a-45d4-4744-99ee-6baddb50a676"
      },
      "source": [
        "ori_df = pd.read_table(\"https://raw.githubusercontent.com/anjisun221/css_codes/main/sample_covid19_tweet_20200101_20200412_en.tsv\", sep=\"\\t\")\n",
        "\n",
        "print(ori_df.shape)\n",
        "ori_df.head()"
      ],
      "execution_count": null,
      "outputs": [
        {
          "output_type": "stream",
          "text": [
            "(10000, 4)\n"
          ],
          "name": "stdout"
        },
        {
          "output_type": "execute_result",
          "data": {
            "text/html": [
              "<div>\n",
              "<style scoped>\n",
              "    .dataframe tbody tr th:only-of-type {\n",
              "        vertical-align: middle;\n",
              "    }\n",
              "\n",
              "    .dataframe tbody tr th {\n",
              "        vertical-align: top;\n",
              "    }\n",
              "\n",
              "    .dataframe thead th {\n",
              "        text-align: right;\n",
              "    }\n",
              "</style>\n",
              "<table border=\"1\" class=\"dataframe\">\n",
              "  <thead>\n",
              "    <tr style=\"text-align: right;\">\n",
              "      <th></th>\n",
              "      <th>text_no</th>\n",
              "      <th>timestampStr</th>\n",
              "      <th>user_location_state</th>\n",
              "      <th>text</th>\n",
              "    </tr>\n",
              "  </thead>\n",
              "  <tbody>\n",
              "    <tr>\n",
              "      <th>0</th>\n",
              "      <td>0</td>\n",
              "      <td>2020-03-21</td>\n",
              "      <td>ca</td>\n",
              "      <td>National coronavirus updates: VP Pence and wif...</td>\n",
              "    </tr>\n",
              "    <tr>\n",
              "      <th>1</th>\n",
              "      <td>1</td>\n",
              "      <td>2020-03-04</td>\n",
              "      <td>ny</td>\n",
              "      <td>How are your facilities preparing for #Coronav...</td>\n",
              "    </tr>\n",
              "    <tr>\n",
              "      <th>2</th>\n",
              "      <td>2</td>\n",
              "      <td>2020-04-12</td>\n",
              "      <td>ct</td>\n",
              "      <td>Revealed: value of UK pandemic stockpile fell ...</td>\n",
              "    </tr>\n",
              "    <tr>\n",
              "      <th>3</th>\n",
              "      <td>3</td>\n",
              "      <td>2020-02-26</td>\n",
              "      <td>md</td>\n",
              "      <td>Some of the biggest threats we face are global...</td>\n",
              "    </tr>\n",
              "    <tr>\n",
              "      <th>4</th>\n",
              "      <td>4</td>\n",
              "      <td>2020-03-03</td>\n",
              "      <td>wa</td>\n",
              "      <td>Fitness Instagram just exploded https://t.co/a...</td>\n",
              "    </tr>\n",
              "  </tbody>\n",
              "</table>\n",
              "</div>"
            ],
            "text/plain": [
              "   text_no  ...                                               text\n",
              "0        0  ...  National coronavirus updates: VP Pence and wif...\n",
              "1        1  ...  How are your facilities preparing for #Coronav...\n",
              "2        2  ...  Revealed: value of UK pandemic stockpile fell ...\n",
              "3        3  ...  Some of the biggest threats we face are global...\n",
              "4        4  ...  Fitness Instagram just exploded https://t.co/a...\n",
              "\n",
              "[5 rows x 4 columns]"
            ]
          },
          "metadata": {
            "tags": []
          },
          "execution_count": 2
        }
      ]
    },
    {
      "cell_type": "code",
      "metadata": {
        "id": "AxjCDgDX1a4a",
        "colab": {
          "base_uri": "https://localhost:8080/"
        },
        "outputId": "f4b3f252-ce48-489a-adf2-0eb0ba6055b2"
      },
      "source": [
        "df = ori_df.sample(n=5000, random_state=999)\n",
        "print(df.shape)"
      ],
      "execution_count": null,
      "outputs": [
        {
          "output_type": "stream",
          "text": [
            "(5000, 4)\n"
          ],
          "name": "stdout"
        }
      ]
    },
    {
      "cell_type": "code",
      "metadata": {
        "id": "-4Ex45vd1a4b",
        "colab": {
          "base_uri": "https://localhost:8080/"
        },
        "outputId": "6d596011-3ee6-406d-c1e0-d54b8dfb73ce"
      },
      "source": [
        "df.text.head()"
      ],
      "execution_count": null,
      "outputs": [
        {
          "output_type": "execute_result",
          "data": {
            "text/plain": [
              "9031    It almost like nobody has ever bought somethin...\n",
              "3462    @Curly_Jazzy @HoneyDip_8 YOOOOOOO WHERE THEY A...\n",
              "3863    Wear a mask if out!Make one with microfiber cl...\n",
              "1144    03/04/2020 11 deaths in the USA from the #coro...\n",
              "2692    If extreme measures like mass quarantines come...\n",
              "Name: text, dtype: object"
            ]
          },
          "metadata": {
            "tags": []
          },
          "execution_count": 4
        }
      ]
    },
    {
      "cell_type": "markdown",
      "metadata": {
        "id": "XxYnx_Ga1a4b"
      },
      "source": [
        "# (Preview) Let's build a quick LDA topic model "
      ]
    },
    {
      "cell_type": "code",
      "metadata": {
        "id": "Bq_KfStv1a4b",
        "colab": {
          "base_uri": "https://localhost:8080/"
        },
        "outputId": "dda3f4b8-b9cb-4073-e05d-45ae91bf3d03"
      },
      "source": [
        "# Convert to list\n",
        "data = df.text.values.tolist()\n",
        "data[:5]\n",
        "\n",
        "def sent_to_words(sentences):\n",
        "    for sentence in sentences:\n",
        "        yield(gensim.utils.simple_preprocess(str(sentence), deacc=True))  # deacc=True removes punctuations\n",
        "\n",
        "data_words = list(sent_to_words(data))\n",
        "\n",
        "# Create Dictionary\n",
        "id2word = corpora.Dictionary(data_words)\n",
        "\n",
        "# Create Corpus\n",
        "texts = data_words\n",
        "\n",
        "# Term Document Frequency\n",
        "corpus = [id2word.doc2bow(text) for text in texts]\n",
        "\n",
        "# Let's start with 2 topics.\n",
        "lda_model = models.LdaModel(corpus=corpus, id2word=id2word, num_topics=2, passes=10)\n",
        "#passes: how many iterations going through \n",
        "lda_model.print_topics()"
      ],
      "execution_count": null,
      "outputs": [
        {
          "output_type": "execute_result",
          "data": {
            "text/plain": [
              "[(0,\n",
              "  '0.036*\"the\" + 0.024*\"to\" + 0.022*\"https\" + 0.021*\"co\" + 0.015*\"is\" + 0.014*\"and\" + 0.013*\"of\" + 0.013*\"this\" + 0.011*\"coronavirus\" + 0.011*\"in\"'),\n",
              " (1,\n",
              "  '0.053*\"co\" + 0.052*\"https\" + 0.029*\"coronavirus\" + 0.024*\"the\" + 0.017*\"to\" + 0.014*\"of\" + 0.013*\"in\" + 0.009*\"and\" + 0.009*\"covid\" + 0.009*\"for\"')]"
            ]
          },
          "metadata": {
            "tags": []
          },
          "execution_count": 5
        }
      ]
    },
    {
      "cell_type": "code",
      "metadata": {
        "id": "jQFcAN7d1a4c",
        "colab": {
          "base_uri": "https://localhost:8080/"
        },
        "outputId": "a986c837-a0aa-485e-e1da-0b21e129a92b"
      },
      "source": [
        "# Let's start with 10 topics. This may take a while.\n",
        "lda_model = models.LdaModel(corpus=corpus, id2word=id2word, num_topics=10, passes=10)\n",
        "lda_model.print_topics()"
      ],
      "execution_count": null,
      "outputs": [
        {
          "output_type": "execute_result",
          "data": {
            "text/plain": [
              "[(0,\n",
              "  '0.018*\"co\" + 0.018*\"https\" + 0.006*\"tweet\" + 0.006*\"sign\" + 0.004*\"pelosi\" + 0.004*\"learning\" + 0.004*\"petition\" + 0.004*\"thank\" + 0.003*\"drive\" + 0.003*\"bloomberg\"'),\n",
              " (1,\n",
              "  '0.015*\"new\" + 0.012*\"york\" + 0.006*\"reading\" + 0.005*\"restaurants\" + 0.004*\"himself\" + 0.004*\"aoc\" + 0.004*\"hurt\" + 0.003*\"ignorant\" + 0.003*\"funny\" + 0.003*\"doors\"'),\n",
              " (2,\n",
              "  '0.038*\"the\" + 0.024*\"is\" + 0.023*\"this\" + 0.021*\"of\" + 0.021*\"to\" + 0.017*\"co\" + 0.017*\"https\" + 0.017*\"and\" + 0.014*\"it\" + 0.013*\"you\"'),\n",
              " (3,\n",
              "  '0.018*\"co\" + 0.017*\"https\" + 0.005*\"hong\" + 0.004*\"kong\" + 0.004*\"zero\" + 0.003*\"as\" + 0.003*\"bs\" + 0.003*\"is\" + 0.003*\"dead\" + 0.003*\"coronavirus\"'),\n",
              " (4,\n",
              "  '0.061*\"https\" + 0.053*\"co\" + 0.051*\"none\" + 0.030*\"false\" + 0.018*\"coronavirus\" + 0.014*\"en\" + 0.014*\"wed\" + 0.013*\"mar\" + 0.008*\"com\" + 0.006*\"covid\"'),\n",
              " (5,\n",
              "  '0.005*\"among\" + 0.005*\"oil\" + 0.004*\"example\" + 0.004*\"videos\" + 0.003*\"ac\" + 0.003*\"losses\" + 0.003*\"contingency\" + 0.002*\"aka\" + 0.002*\"lord\" + 0.002*\"competent\"'),\n",
              " (6,\n",
              "  '0.010*\"gt\" + 0.006*\"democrat\" + 0.005*\"korea\" + 0.005*\"tweets\" + 0.004*\"cq\" + 0.004*\"hero\" + 0.003*\"predicted\" + 0.003*\"eyes\" + 0.003*\"sf\" + 0.003*\"enter\"'),\n",
              " (7,\n",
              "  '0.027*\"co\" + 0.027*\"https\" + 0.010*\"to\" + 0.008*\"the\" + 0.007*\"on\" + 0.007*\"covid\" + 0.005*\"for\" + 0.005*\"is\" + 0.005*\"this\" + 0.004*\"and\"'),\n",
              " (8,\n",
              "  '0.056*\"the\" + 0.038*\"co\" + 0.038*\"https\" + 0.037*\"to\" + 0.023*\"coronavirus\" + 0.020*\"of\" + 0.020*\"and\" + 0.018*\"in\" + 0.013*\"for\" + 0.011*\"is\"'),\n",
              " (9,\n",
              "  '0.081*\"https\" + 0.081*\"co\" + 0.054*\"coronavirus\" + 0.020*\"in\" + 0.015*\"to\" + 0.014*\"via\" + 0.011*\"covid\" + 0.009*\"of\" + 0.009*\"china\" + 0.008*\"cases\"')]"
            ]
          },
          "metadata": {
            "tags": []
          },
          "execution_count": 6
        }
      ]
    },
    {
      "cell_type": "markdown",
      "metadata": {
        "id": "O1DjRl151a4c"
      },
      "source": [
        "#### Does above topics make sense to you? "
      ]
    },
    {
      "cell_type": "markdown",
      "metadata": {
        "id": "JzEZzYro1a4c"
      },
      "source": [
        "# 2. Data cleaning\n",
        "\n",
        "We will do the followings:\n",
        "* Remove @mention and url\n",
        "* Tokenization: We will use Gensim's module `gensim.utils.simple_preprocess` to tokenize the sentence in our corpus. It will convert a document into a list of tokens. Read more [here](https://tedboy.github.io/nlps/generated/generated/gensim.utils.simple_preprocess.html).\n",
        "* Removing Stop words\n",
        "* Bigram extraction- extracting list of two words frequently occurring together in the document e.g, ‘front_bumper’, ‘oil_leak’, ‘maryland_college_park’ etc.\n",
        "* Lemmatization， to find the root of the word \n",
        "\n",
        "\n",
        "\n"
      ]
    },
    {
      "cell_type": "code",
      "metadata": {
        "id": "NYhXQpkF1a4d",
        "colab": {
          "base_uri": "https://localhost:8080/"
        },
        "outputId": "63b96595-4dd1-40ed-eb16-14af5cf3fbb9"
      },
      "source": [
        "# Convert to list\n",
        "data = df.text.values.tolist()\n",
        "data[:5]"
      ],
      "execution_count": null,
      "outputs": [
        {
          "output_type": "execute_result",
          "data": {
            "text/plain": [
              "['It almost like nobody has ever bought something made in China at Home Depot and have it break in 48 hours. https://t.co/zEcB0QqnGt',\n",
              " '@Curly_Jazzy @HoneyDip_8 YOOOOOOO WHERE THEY ATT 😂💀💀 https://t.co/8HYd3v7K2V',\n",
              " \"Wear a mask if out!Make one with microfiber cloth inside and folded out with the best filter you can devise inside.Tie,stitch, or pin at edges.Rewear in 3 days.Fine those who don't.Don't use the medical professions N95 filters.Other countries require this. Idiots won't comply.\",\n",
              " '03/04/2020 11 deaths in the USA from the #coronavirus #TrumpVirus',\n",
              " 'If extreme measures like mass quarantines come to pass, #telehealth could finally have its bittersweet moment in the spotlight. The #Coronavirus Outbreak Could Finally Make #Telemedicine Mainstream https://t.co/5auM7OROtv @TIME #HumanizeHealthcare #HIMSS20 #BeTheChange https://t.co/gz4O7rtAwC']"
            ]
          },
          "metadata": {
            "tags": []
          },
          "execution_count": 7
        }
      ]
    },
    {
      "cell_type": "markdown",
      "metadata": {
        "id": "BIY8Mv5k1a4d"
      },
      "source": [
        "2-1. Remove @mention and url"
      ]
    },
    {
      "cell_type": "code",
      "metadata": {
        "id": "EzjEtL_Y1a4d",
        "colab": {
          "base_uri": "https://localhost:8080/"
        },
        "outputId": "1c72764d-05d1-453a-bbbd-b0ab6bd9ee2f"
      },
      "source": [
        "# Remove @mentions \n",
        "data = [re.sub(r'@\\w+', '', sent) for sent in data]\n",
        "\n",
        "# Remove urls (remove a word starting with http)\n",
        "data = [re.sub(r'http\\S+', '', sent) for sent in data]\n",
        "\n",
        "data[:5]"
      ],
      "execution_count": null,
      "outputs": [
        {
          "output_type": "execute_result",
          "data": {
            "text/plain": [
              "['It almost like nobody has ever bought something made in China at Home Depot and have it break in 48 hours. ',\n",
              " '  YOOOOOOO WHERE THEY ATT 😂💀💀 ',\n",
              " \"Wear a mask if out!Make one with microfiber cloth inside and folded out with the best filter you can devise inside.Tie,stitch, or pin at edges.Rewear in 3 days.Fine those who don't.Don't use the medical professions N95 filters.Other countries require this. Idiots won't comply.\",\n",
              " '03/04/2020 11 deaths in the USA from the #coronavirus #TrumpVirus',\n",
              " 'If extreme measures like mass quarantines come to pass, #telehealth could finally have its bittersweet moment in the spotlight. The #Coronavirus Outbreak Could Finally Make #Telemedicine Mainstream   #HumanizeHealthcare #HIMSS20 #BeTheChange ']"
            ]
          },
          "metadata": {
            "tags": []
          },
          "execution_count": 8
        }
      ]
    },
    {
      "cell_type": "markdown",
      "metadata": {
        "id": "3r-NOVFQ1a4d"
      },
      "source": [
        "2-2. Tokenization"
      ]
    },
    {
      "cell_type": "code",
      "metadata": {
        "id": "xJcPJFEd1a4d",
        "colab": {
          "base_uri": "https://localhost:8080/"
        },
        "outputId": "caa8b4bc-2f41-4b02-cea2-4c09436318e4"
      },
      "source": [
        "def sent_to_words(sentences):\n",
        "    for sentence in sentences:\n",
        "        yield(gensim.utils.simple_preprocess(str(sentence), deacc=True))  # deacc=True removes punctuations\n",
        "\n",
        "data_words = list(sent_to_words(data))\n",
        "\n",
        "print(data_words[:1])"
      ],
      "execution_count": null,
      "outputs": [
        {
          "output_type": "stream",
          "text": [
            "[['it', 'almost', 'like', 'nobody', 'has', 'ever', 'bought', 'something', 'made', 'in', 'china', 'at', 'home', 'depot', 'and', 'have', 'it', 'break', 'in', 'hours']]\n"
          ],
          "name": "stdout"
        }
      ]
    },
    {
      "cell_type": "markdown",
      "metadata": {
        "id": "xUiumU5o1a4e"
      },
      "source": [
        "2-3. Remove stopwords"
      ]
    },
    {
      "cell_type": "code",
      "metadata": {
        "id": "d206OL2_1a4e",
        "colab": {
          "base_uri": "https://localhost:8080/"
        },
        "outputId": "cdd8a1f6-7d2a-4a88-8150-70306e9ffd63"
      },
      "source": [
        "# Prepare stopwords using NLTK\n",
        "stop_words = stopwords.words('english')\n",
        "\n",
        "# You can add other words to the list of stop words as well\n",
        "stop_words.extend(['from', 'subject', 're', 'edu', 'use', 'amp'])\n",
        "\n",
        "def remove_stopwords(texts):\n",
        "    return [[word for word in simple_preprocess(str(doc)) if word not in stop_words] for doc in texts]\n",
        "\n",
        "# Remove Stop Words\n",
        "data_words_nostops = remove_stopwords(data_words)\n",
        "print(data_words_nostops[:1])"
      ],
      "execution_count": null,
      "outputs": [
        {
          "output_type": "stream",
          "text": [
            "[['almost', 'like', 'nobody', 'ever', 'bought', 'something', 'made', 'china', 'home', 'depot', 'break', 'hours']]\n"
          ],
          "name": "stdout"
        }
      ]
    },
    {
      "cell_type": "markdown",
      "metadata": {
        "id": "UIbcK_xF1a4e"
      },
      "source": [
        "2-4. Bigram extraction"
      ]
    },
    {
      "cell_type": "code",
      "metadata": {
        "id": "olcVzLcv1a4e",
        "colab": {
          "base_uri": "https://localhost:8080/"
        },
        "outputId": "c2cf794b-3afb-4c5a-956a-770a0b3493a7"
      },
      "source": [
        "# Build the bigram models\n",
        "bigram = gensim.models.Phrases(data_words, min_count=5, threshold=10) # higher threshold fewer phrases.\n",
        "\n",
        "# Faster way to get a sentence clubbed as a bigram\n",
        "bigram_mod = gensim.models.phrases.Phraser(bigram)\n",
        "\n",
        "def make_bigrams(texts):\n",
        "    return [bigram_mod[doc] for doc in texts]\n",
        "\n",
        "# Form Bigrams\n",
        "data_words_bigrams = make_bigrams(data_words_nostops)\n",
        "\n",
        "print(data_words_bigrams[10])"
      ],
      "execution_count": null,
      "outputs": [
        {
          "output_type": "stream",
          "text": [
            "['coronavirus', 'arrived', 'washington_state', 'like', 'slap', 'face', 'nurse', 'seattle', 'area', 'told', 'read', 'story', 'hospital', 'readiness']\n"
          ],
          "name": "stdout"
        }
      ]
    },
    {
      "cell_type": "markdown",
      "metadata": {
        "id": "L-7jHc_A1a4e"
      },
      "source": [
        "2-5. Lemmatization\n",
        "\n",
        "Lemmatization usually refers to doing things properly with the use of a vocabulary and morphological analysis of words, normally aiming to remove inflectional endings only and to return the base or dictionary form of a word, which is known as the lemma .\n",
        "\n",
        "Stemming and Lemmatization both generate the root form of the inflected words. The difference is that stem might not be an actual word whereas, lemma is an actual language word. Stemming follows an algorithm with steps to perform on the words which makes it faster.\n",
        "\n",
        "We use Spacy for lemmatization. \n",
        "It also allows to consider terms with a particular part of speech tag.\n",
        "We will use nouns (NOUN) and proper nouns (PNOUN) in this example. A proper noun is a specific name for a particular person, place, or thing. See options for part of speech here: https://spacy.io/usage/linguistic-features \n",
        "\n"
      ]
    },
    {
      "cell_type": "code",
      "metadata": {
        "id": "F5d2NFJM1a4f",
        "colab": {
          "base_uri": "https://localhost:8080/"
        },
        "outputId": "9023a00c-6b43-4da0-9816-e762a9edb7f6"
      },
      "source": [
        "def lemmatization(texts, allowed_postags=['NOUN']):\n",
        "    \"\"\"\"\"\"\n",
        "    texts_out = []\n",
        "    for sent in texts:\n",
        "        doc = nlp(\" \".join(sent)) \n",
        "        texts_out.append([token.lemma_ for token in doc if token.pos_ in allowed_postags])\n",
        "    return texts_out\n",
        "\n",
        "# Initialize spacy 'en' model, keeping only tagger component\n",
        "# For normal use\n",
        "# !python -m spacy download en_core_web_sm\n",
        "# nlp = spacy.load('en_core_web_sm', disable=['parser', 'ner'])\n",
        "\n",
        "# For Colab use\n",
        "import en_core_web_sm\n",
        "nlp = en_core_web_sm.load()\n",
        "\n",
        "print(\"Before Lemmatization:\", data_words_bigrams[:1])\n",
        "\n",
        "# Do lemmatization keeping only noun\n",
        "data_lemmatized = lemmatization(data_words_bigrams, allowed_postags=['NOUN', 'PROPN'])\n",
        "\n",
        "print(\"After Lemmatization: \", data_lemmatized[:1])\n"
      ],
      "execution_count": null,
      "outputs": [
        {
          "output_type": "stream",
          "text": [
            "Before Lemmatization: [['almost', 'like', 'nobody', 'ever', 'bought', 'something', 'made', 'china', 'home', 'depot', 'break', 'hours']]\n",
            "After Lemmatization:  [['china', 'home', 'depot', 'break', 'hour']]\n"
          ],
          "name": "stdout"
        }
      ]
    },
    {
      "cell_type": "code",
      "metadata": {
        "id": "wHvuODww1a4f"
      },
      "source": [
        ""
      ],
      "execution_count": null,
      "outputs": []
    },
    {
      "cell_type": "markdown",
      "metadata": {
        "id": "0HMl2k4G1a4g"
      },
      "source": [
        "# 2. Building topic model\n",
        "\n",
        "The two main inputs to the LDA topic model are the dictionary (id2word) and the corpus. Let’s create them.\n",
        "\n",
        "Gensim creates a unique id for each word in the document (id2word). Then, the produced corpus is a mapping of (word_id, word_frequency).\n",
        "\n",
        "Check [`gensim.corpora`](https://radimrehurek.com/gensim/corpora/dictionary.html) for details about `filter_extremes()`\n"
      ]
    },
    {
      "cell_type": "code",
      "metadata": {
        "id": "OuUL25JP1a4g",
        "colab": {
          "base_uri": "https://localhost:8080/"
        },
        "outputId": "dcddfc46-a499-43a3-d8ec-8095dbad63d1"
      },
      "source": [
        "# Create Dictionary\n",
        "id2word = corpora.Dictionary(data_lemmatized)\n",
        "id2word.filter_extremes(no_below=1.5, no_above=0.8) # below 1.5 times and above 80 percent  this will filter out words that are less frequen\n",
        "\n",
        "# Create Corpus\n",
        "texts = data_lemmatized\n",
        "\n",
        "# Term Document Frequency\n",
        "corpus = [id2word.doc2bow(text) for text in texts]\n",
        "\n",
        "# View\n",
        "print(corpus[:1])"
      ],
      "execution_count": null,
      "outputs": [
        {
          "output_type": "stream",
          "text": [
            "[[(0, 1), (1, 1), (2, 1), (3, 1), (4, 1)]]\n"
          ],
          "name": "stdout"
        }
      ]
    },
    {
      "cell_type": "markdown",
      "metadata": {
        "id": "GLBsgQY41a4g"
      },
      "source": [
        "For example, (0, 1) above implies, word id 0 occurs once in the first document. Likewise, word id 1 occurs once and so on.\n",
        "\n",
        "This is used as the input by the LDA model.\n",
        "\n",
        "If you want to see what word a given id corresponds to, pass the id as a key to the dictionary (id2word)."
      ]
    },
    {
      "cell_type": "code",
      "metadata": {
        "id": "lRcHp9431a4g",
        "colab": {
          "base_uri": "https://localhost:8080/"
        },
        "outputId": "7f37c6bb-0999-4739-ea8d-2395fafc92a1"
      },
      "source": [
        "print(id2word[0], id2word[1], id2word[2], id2word[3], id2word[4])\n"
      ],
      "execution_count": null,
      "outputs": [
        {
          "output_type": "stream",
          "text": [
            "break china depot home hour\n"
          ],
          "name": "stdout"
        }
      ]
    },
    {
      "cell_type": "markdown",
      "metadata": {
        "id": "mi84M-Uc1a4g"
      },
      "source": [
        "To build LDA model, you need to specify the number of topics apart from the dictionary (id2word) and the corpus. \n",
        "\n",
        "Passes is the total number of training passes. The larger passes would refine the assignment of words for topics. \n",
        "\n",
        "Check other parameters of LDA model [here](https://radimrehurek.com/gensim/models/ldamodel.html). "
      ]
    },
    {
      "cell_type": "code",
      "metadata": {
        "id": "ouRtriRO1a4h",
        "colab": {
          "base_uri": "https://localhost:8080/"
        },
        "outputId": "fdd701d1-147b-498c-8632-83d7e4f68e0a"
      },
      "source": [
        "# Build LDA model\n",
        "\n",
        "# Let's start with 2 topics.\n",
        "lda_model = models.LdaModel(corpus=corpus, id2word=id2word, num_topics=2, passes=10)\n",
        "lda_model.print_topics()"
      ],
      "execution_count": null,
      "outputs": [
        {
          "output_type": "execute_result",
          "data": {
            "text/plain": [
              "[(0,\n",
              "  '0.083*\"coronavirus\" + 0.016*\"people\" + 0.014*\"trump\" + 0.011*\"china\" + 0.009*\"news\" + 0.008*\"none_en\" + 0.007*\"time\" + 0.007*\"death\" + 0.006*\"virus\" + 0.006*\"president\"'),\n",
              " (1,\n",
              "  '0.059*\"coronavirus\" + 0.036*\"covid\" + 0.014*\"china\" + 0.013*\"pandemic\" + 0.009*\"case\" + 0.008*\"people\" + 0.007*\"state\" + 0.007*\"thing\" + 0.007*\"time\" + 0.006*\"virus\"')]"
            ]
          },
          "metadata": {
            "tags": []
          },
          "execution_count": 15
        }
      ]
    },
    {
      "cell_type": "markdown",
      "metadata": {
        "id": "nE2uVECG1a4h"
      },
      "source": [
        "How to interpret a LDA topic?\n",
        "\n",
        "Topic 0 is a represented as  `0.050*\"coronavirus\" + 0.021*\"china\" + 0.011*\"case\" + 0.010*\"virus\" + 0.008*\"day\" + 0.007*\"cdc\" + 0.007*\"world\" + 0.007*\"death\" + 0.006*\"covid\" + 0.006*\"time\"`\n",
        "\n",
        "It means the top 10 keywords that contribute to this topic are: 'coronavirus', 'china', 'case', ... and so on and the weight of 'coronavirus' on topic 0 is 0.05.\n",
        "\n",
        "The weights reflect how important a keyword is to that topic. \n",
        "\n",
        "Looking at these keywords, can you guess what this topic could be? You may summarise it either are 'covid-19 update' or 'covid-19 news.'\n",
        "\n",
        "Likewise, Topic 1 could be 'Trump' or 'politics.'\n"
      ]
    },
    {
      "cell_type": "code",
      "metadata": {
        "id": "vyIoEjo91a4h",
        "scrolled": false,
        "colab": {
          "base_uri": "https://localhost:8080/"
        },
        "outputId": "28b85ee3-24ea-4bc2-8e16-997ff601b263"
      },
      "source": [
        "# 3 topics.\n",
        "lda_model = models.LdaModel(corpus=corpus, id2word=id2word, num_topics=3, passes=10)\n",
        "lda_model.print_topics()"
      ],
      "execution_count": null,
      "outputs": [
        {
          "output_type": "execute_result",
          "data": {
            "text/plain": [
              "[(0,\n",
              "  '0.047*\"coronavirus\" + 0.034*\"people\" + 0.027*\"covid\" + 0.015*\"none_en\" + 0.009*\"mar_false\" + 0.009*\"hand\" + 0.009*\"pandemic\" + 0.008*\"world\" + 0.008*\"flu\" + 0.008*\"shit\"'),\n",
              " (1,\n",
              "  '0.068*\"coronavirus\" + 0.030*\"china\" + 0.014*\"news\" + 0.009*\"time\" + 0.009*\"trump\" + 0.007*\"people\" + 0.007*\"covidー\" + 0.007*\"thing\" + 0.006*\"covid\" + 0.006*\"world\"'),\n",
              " (2,\n",
              "  '0.090*\"coronavirus\" + 0.025*\"covid\" + 0.015*\"case\" + 0.011*\"trump\" + 0.011*\"day\" + 0.010*\"virus\" + 0.008*\"state\" + 0.008*\"china\" + 0.006*\"death\" + 0.006*\"president\"')]"
            ]
          },
          "metadata": {
            "tags": []
          },
          "execution_count": 16
        }
      ]
    },
    {
      "cell_type": "code",
      "metadata": {
        "id": "awzsAU111a4h",
        "scrolled": true,
        "colab": {
          "base_uri": "https://localhost:8080/"
        },
        "outputId": "1208f226-10df-4e8c-f846-622f5271360a"
      },
      "source": [
        "# 10 topics.\n",
        "lda_model = models.LdaModel(corpus=corpus, id2word=id2word, num_topics=10, passes=10)\n",
        "lda_model.print_topics()"
      ],
      "execution_count": null,
      "outputs": [
        {
          "output_type": "execute_result",
          "data": {
            "text/plain": [
              "[(0,\n",
              "  '0.087*\"china\" + 0.055*\"coronavirus\" + 0.019*\"virus\" + 0.016*\"wuhan\" + 0.016*\"day\" + 0.016*\"medium\" + 0.016*\"life\" + 0.015*\"thank\" + 0.015*\"coronavirus_outbreak\" + 0.014*\"market\"'),\n",
              " (1,\n",
              "  '0.093*\"coronavirus\" + 0.019*\"thing\" + 0.015*\"video\" + 0.012*\"fact\" + 0.011*\"pandemic\" + 0.010*\"trump\" + 0.010*\"god\" + 0.009*\"meeting\" + 0.009*\"lie\" + 0.009*\"florida\"'),\n",
              " (2,\n",
              "  '0.056*\"coronavirus\" + 0.037*\"none_en\" + 0.023*\"mar_false\" + 0.020*\"covid\" + 0.019*\"hand\" + 0.018*\"today\" + 0.013*\"new_york\" + 0.012*\"time\" + 0.011*\"corona_virus\" + 0.011*\"news\"'),\n",
              " (3,\n",
              "  '0.027*\"coronavirus\" + 0.022*\"people\" + 0.018*\"covid\" + 0.017*\"city\" + 0.017*\"event\" + 0.014*\"trump\" + 0.013*\"question\" + 0.012*\"pandemic\" + 0.012*\"leader\" + 0.011*\"resource\"'),\n",
              " (4,\n",
              "  '0.136*\"coronavirus\" + 0.030*\"people\" + 0.014*\"quarantine\" + 0.012*\"flu\" + 0.011*\"test\" + 0.011*\"patient\" + 0.011*\"death\" + 0.010*\"time\" + 0.010*\"california\" + 0.010*\"china\"'),\n",
              " (5,\n",
              "  '0.069*\"coronavirus\" + 0.039*\"trump\" + 0.029*\"world\" + 0.028*\"virus\" + 0.022*\"time\" + 0.019*\"covid\" + 0.019*\"president\" + 0.018*\"mask\" + 0.015*\"people\" + 0.015*\"number\"'),\n",
              " (6,\n",
              "  '0.064*\"coronavirus\" + 0.062*\"covid\" + 0.039*\"state\" + 0.031*\"case\" + 0.017*\"county\" + 0.016*\"emergency\" + 0.013*\"person\" + 0.012*\"week\" + 0.011*\"health\" + 0.010*\"cdc\"'),\n",
              " (7,\n",
              "  '0.064*\"coronavirus\" + 0.022*\"work\" + 0.016*\"amid_coronavirus\" + 0.016*\"covid\" + 0.015*\"travel\" + 0.015*\"china\" + 0.014*\"risk\" + 0.013*\"outbreak\" + 0.013*\"crisis\" + 0.012*\"hospital\"'),\n",
              " (8,\n",
              "  '0.061*\"coronavirus\" + 0.030*\"covid\" + 0.022*\"shit\" + 0.020*\"corona\" + 0.016*\"people\" + 0.014*\"pandemic\" + 0.012*\"store\" + 0.009*\"business\" + 0.008*\"man\" + 0.008*\"food\"'),\n",
              " (9,\n",
              "  '0.037*\"coronavirus\" + 0.023*\"man\" + 0.019*\"money\" + 0.017*\"pandemic\" + 0.014*\"control\" + 0.014*\"nyc\" + 0.013*\"covid\" + 0.010*\"student\" + 0.010*\"decision\" + 0.010*\"movie\"')]"
            ]
          },
          "metadata": {
            "tags": []
          },
          "execution_count": 17
        }
      ]
    },
    {
      "cell_type": "markdown",
      "metadata": {
        "id": "gzLw_uWC1a4i"
      },
      "source": [
        "# 3. Topic coference \n",
        "\n",
        "Model perplexity and [topic coherence](https://rare-technologies.com/what-is-topic-coherence/) provide a convenient measure to judge how good a given topic model is. Topic Coherence measures score a single topic by measuring the degree of semantic similarity between high scoring words in the topic. There are two major types C_V typically 0 < x < 1 and uMass -14 < x < 14. When using c_v, the coference score of >0.5 would be considered to be good and it would be rare to see a > 0.9. See more [here](https://stackoverflow.com/questions/54762690/what-is-the-meaning-of-coherence-score-0-4-is-it-good-or-bad). \n"
      ]
    },
    {
      "cell_type": "code",
      "metadata": {
        "id": "LwDoTCSo1a4i",
        "colab": {
          "base_uri": "https://localhost:8080/"
        },
        "outputId": "4be77ec6-c862-4c56-a6af-5dc5f4c19f72"
      },
      "source": [
        "# Compute Perplexity\n",
        "print('\\nPerplexity: ', lda_model.log_perplexity(corpus))  # a measure of how good the model is. lower the better.\n",
        "\n",
        "# Compute Coherence Score\n",
        "coherence_model_lda = CoherenceModel(model=lda_model, texts=data_lemmatized, dictionary=id2word, coherence='c_v')\n",
        "coherence_lda = coherence_model_lda.get_coherence()\n",
        "print('\\nCoherence Score: ', coherence_lda)"
      ],
      "execution_count": null,
      "outputs": [
        {
          "output_type": "stream",
          "text": [
            "\n",
            "Perplexity:  -7.536483725264657\n",
            "\n",
            "Coherence Score:  0.3881158043061184\n"
          ],
          "name": "stdout"
        }
      ]
    },
    {
      "cell_type": "markdown",
      "metadata": {
        "id": "N-3_37vL1a4i"
      },
      "source": [
        "# 4. How to find the optimal number of topics for LDA?"
      ]
    },
    {
      "cell_type": "markdown",
      "metadata": {
        "id": "ghNO-84J1a4i"
      },
      "source": [
        "To find the optimal number of topics, we will build many LDA models with different values of number of topics (k) and pick the one that gives the highest coherence value.\n",
        "\n",
        "Choosing a 'k' that marks the end of a rapid growth of topic coherence usually offers meaningful and interpretable topics. Picking an even higher value can sometimes provide more granular sub-topics.\n",
        "\n",
        "If you see the same keywords being repeated in multiple topics, it’s probably a sign that the ‘k’ is too large.\n",
        "\n",
        "We will use the elbow method, a visualization of changes of coherenve value by varying k, which gives us a graph of the optimal number of topics for greatest coherence. Check out [this](https://datascienceplus.com/evaluation-of-topic-modeling-topic-coherence/) for more for the elbow method.\n",
        "\n",
        "The compute_coherence_values() (see below) trains multiple LDA models and provides the models and their corresponding coherence scores.\n"
      ]
    },
    {
      "cell_type": "code",
      "metadata": {
        "id": "Wf6SbdDl1a4i"
      },
      "source": [
        "def compute_coherence_values(dictionary, corpus, texts, limit, start=2, step=3):\n",
        "    \"\"\"\n",
        "    Compute c_v coherence for various number of topics\n",
        "\n",
        "    Parameters:\n",
        "    ----------\n",
        "    dictionary : Gensim dictionary\n",
        "    corpus : Gensim corpus\n",
        "    texts : List of input texts\n",
        "    limit : Max num of topics\n",
        "\n",
        "    Returns:\n",
        "    -------\n",
        "    model_list : List of LDA topic models\n",
        "    coherence_values : Coherence values corresponding to the LDA model with respective number of topics\n",
        "    \"\"\"\n",
        "    coherence_values = []\n",
        "    model_list = []\n",
        "    for num_topics in range(start, limit, step):\n",
        "        print(f'Training model for num_topics= {num_topics}')\n",
        "        model = models.LdaModel(corpus=corpus, id2word=id2word, num_topics=num_topics, passes=10)\n",
        "        model_list.append(model)\n",
        "        coherencemodel = CoherenceModel(model=model, texts=texts, dictionary=dictionary, coherence='c_v')\n",
        "        coherence_values.append(coherencemodel.get_coherence())\n",
        "\n",
        "    return model_list, coherence_values"
      ],
      "execution_count": null,
      "outputs": []
    },
    {
      "cell_type": "code",
      "metadata": {
        "id": "rkcAQyM51a4i"
      },
      "source": [
        "start = 2\n",
        "limit = 60\n",
        "step = 6"
      ],
      "execution_count": null,
      "outputs": []
    },
    {
      "cell_type": "code",
      "metadata": {
        "id": "NgSQq1IM1a4j",
        "colab": {
          "base_uri": "https://localhost:8080/"
        },
        "outputId": "153fd745-91e8-4a5e-80f4-9b3982fc3614"
      },
      "source": [
        "# Can take a long time to run.\n",
        "model_list, coherence_values = compute_coherence_values(dictionary=id2word, corpus=corpus, texts=data_lemmatized, start=start, limit=limit, step=step)\n",
        "print('Completed!')"
      ],
      "execution_count": null,
      "outputs": [
        {
          "output_type": "stream",
          "text": [
            "Training model for num_topics= 2\n",
            "Training model for num_topics= 8\n",
            "Training model for num_topics= 14\n",
            "Training model for num_topics= 20\n",
            "Training model for num_topics= 26\n",
            "Training model for num_topics= 32\n",
            "Training model for num_topics= 38\n",
            "Training model for num_topics= 44\n",
            "Training model for num_topics= 50\n",
            "Training model for num_topics= 56\n",
            "Completed!\n"
          ],
          "name": "stdout"
        }
      ]
    },
    {
      "cell_type": "code",
      "metadata": {
        "id": "q1mhR9oQ1a4j",
        "colab": {
          "base_uri": "https://localhost:8080/",
          "height": 279
        },
        "outputId": "5807bb47-ceff-4a50-98fb-8ab9f006affa"
      },
      "source": [
        "# Show graph\n",
        "x = range(start, limit, step)\n",
        "plt.plot(x, coherence_values)\n",
        "plt.xlabel(\"Num Topics\")\n",
        "plt.ylabel(\"Coherence score\")\n",
        "plt.legend((\"coherence_values\"), loc='best')\n",
        "plt.show()"
      ],
      "execution_count": null,
      "outputs": [
        {
          "output_type": "display_data",
          "data": {
            "image/png": "[encoded data removed]",
            "text/plain": [
              "<Figure size 432x288 with 1 Axes>"
            ]
          },
          "metadata": {
            "tags": [],
            "needs_background": "light"
          }
        }
      ]
    },
    {
      "cell_type": "code",
      "metadata": {
        "id": "ctC1Dq-j1a4j",
        "colab": {
          "base_uri": "https://localhost:8080/"
        },
        "outputId": "86e59227-88f2-4e4d-e081-e5ab7157523d"
      },
      "source": [
        "# Print the coherence scores\n",
        "for m, cv in zip(x, coherence_values):\n",
        "    print(\"Num Topics =\", m, \" has Coherence Value of\", round(cv, 4))"
      ],
      "execution_count": null,
      "outputs": [
        {
          "output_type": "stream",
          "text": [
            "Num Topics = 2  has Coherence Value of 0.301\n",
            "Num Topics = 8  has Coherence Value of 0.3677\n",
            "Num Topics = 14  has Coherence Value of 0.436\n",
            "Num Topics = 20  has Coherence Value of 0.4757\n",
            "Num Topics = 26  has Coherence Value of 0.5036\n",
            "Num Topics = 32  has Coherence Value of 0.5504\n",
            "Num Topics = 38  has Coherence Value of 0.5516\n",
            "Num Topics = 44  has Coherence Value of 0.5627\n",
            "Num Topics = 50  has Coherence Value of 0.56\n",
            "Num Topics = 56  has Coherence Value of 0.562\n"
          ],
          "name": "stdout"
        }
      ]
    },
    {
      "cell_type": "markdown",
      "metadata": {
        "id": "CddSV2uf1a4j"
      },
      "source": [
        "# 5. Best LDA model"
      ]
    },
    {
      "cell_type": "markdown",
      "metadata": {
        "id": "un_adUNp1a4j"
      },
      "source": [
        "So for further steps I will choose the model with 26 topics itself.\n",
        "By increasing the number of passes, the topics can be refined. "
      ]
    },
    {
      "cell_type": "code",
      "metadata": {
        "id": "6gFT2alU1a4j"
      },
      "source": [
        "best_num_topics = 26"
      ],
      "execution_count": null,
      "outputs": []
    },
    {
      "cell_type": "code",
      "metadata": {
        "id": "FrclY3Re1a4k",
        "scrolled": false,
        "colab": {
          "base_uri": "https://localhost:8080/"
        },
        "outputId": "a7f09292-19c9-44a6-880e-62d32a8db8bf"
      },
      "source": [
        "# Build LDA model\n",
        "lda_model = models.LdaModel(corpus=corpus, id2word=id2word, num_topics=best_num_topics, passes= 60)\n",
        "lda_model.print_topics()\n"
      ],
      "execution_count": null,
      "outputs": [
        {
          "output_type": "execute_result",
          "data": {
            "text/plain": [
              "[(15,\n",
              "  '0.077*\"coronavirus\" + 0.070*\"hand\" + 0.065*\"shit\" + 0.032*\"community\" + 0.030*\"rate\" + 0.025*\"story\" + 0.023*\"new_york\" + 0.022*\"infection\" + 0.021*\"cdc\" + 0.018*\"covid\"'),\n",
              " (7,\n",
              "  '0.122*\"coronavirus\" + 0.113*\"news\" + 0.041*\"expert\" + 0.022*\"covid\" + 0.022*\"deal\" + 0.019*\"chance\" + 0.018*\"ncov\" + 0.017*\"piece\" + 0.012*\"warning\" + 0.011*\"loan\"'),\n",
              " (18,\n",
              "  '0.075*\"year\" + 0.063*\"china\" + 0.061*\"market\" + 0.060*\"vaccine\" + 0.053*\"economy\" + 0.046*\"job\" + 0.040*\"coronavirus\" + 0.020*\"war\" + 0.020*\"ohio\" + 0.017*\"biden\"'),\n",
              " (1,\n",
              "  '0.101*\"coronavirus_outbreak\" + 0.075*\"corona\" + 0.041*\"relief\" + 0.039*\"coronavirus\" + 0.031*\"action\" + 0.031*\"hell\" + 0.028*\"ass\" + 0.023*\"republicans\" + 0.019*\"statement\" + 0.018*\"apple\"'),\n",
              " (5,\n",
              "  '0.091*\"world\" + 0.076*\"coronavirus\" + 0.071*\"covidー\" + 0.063*\"business\" + 0.038*\"order\" + 0.031*\"part\" + 0.024*\"department\" + 0.021*\"covid\" + 0.019*\"ppl\" + 0.019*\"italy\"'),\n",
              " (0,\n",
              "  '0.193*\"china\" + 0.069*\"virus\" + 0.044*\"coronavirus\" + 0.044*\"county\" + 0.037*\"outbreak\" + 0.034*\"update\" + 0.032*\"information\" + 0.019*\"novel_coronavirus\" + 0.017*\"face\" + 0.015*\"concern\"'),\n",
              " (19,\n",
              "  '0.088*\"cdc\" + 0.062*\"hospital\" + 0.047*\"coronavirus\" + 0.041*\"covid\" + 0.034*\"month\" + 0.025*\"care\" + 0.024*\"store\" + 0.022*\"scientist\" + 0.021*\"resource\" + 0.020*\"nurse\"'),\n",
              " (24,\n",
              "  '0.063*\"coronavirus\" + 0.032*\"employee\" + 0.020*\"south\" + 0.018*\"population\" + 0.018*\"community\" + 0.017*\"safety\" + 0.016*\"weekend\" + 0.015*\"read\" + 0.015*\"white\" + 0.014*\"wtf\"'),\n",
              " (9,\n",
              "  '0.066*\"quarantine\" + 0.063*\"coronavirus\" + 0.031*\"food\" + 0.031*\"thought\" + 0.028*\"child\" + 0.026*\"covid\" + 0.024*\"issue\" + 0.023*\"social_distancing\" + 0.021*\"mayor\" + 0.018*\"restaurant\"'),\n",
              " (6,\n",
              "  '0.101*\"coronavirus\" + 0.065*\"life\" + 0.036*\"new\" + 0.034*\"symptom\" + 0.032*\"report\" + 0.029*\"team\" + 0.026*\"treatment\" + 0.023*\"government\" + 0.020*\"game\" + 0.016*\"idiot\"'),\n",
              " (22,\n",
              "  '0.067*\"coronavirus\" + 0.064*\"man\" + 0.063*\"wuhan\" + 0.049*\"test\" + 0.045*\"doctor\" + 0.039*\"americans\" + 0.039*\"lot\" + 0.039*\"china\" + 0.033*\"control\" + 0.032*\"us\"'),\n",
              " (23,\n",
              "  '0.162*\"pandemic\" + 0.115*\"day\" + 0.061*\"covid\" + 0.039*\"testing\" + 0.036*\"florida\" + 0.031*\"official\" + 0.021*\"lie\" + 0.021*\"state\" + 0.018*\"course\" + 0.016*\"problem\"'),\n",
              " (17,\n",
              "  '0.081*\"week\" + 0.058*\"student\" + 0.043*\"panic\" + 0.042*\"plan\" + 0.041*\"love\" + 0.029*\"check\" + 0.023*\"coronavirus\" + 0.022*\"hope\" + 0.020*\"access\" + 0.018*\"music\"'),\n",
              " (16,\n",
              "  '0.102*\"covid\" + 0.053*\"city\" + 0.047*\"school\" + 0.035*\"point\" + 0.029*\"coronavirus\" + 0.023*\"gt\" + 0.022*\"texas\" + 0.020*\"great\" + 0.020*\"town\" + 0.020*\"stuff\"'),\n",
              " (2,\n",
              "  '0.146*\"case\" + 0.103*\"coronavirus\" + 0.085*\"death\" + 0.046*\"number\" + 0.039*\"thank\" + 0.029*\"threat\" + 0.028*\"press\" + 0.023*\"conference\" + 0.022*\"today\" + 0.022*\"covid\"'),\n",
              " (14,\n",
              "  '0.172*\"coronavirus\" + 0.171*\"trump\" + 0.054*\"country\" + 0.042*\"mask\" + 0.026*\"fact\" + 0.018*\"hoax\" + 0.018*\"nyc\" + 0.016*\"iran\" + 0.016*\"response\" + 0.015*\"cnn\"'),\n",
              " (8,\n",
              "  '0.082*\"coronavirus\" + 0.053*\"covid\" + 0.047*\"question\" + 0.032*\"public_health\" + 0.025*\"_\" + 0.019*\"book\" + 0.018*\"dr\" + 0.017*\"start\" + 0.015*\"hong_kong\" + 0.014*\"poll\"'),\n",
              " (21,\n",
              "  '0.104*\"coronavirus\" + 0.070*\"way\" + 0.050*\"response\" + 0.030*\"medium\" + 0.025*\"march\" + 0.024*\"leader\" + 0.024*\"emergency\" + 0.018*\"covid\" + 0.017*\"ban\" + 0.016*\"nation\"'),\n",
              " (25,\n",
              "  '0.068*\"crisis\" + 0.065*\"work\" + 0.056*\"health\" + 0.053*\"coronavirus\" + 0.049*\"family\" + 0.046*\"home\" + 0.031*\"help\" + 0.030*\"person\" + 0.028*\"worker\" + 0.025*\"call\"'),\n",
              " (10,\n",
              "  '0.258*\"people\" + 0.095*\"coronavirus\" + 0.070*\"thing\" + 0.032*\"god\" + 0.023*\"bill\" + 0.021*\"money\" + 0.020*\"thread\" + 0.020*\"house\" + 0.019*\"event\" + 0.016*\"meeting\"')]"
            ]
          },
          "metadata": {
            "tags": []
          },
          "execution_count": 25
        }
      ]
    },
    {
      "cell_type": "markdown",
      "metadata": {
        "id": "5mJR--Mq1a4k"
      },
      "source": [
        "# 6. Visualize LDA topics\n",
        "\n",
        "pyLDAvis is designed to help users interpret the topics in a topic model that has been fit to a corpus of text data. The package extracts information from a fitted LDA topic model to inform an interactive web-based visualization.\n"
      ]
    },
    {
      "cell_type": "code",
      "metadata": {
        "id": "geW6Xtlj1a4k",
        "scrolled": false,
        "colab": {
          "base_uri": "https://localhost:8080/",
          "height": 861
        },
        "outputId": "10001319-63c5-47d8-d0f3-5cc4dfb40a6b"
      },
      "source": [
        "# Visualize the topics\n",
        "pyLDAvis.enable_notebook()\n",
        "vis = pyLDAvis.gensim_models.prepare(lda_model, corpus, id2word)\n",
        "vis"
      ],
      "execution_count": null,
      "outputs": [
        {
          "output_type": "execute_result",
          "data": {
            "text/html": [
              "\n",
              "<link rel=\"stylesheet\" type=\"text/css\" href=\"https://cdn.jsdelivr.net/gh/bmabey/pyLDAvis@3.3.0/pyLDAvis/js/ldavis.v1.0.0.css\">\n",
              "\n",
              "\n",
              "<div id=\"ldavis_el1541399290410864161530318578\"></div>\n",
              "<script type=\"text/javascript\">\n",
              "\n",
              "var ldavis_el1541399290410864161530318578_data = {\"mdsDat\": {\"x\": [-0.07634556384149734, -0.04777714343260084, -0.027545267847114648, -0.2156664927333753, 0.05063131535419547, 0.05862552838942398, -0.029924712280176676, 0.054530704235899743, -0.20459549639670174, 0.12243375546614069, 0.020412896407910896, 0.019077399647624522, 0.0507751628937395, 0.032755951295776686, -0.008247135499130118, 0.06454286484294926, -0.02036554088695554, -0.2240123074729917, 0.10686631561769515, 0.14757726686600547, -0.03399971879752628, 0.08580418725525484, 0.003002766886412952, 0.037319084323871626, 0.06068797248283288, -0.026563792777664286], \"y\": [0.13535989009659488, 0.1467916480865591, 0.0401639756081261, -0.16914022961609587, 0.06331673518292363, 0.07875847548999819, 0.11140777193750206, 0.002186165194246392, -0.07808897818739167, -0.20565389398975809, 0.05626902893736294, 0.0452630402956226, -0.013932869036529223, 0.0017303210907290603, 0.10706779714784312, -0.07404830772047896, -0.022604853288207372, -0.10224920057436918, -0.029290567632555463, -0.1433096614792191, 0.08126678413865662, 0.0022709619577486076, -0.0032122223026196835, 0.0021205442183622808, -0.07539578941703876, 0.04295343386198789], \"topics\": [1, 2, 3, 4, 5, 6, 7, 8, 9, 10, 11, 12, 13, 14, 15, 16, 17, 18, 19, 20, 21, 22, 23, 24, 25, 26], \"cluster\": [1, 1, 1, 1, 1, 1, 1, 1, 1, 1, 1, 1, 1, 1, 1, 1, 1, 1, 1, 1, 1, 1, 1, 1, 1, 1], \"Freq\": [4.844622490930747, 4.764977337469649, 4.748698066582153, 4.743124156665387, 4.471077442757224, 4.285591043828378, 4.157699591761391, 4.06393707198626, 4.01190226943563, 4.0057468373023255, 3.9602236659671024, 3.8751375629019607, 3.8644460144607327, 3.845761727513, 3.8393644648308682, 3.7850063890149235, 3.668770024257923, 3.5260245323575723, 3.459061421699921, 3.4279518431942644, 3.358617336844983, 3.2863259491490995, 3.1192502033450755, 3.048822234216946, 2.9432380901734785, 2.8946222313530043]}, \"tinfo\": {\"Term\": [\"people\", \"china\", \"trump\", \"time\", \"pandemic\", \"case\", \"news\", \"day\", \"covid\", \"none_en\", \"world\", \"death\", \"cdc\", \"coronavirus_outbreak\", \"thing\", \"virus\", \"way\", \"president\", \"covid\\u30fc\", \"crisis\", \"year\", \"week\", \"hand\", \"work\", \"life\", \"wuhan\", \"man\", \"business\", \"mar_false\", \"country\", \"trump\", \"mask\", \"fact\", \"hoax\", \"nyc\", \"cnn\", \"claim\", \"democrat\", \"power\", \"prevention\", \"media\", \"view\", \"mexico\", \"chicago\", \"drive\", \"rumor\", \"member\", \"pa\", \"country\", \"abc_news\", \"ag\", \"license\", \"nursing_home\", \"laugh\", \"hill\", \"michigan\", \"ashamed\", \"joy\", \"shoutout\", \"close\", \"congress\", \"iran\", \"briefing\", \"wednesday\", \"advice\", \"coronavirus\", \"victim\", \"response\", \"tonight\", \"democrats\", \"virus\", \"america\", \"people\", \"thing\", \"god\", \"thread\", \"meeting\", \"decision\", \"st\", \"group\", \"foot\", \"tax\", \"first_case\", \"house\", \"bullshit\", \"stay_safe\", \"kushner\", \"israel\", \"sick\", \"justice\", \"last_year\", \"reporting\", \"diagnosis\", \"spending\", \"dollar\", \"pence\", \"enjoy\", \"tfw\", \"money\", \"think\", \"support\", \"caregiver\", \"administration\", \"office\", \"bill\", \"lockdown\", \"trial\", \"event\", \"fight\", \"kid\", \"name\", \"coronavirus\", \"charge\", \"today\", \"state\", \"way\", \"leader\", \"ban\", \"stay_home\", \"watch\", \"movie\", \"coronavirus_fear\", \"bbc_news\", \"wave\", \"incompetence\", \"night\", \"live\", \"brother\", \"date\", \"light\", \"influenza\", \"preparation\", \"bernie\", \"march\", \"timeline\", \"bill_gates\", \"failure\", \"activity\", \"box\", \"dr_fauci\", \"lead\", \"global_health\", \"preparedness\", \"pay\", \"aid\", \"level\", \"medium\", \"other\", \"response\", \"fund\", \"nation\", \"emergency\", \"line\", \"challenge\", \"law\", \"park\", \"coronavirus\", \"state\", \"government\", \"covid\", \"virus\", \"americans\", \"outbreak\", \"update\", \"novel_coronavirus\", \"page\", \"tip\", \"chain\", \"trust\", \"sars\", \"insurance\", \"chief\", \"campus\", \"budget\", \"test_results\", \"spain\", \"soul\", \"insight\", \"career\", \"warfare\", \"cost\", \"ignorance\", \"smartnews\", \"cancer\", \"rat\", \"cotton\", \"warren\", \"coach\", \"county\", \"relationship\", \"rd\", \"filter\", \"welfare\", \"china\", \"united_states\", \"concern\", \"share\", \"information\", \"outbreak\", \"face\", \"virus\", \"situation\", \"right\", \"post\", \"thousand\", \"dem\", \"travel\", \"coronavirus\", \"city\", \"wuhan\", \"state\", \"covid\", \"country\", \"supply\", \"america\", \"news\", \"deal\", \"chance\", \"ncov\", \"piece\", \"warning\", \"loan\", \"package\", \"couple\", \"fire\", \"matter\", \"oil\", \"germany\", \"fauci\", \"rep\", \"phase\", \"gas\", \"shelter\", \"globe\", \"intelligence\", \"expert\", \"narrative\", \"moron\", \"est\", \"vice_president\", \"olympics\", \"item\", \"assistance\", \"rescue\", \"stupidity\", \"lawmaker\", \"coronavirus\", \"email\", \"covid\", \"public_health\", \"white_house\", \"us\", \"case\", \"death\", \"thank\", \"threat\", \"press\", \"result\", \"heart\", \"new_cases\", \"pm\", \"release\", \"hiv\", \"msnbc\", \"scam\", \"gathering\", \"singapore\", \"record\", \"death_rate\", \"mike_pence\", \"argument\", \"fox\", \"senior\", \"factory\", \"ad\", \"alarm\", \"conference\", \"west\", \"jump\", \"donor\", \"los_angeles\", \"bernie_sanders\", \"number\", \"idea\", \"epidemic\", \"wife\", \"yesterday\", \"letter\", \"today\", \"coronavirus\", \"covid\", \"dr\", \"president\", \"family\", \"home\", \"precaution\", \"king\", \"demand\", \"employer\", \"scare\", \"sun\", \"hearing\", \"picture\", \"work\", \"medicine\", \"crisis\", \"matt\", \"board\", \"small_business\", \"physician\", \"high_risk\", \"arrest\", \"freedom\", \"clown\", \"walk\", \"old\", \"games\", \"sister\", \"collaboration\", \"statistic\", \"colleague\", \"feature\", \"end\", \"worker\", \"help\", \"health\", \"person\", \"call\", \"funding\", \"system\", \"health_care\", \"perspective\", \"council\", \"democrats\", \"ebola\", \"world\", \"change\", \"coronavirus\", \"today\", \"bill\", \"care\", \"resident\", \"cruise_ship\", \"price\", \"tested_positive\", \"th\", \"education\", \"condition\", \"spread\", \"human\", \"fda\", \"visit\", \"station\", \"cancel\", \"example\", \"account\", \"class\", \"washing\", \"washington_post\", \"spring_break\", \"stat\", \"omg\", \"ventilator\", \"johnson\", \"tag\", \"weinstein\", \"quality\", \"instagram\", \"festival\", \"sxsw\", \"profit\", \"article\", \"patient\", \"amid_coronavirus\", \"age\", \"america\", \"air\", \"passenger\", \"disease\", \"canada\", \"photo\", \"morning\", \"coronavirus\", \"covid\", \"outbreak\", \"person\", \"word\", \"man\", \"doctor\", \"lot\", \"control\", \"truth\", \"citizen\", \"opinion\", \"authority\", \"bank\", \"teacher\", \"fed\", \"officer\", \"map\", \"address\", \"boy\", \"star\", \"minute\", \"asia\", \"top\", \"owner\", \"toll\", \"fool\", \"wuhan\", \"criterion\", \"engineer\", \"karma\", \"accurate\", \"noise\", \"yo\", \"bio\", \"test\", \"reason\", \"americans\", \"donald_trump\", \"measure\", \"healthcare\", \"reality\", \"protect\", \"us\", \"industry\", \"china\", \"coronavirus\", \"system\", \"national\", \"police\", \"virus\", \"hope\", \"pandemic\", \"day\", \"testing\", \"official\", \"lie\", \"course\", \"bc\", \"body\", \"study\", \"facility\", \"priority\", \"father\", \"feeling\", \"follower\", \"golf\", \"recession\", \"percent\", \"santa\", \"co\", \"disneyland\", \"depression\", \"promise\", \"song\", \"epicenter\", \"graph\", \"ground\", \"shopping\", \"tryna\", \"millions\", \"wapo\", \"ny\", \"florida\", \"problem\", \"governor\", \"talk\", \"hold\", \"area\", \"covid\", \"state\", \"test\", \"coronavirus\", \"amid_coronavirus\", \"times\", \"life\", \"symptom\", \"report\", \"treatment\", \"game\", \"idiot\", \"january\", \"fever\", \"looks_like\", \"hotel\", \"track\", \"stock_market\", \"cover\", \"experience\", \"prison\", \"crowd\", \"recommendation\", \"contingency\", \"connecticut\", \"type\", \"difference\", \"fox_news\", \"scott\", \"want\", \"socialism\", \"contagion\", \"camp\", \"partner\", \"cough\", \"attention\", \"team\", \"fan\", \"new\", \"isolation\", \"seattle\", \"washington_state\", \"mom\", \"government\", \"folk\", \"coronavirus\", \"us\", \"covid\", \"plan\", \"patient\", \"covid\\u30fc\", \"business\", \"order\", \"part\", \"department\", \"ppl\", \"lol\", \"conspiracy\", \"theory\", \"tests_positive\", \"live_updates\", \"episode\", \"cpac\", \"africa\", \"north\", \"lesson\", \"stop\", \"option\", \"cat\", \"assumption\", \"breath\", \"bailout\", \"value\", \"international\", \"status\", \"decline\", \"com\", \"minister\", \"land\", \"ugh\", \"world\", \"twitter\", \"misinformation\", \"italy\", \"monday\", \"source\", \"word\", \"tennessee\", \"coronavirus\", \"april\", \"number\", \"state\", \"covid\", \"health\", \"us\", \"time\", \"flu\", \"woman\", \"cause\", \"plague\", \"communist\", \"prevent\", \"south_korea\", \"individual\", \"data\", \"wonder\", \"pain\", \"ship\", \"alabama\", \"president\", \"university\", \"train\", \"content\", \"bat\", \"comment\", \"switch\", \"last_week\", \"bunch\", \"shirt\", \"defeat\", \"affect\", \"crap\", \"az\", \"swine\", \"employment\", \"vote\", \"leadership\", \"guidance\", \"party\", \"wash\", \"new_york\", \"white_house\", \"coronavirus\", \"eye\", \"japan\", \"covid\", \"benefit\", \"friend\", \"president_trump\", \"border\", \"shutdown\", \"hall\", \"dog\", \"majority\", \"danger\", \"tourism\", \"security\", \"look\", \"location\", \"task_force\", \"aids\", \"delivery\", \"webinar\", \"philadelphia\", \"climate\", \"guideline\", \"tour\", \"mother\", \"chaos\", \"wanna\", \"guidelines\", \"australia\", \"sector\", \"spy\", \"doc\", \"jim\", \"digital\", \"church\", \"drug\", \"impact\", \"organization\", \"cure\", \"blog\", \"coronavirus\", \"sunday\", \"covid\", \"europe\", \"virus\", \"crisis\", \"health\", \"government\", \"none_en\", \"mar_false\", \"video\", \"guy\", \"risk\", \"fuck\", \"false_none\", \"shut\", \"foxnews\", \"coronaoutbreak\", \"room\", \"opportunity\", \"candidate\", \"first_death\", \"cuomo\", \"mean\", \"coverage\", \"player\", \"none_none\", \"breaking_news\", \"artist\", \"possibility\", \"nba\", \"therapy\", \"ncaa\", \"figure\", \"lmao\", \"tournament\", \"crash\", \"bet\", \"speech\", \"exposure\", \"company\", \"housing\", \"season\", \"joe\", \"coronavirus\", \"gov\", \"_\", \"medium\", \"hospital\", \"nurse\", \"smartnew\", \"lab\", \"uk\", \"scientist\", \"brain\", \"jesus\", \"model\", \"research\", \"stayhome\", \"professional\", \"cruise\", \"holy\", \"agent\", \"nursing\", \"foundation\", \"wall\", \"grocery\", \"mistake\", \"gear\", \"production\", \"bit\", \"mental_health\", \"capacity\", \"charles\", \"provider\", \"professor\", \"join\", \"tennis\", \"cdc\", \"month\", \"resource\", \"store\", \"blame\", \"care\", \"need\", \"staff\", \"service\", \"covid\", \"coronavirus\", \"virus\", \"us\", \"patient\", \"hand\", \"shit\", \"baby\", \"jail\", \"blood\", \"effort\", \"health_official\", \"worry\", \"alcohol\", \"orange\", \"new_jersey\", \"pneumonia\", \"chill\", \"american_people\", \"reminder\", \"ice\", \"disgrace\", \"vehicle\", \"general\", \"npr\", \"minnesota\", \"national_guard\", \"rapid\", \"cell\", \"analyst\", \"second\", \"mortgage\", \"ka\", \"responder\", \"feb\", \"rate\", \"infection\", \"community\", \"kill\", \"new_york\", \"story\", \"illness\", \"offer\", \"restriction\", \"coronavirus\", \"cdc\", \"new\", \"state\", \"county\", \"covid\", \"information\", \"year\", \"market\", \"vaccine\", \"economy\", \"job\", \"war\", \"ohio\", \"biden\", \"trade\", \"mike\", \"fucking\", \"side\", \"bloomberg\", \"plane\", \"airline\", \"russia\", \"headline\", \"cancellation\", \"treat\", \"case_confirmed\", \"investigation\", \"campaign\", \"heat\", \"success\", \"speed\", \"gilead\", \"valley\", \"trend\", \"zero_hedge\", \"driver\", \"history\", \"hour\", \"pandemic_response\", \"list\", \"china\", \"friday\", \"coronavirus\", \"mind\", \"state\", \"travel\", \"question\", \"book\", \"start\", \"hong_kong\", \"poll\", \"cash\", \"beach\", \"institute\", \"interview\", \"growth\", \"coronavirususa\", \"shopper\", \"hillary\", \"shame\", \"screen\", \"disinformation\", \"chris\", \"fallout\", \"buy\", \"nbc\", \"pizza\", \"medical\", \"mercy\", \"ballot\", \"qanon\", \"summer\", \"columbia\", \"let\", \"vodka\", \"curve\", \"public_health\", \"recovery\", \"_\", \"policy\", \"message\", \"dr\", \"charge\", \"step\", \"covid\", \"coronavirus\", \"approval\", \"month\", \"help\", \"store\", \"gt\", \"texas\", \"town\", \"stuff\", \"site\", \"lt\", \"facebook\", \"choice\", \"district\", \"conversation\", \"mail\", \"website\", \"car\", \"closing\", \"bs\", \"easter\", \"one\", \"updates\", \"voice\", \"excuse\", \"web\", \"version\", \"hair\", \"health_insurance\", \"follow\", \"big\", \"steve\", \"mall\", \"smith\", \"nose\", \"info\", \"school\", \"point\", \"great\", \"city\", \"fake_news\", \"election\", \"detail\", \"supporter\", \"covid\", \"tomorrow\", \"coronavirus\", \"company\", \"event\", \"employee\", \"south\", \"safety\", \"weekend\", \"read\", \"white\", \"wtf\", \"investment\", \"app\", \"february\", \"investor\", \"daily\", \"rest\", \"race\", \"link\", \"host\", \"shop\", \"analysis\", \"alert\", \"dow\", \"weed\", \"limit\", \"discussion\", \"last_night\", \"france\", \"topic\", \"code\", \"mess\", \"card\", \"payment\", \"transmission\", \"population\", \"project\", \"community\", \"door\", \"coronavirus\", \"florida\", \"work\", \"quarantine\", \"thought\", \"child\", \"social_distancing\", \"mayor\", \"prayer\", \"airport\", \"trump_says\", \"voter\", \"note\", \"son\", \"proof\", \"american\", \"traffic\", \"reading\", \"nightmare\", \"doubt\", \"return\", \"football\", \"lmfao\", \"front\", \"tom\", \"wilson\", \"damage\", \"term\", \"tool\", \"founder\", \"surface\", \"food\", \"cup\", \"gun\", \"restaurant\", \"contact\", \"issue\", \"covid_update\", \"first\", \"attack\", \"coronavirus\", \"event\", \"covid\", \"service\", \"week\", \"student\", \"panic\", \"love\", \"check\", \"music\", \"answer\", \"good\", \"college\", \"hero\", \"period\", \"distance\", \"birthday\", \"customer\", \"internet\", \"closure\", \"guess\", \"street\", \"nd\", \"boston\", \"navy\", \"tune\", \"income\", \"refund\", \"luck\", \"learning\", \"platform\", \"access\", \"oan\", \"airlines\", \"plan\", \"sale\", \"sense\", \"hope\", \"flight\", \"weather\", \"school\", \"rt\", \"coronavirus\", \"amid_coronavirus\", \"today\", \"self\", \"stock\", \"usa\", \"disaster\", \"science\", \"tech\", \"parent\", \"tv\", \"obama\", \"head\", \"cut\", \"india\", \"girl\", \"leave\", \"development\", \"nancy\", \"stress\", \"strategy\", \"gop\", \"middle\", \"online\", \"datum\", \"east\", \"ga\", \"wake\", \"dc\", \"discrimination\", \"get\", \"rent\", \"states\", \"phone\", \"show\", \"pelosi\", \"sign\", \"washington\", \"coronavirus\", \"emergency\", \"covid\", \"america\", \"corona_virus\", \"california\", \"place\", \"tweet\", \"fear\", \"death_toll\", \"effect\", \"water\", \"program\", \"asshole\", \"hand_sanitizer\", \"anxiety\", \"planning\", \"maga\", \"wipe\", \"govt\", \"product\", \"league\", \"export\", \"sars_cov\", \"toilet_paper\", \"earth\", \"bout\", \"consequence\", \"faculty\", \"immunity\", \"oregon\", \"horror\", \"apartment\", \"illinois\", \"tuesday\", \"center\", \"trump_administration\", \"court\", \"covid\", \"virus\", \"coronavirus\", \"government\", \"election\", \"supply\", \"coronavirus_outbreak\", \"corona\", \"action\", \"hell\", \"ass\", \"republicans\", \"statement\", \"apple\", \"john\", \"pastor\", \"practice\", \"art\", \"bar\", \"window\", \"bay\", \"sex\", \"relief\", \"yike\", \"arkansas\", \"due\", \"ball\", \"zoom\", \"revenue\", \"peak\", \"stream\", \"collection\", \"character\", \"racist\", \"smh\", \"outcome\", \"penny\", \"break\", \"fee\", \"san\", \"coronavirus\", \"us\"], \"Freq\": [321.0, 338.0, 217.0, 184.0, 169.0, 163.0, 132.0, 121.0, 547.0, 105.0, 114.0, 95.0, 106.0, 77.0, 87.0, 174.0, 87.0, 86.0, 73.0, 84.0, 70.0, 67.0, 68.0, 79.0, 68.0, 77.0, 67.0, 64.0, 64.0, 79.0, 216.3599694796594, 53.59609890790051, 32.21444985020482, 22.8515412975273, 22.35902582348022, 19.154724090469543, 16.958294749443848, 15.938750611254912, 11.593836974706168, 11.024174162372367, 9.711146217460987, 7.514836215836897, 7.172549060526402, 6.848633706395501, 6.731733414041223, 6.506270126837674, 19.05812031456995, 5.98556997825367, 68.78866550760897, 5.8875035598359275, 5.741065295888141, 5.318879529387006, 5.191365672714901, 4.976798131665479, 4.975990386159071, 4.652348101742673, 4.21136373403454, 4.211258797664166, 4.2109481037048235, 3.986416310500477, 14.16578684893374, 19.791011210111378, 12.285301225163478, 10.359257343922613, 9.458293067892763, 217.3477375915657, 6.763850410042746, 19.596928894619673, 7.449417060121391, 9.363055522383926, 12.459099369655833, 6.4843963314938335, 320.6229108055222, 86.89326401921404, 39.76460130073194, 25.24058574773413, 20.44111456032532, 17.825625294685732, 16.503787270145587, 15.881190557171884, 12.085869193231906, 10.86271266501347, 9.976496556243337, 24.688097500588462, 8.654108071831288, 7.115290561355506, 5.6759495916592755, 4.778979856105886, 4.678798761383147, 4.254526611186237, 4.009045504204591, 4.009033361707417, 4.008957615653616, 3.909465463091982, 3.781439020384801, 10.910506690319973, 3.2403141268447833, 3.2368358796184857, 25.524509711662663, 2.9098170367899217, 15.79663483256299, 2.469928189691433, 18.296239574455587, 19.00938231064419, 28.020977063571067, 14.540758321958767, 11.909735911362445, 24.087228918987012, 12.253628777764282, 15.486972243909767, 14.68815667337223, 118.56082263848094, 7.556420545129458, 14.070199550747425, 11.033683650941384, 86.24566703090439, 29.757591925810264, 20.550313732690018, 17.618816818841214, 16.32561728297092, 15.881306116211453, 13.764808972598265, 11.795379474027257, 11.350924247588843, 11.339892733613889, 10.795848474881534, 10.568052090713, 10.450953468801272, 10.450573151248856, 10.351600694380803, 9.223616865667562, 8.907241642347556, 8.726662834789009, 31.219338981092267, 8.154200211310377, 8.036580093360865, 7.680657030737944, 7.6801338059840125, 7.610777714152351, 7.236216210267425, 7.236134384369783, 7.236131503176204, 7.136889366589165, 7.037613808156611, 7.008221023741943, 15.2501898825694, 36.85635503400835, 18.03978686017917, 61.87849556197796, 14.914203527035145, 19.234083087827305, 29.69349574097627, 15.363484176479528, 10.254390375505615, 12.350225903725681, 11.493175689444504, 128.26430269935344, 17.87107223153988, 14.918589856139686, 22.85775103221025, 16.788311617241302, 13.035495899399605, 12.64852739972515, 42.6016325754232, 24.094052556941037, 15.639170703103764, 14.715486387934593, 11.619820886966103, 10.035991892153772, 8.01517927723675, 7.528303035658465, 7.324926356007328, 7.324719729127141, 7.090791624887668, 6.6347102707676875, 6.299145339532108, 6.178234656444564, 5.944601240123353, 5.740399204076148, 5.609199193030094, 10.53588850499555, 5.5072049418206275, 5.152091611257262, 9.601679456870665, 4.919513776268261, 4.91936700787147, 4.715420809284552, 4.715118063493526, 53.98031125977584, 4.126611901667218, 4.025502577556045, 3.689967863343335, 3.3354387285554288, 238.92209750926946, 17.516080646123115, 18.45932717411624, 17.56599226115394, 40.003958575949916, 45.82630116598462, 20.978971035983044, 85.84525198977607, 17.061492300714015, 11.974459378598675, 16.929354698615523, 10.409511130799322, 7.856264788377967, 14.897541360687313, 54.72004700209252, 14.849140021237577, 10.682210265409726, 11.018771495056457, 13.170336333518739, 9.834797169334918, 8.53375576583472, 8.123286576063117, 131.4977090448412, 25.262580031785344, 22.207574350731285, 20.765922511575862, 20.250595142792626, 13.603461078177595, 12.349072671663386, 12.226661370622761, 11.045364265726262, 10.910768368330801, 10.579598873833849, 10.341653640324772, 9.999061290201553, 8.775271639819676, 8.279516233317333, 8.176188599218774, 7.680012173624289, 7.679431644721463, 7.337345494099494, 7.3372689944964105, 47.552999654802576, 6.76831269120031, 6.683718779050993, 6.063680815259569, 6.0630449462183424, 5.979971260223903, 5.855907893286917, 5.6183142324217945, 5.256797725167192, 5.256645268511403, 8.176005217191527, 141.72583401888897, 6.780263990893261, 25.500073863381196, 9.607759852379328, 7.413272163984652, 7.905435886994742, 162.63727132170953, 94.95353523129958, 43.640099981099546, 31.92378384819492, 30.72726447042575, 20.350645738999923, 17.35589005390571, 16.537595301779145, 15.667149675856091, 11.585890584487046, 11.438697834847448, 10.341220497669228, 9.916041260081464, 9.886267802964566, 8.898867802262513, 8.344671290585968, 7.772649291771929, 7.456564510866594, 7.1293352252100695, 7.030578167755084, 7.00122230453997, 6.68501167341766, 6.358303470064481, 6.131424651221675, 26.01585878147759, 5.687490611051227, 4.7881644405011405, 4.787441581816859, 4.687932543313333, 4.490405947390109, 51.0553736598271, 16.683863416353528, 22.31159805619896, 7.18632665198015, 10.978279496422068, 9.066619900984405, 24.649510256364216, 114.74702437831294, 24.394741573321397, 7.8090122038446035, 8.31800768593814, 52.72994861709799, 50.04867517214023, 14.204799115627804, 12.568464480270832, 10.405072812323725, 9.627263804310338, 9.097401623748032, 7.3941046755388005, 7.194331723802625, 7.193380193393359, 70.41875564080794, 6.664209713886782, 73.37667318239971, 6.28741578037002, 10.635035412325877, 5.5090502834693496, 5.409301542384788, 5.0604803829991605, 4.960261426463148, 4.731674156204187, 4.731341171013246, 4.631153999427278, 4.28273544940888, 4.282361597853596, 3.9537922446149056, 3.9532107818382998, 3.951616489105914, 3.853582874016208, 3.8532294556430955, 19.774826050880733, 30.26847897827104, 33.13605662851442, 60.22841186052382, 32.88008788509975, 27.272185397946295, 11.37373379609416, 19.707732562044164, 7.882530885272596, 7.523333705528031, 6.616567100908333, 13.21790063385412, 6.1953090494175616, 22.661452472138016, 8.350307976983897, 57.35192836999182, 10.999462477660286, 8.793823061350995, 8.363409935201405, 22.243744400924303, 20.695798950679848, 16.545060504668367, 16.51619967225251, 15.083384897585095, 13.21051492092714, 13.003245973753605, 38.39644671185963, 11.768045348620504, 11.130299066437173, 10.805689166691046, 9.30472566409642, 8.7067466146042, 8.266272239153999, 8.265677999131766, 16.32346963324117, 7.499386504371602, 7.293496391307743, 6.509973415338591, 6.41165603380137, 6.313132517551045, 6.284008838718717, 6.214960613861591, 6.185811291476436, 6.08735434983441, 6.08711172237305, 5.744165696065405, 5.420698907001049, 5.322532921054556, 5.292207447256104, 23.391082323749494, 49.55650512135208, 27.176546112974805, 14.281469576496303, 36.85266538007802, 13.400131240851037, 11.247321447180417, 22.13977952002227, 9.825381511492468, 7.144081765037271, 12.799689423996968, 101.64409202928206, 35.793014599852924, 13.892594960785708, 10.230255731585881, 8.361950307331064, 66.6087076597246, 47.51024977609155, 40.53354876429993, 34.97396994204213, 24.584100708798236, 18.45394038011094, 14.172188741697145, 11.981768618812684, 10.769526333148224, 10.555012043859147, 9.2154926624832, 8.481645565760756, 8.256258392997, 7.493757884316588, 7.1998258809148785, 7.054290675512586, 6.926939094658641, 6.73078953104859, 6.633138048794976, 6.633114680907147, 6.487783457692366, 6.389802390854157, 65.63143922280597, 4.639474567773137, 4.639092892271921, 4.2185770404976655, 4.200325259609816, 4.199374478673752, 4.120012750125711, 3.975085109806986, 51.187225872547295, 21.95524059051228, 41.208144634106624, 15.497897701365842, 9.15707489023337, 17.87618882676575, 7.8214803403507895, 10.104965023840327, 32.936726323880215, 11.92919184485824, 40.5311535557974, 70.55078465431039, 11.043150668364081, 7.550838331819175, 8.53251551024165, 14.373943190569307, 8.915149094858265, 168.63271597261328, 120.18662363707477, 40.54867302415684, 32.46133483938713, 22.252325304320756, 19.16342640189625, 15.868787562253985, 13.758226149123725, 12.662649074379813, 11.32127290325831, 9.652812715707, 9.554711231679953, 8.45940830834319, 7.660621519538878, 7.543279856437613, 7.316133749595521, 6.447824302707508, 6.347952986635359, 6.34768466823687, 6.12171196830411, 5.451199359087298, 5.352331806589204, 5.3517694073373, 5.007122201823828, 4.908390752861199, 4.68017283067732, 4.582418410665708, 4.010886611531859, 4.010111307463763, 4.009359335430318, 14.644535288577003, 37.36805394918238, 16.70683924887188, 16.508946652641797, 12.075576195832065, 7.216686298819535, 11.511544673670455, 63.42613742155872, 21.75919691895971, 15.435380436086925, 15.431849521509715, 6.6589291496428675, 6.348792453798745, 67.46397649963423, 34.88976486251119, 32.68882711216147, 26.792498528402138, 21.139002664105035, 16.633145519379003, 14.682597774576664, 11.99633289952122, 10.6287178537718, 9.962995244240771, 9.944173632463379, 9.713041587145968, 9.260807744200921, 8.928308301092668, 8.797634434103227, 8.625723716104794, 7.608989532308677, 7.4595709431370105, 6.906699672995257, 6.723701955933449, 6.443576341134423, 6.141183019014531, 6.122150441410394, 5.457375976699791, 5.457054962639961, 5.105884323024867, 5.105773794231811, 5.105719010395254, 12.031874153768076, 10.8790280863642, 30.308517469722116, 15.442122806853858, 36.91382963261428, 9.779663537999948, 10.62859675265941, 9.058846650170628, 9.801169557768674, 24.102502585741128, 11.692679549160498, 104.54400683668572, 12.444420471046788, 15.31338559654273, 9.450359818690902, 9.180963666337718, 72.1078520555352, 63.881319256972084, 38.3910694847618, 31.62829941044139, 24.133604712374634, 19.404787460560716, 17.847286199673096, 16.68773734139603, 13.606639707498882, 12.938614384797983, 12.150294471001155, 10.442889798594702, 9.200730986465482, 8.746647565904903, 8.179597697333085, 7.996008527471416, 7.946998749182233, 7.642771716635067, 6.4717463016251395, 5.815361647691018, 5.814860377123239, 5.480928125967059, 5.350365011992513, 5.248606146263131, 5.128590404554345, 5.127945712295033, 4.895281871706701, 4.794526017347932, 4.0059916763663885, 3.905186447326929, 91.44280396772623, 10.971210167632309, 10.804792101009891, 18.887952112486946, 11.094882927357627, 13.173087689874887, 14.142615503218902, 7.290493244839182, 76.6410007394151, 8.658059043573619, 13.805086424133128, 15.939871749312228, 21.262215924659877, 11.410690908819689, 11.540266058945354, 183.2032785397867, 62.206221379353224, 22.93340614771055, 17.845938876988242, 17.351680448179454, 13.255978835254973, 12.79906847826434, 12.35324662142704, 10.90544752008215, 10.496914648916539, 10.427147978071055, 9.129993227578643, 8.721344059870782, 8.375075794700235, 76.91325092975936, 24.11173021678305, 7.354928153341535, 7.254922974698226, 6.927511162190525, 6.381964551436791, 5.579252522257618, 5.479544650097317, 5.3801012587831, 4.706428215169906, 4.706220475781937, 4.606559966326342, 4.507262414627606, 4.3782567236362215, 4.032312963333563, 4.032106161820934, 9.961501312281614, 9.476629139882753, 9.356776174341457, 11.26217590892775, 9.299120287770691, 14.64411874830132, 12.633468767228742, 67.74413141871656, 7.320382921979123, 8.033009211056113, 24.744985522587914, 7.0862850164963636, 40.859203170598626, 20.64485983804858, 17.06231522179715, 13.067067842337828, 11.103954428265506, 10.606752590105298, 10.367534545972678, 10.024609273458994, 9.920409241141565, 9.681200530416831, 9.31631841585206, 8.50894410013063, 8.196854540589692, 7.957381694421793, 7.937898205460414, 7.128035603196661, 6.7853119322933075, 6.7826206441294685, 6.6497166492003865, 6.08006283231632, 5.890565252001958, 5.84033611745393, 5.786671822133574, 5.632443323537659, 5.5279754224139115, 5.165857863264881, 5.030485648620428, 4.926420484046948, 4.9261712820564, 4.822755722671763, 12.166349181010817, 26.0535267741301, 31.095314246359308, 12.594092731026505, 13.623641354740492, 9.082985085391368, 112.25016381937382, 8.940192344807395, 36.107147079320185, 6.448250373283809, 13.288286409362893, 9.79104260780116, 8.3383051371197, 7.904946608919983, 104.8921224833229, 63.487121706169376, 47.48533259707511, 41.50276026956797, 35.94576543728973, 31.81449602635213, 24.26364772557218, 14.134055970921324, 13.414206712211397, 12.2172893414856, 11.7907539679712, 11.119211405715982, 10.347508132815046, 9.903674111080411, 9.646144620511865, 9.594923290519162, 8.67662364125447, 7.905754318806381, 7.7882311324476685, 7.707355642497573, 7.332503765930751, 7.232951047095629, 6.689619747924692, 6.560283350570228, 6.381407966846094, 5.808149493770633, 5.264984984690265, 4.839123759949759, 4.790676829368623, 4.691752135790729, 8.078468718849814, 8.77553668747967, 31.13563240408795, 7.010476360981351, 10.071295356738075, 9.875995342139818, 78.9063307328806, 10.548359741601084, 10.252139608961501, 7.652064727473796, 61.23885152625933, 20.170043140315126, 15.069642443378429, 14.149266332507331, 13.696652100037007, 21.432037707242465, 12.281788482463098, 11.629921619381847, 11.629429251994416, 11.422186674488218, 10.77449482964553, 9.968847668812613, 9.390136862387228, 9.091018162948227, 8.492691660270637, 8.358585848906989, 8.25403402253548, 8.170668691357418, 7.004841007681325, 6.283181986027734, 6.168986740191225, 6.046171849989137, 5.601217329198077, 5.601190230619851, 5.600877908023347, 5.497180835110801, 5.467270434920296, 5.1555802916740685, 5.136688908266992, 4.197666219788723, 86.33609962340739, 33.66887929368513, 20.54667295943948, 23.857393527929386, 7.180754413672607, 24.379451771136534, 17.6216083331129, 13.421035675984944, 14.765264782571823, 40.16869466281924, 46.40617742280732, 14.490067238237426, 9.69473866058662, 9.18447426978099, 67.31300953825301, 62.2827484509138, 15.206437290665123, 15.187416863233356, 14.280711787597308, 12.182822393516615, 11.695478476724938, 10.546583935515535, 10.293233480434774, 8.490702066282859, 7.005504696082625, 6.751742882633103, 6.548194837333953, 6.415301598606898, 6.313494854268899, 6.211923617048946, 5.9584307001954535, 5.8561707493429545, 5.723983586776997, 5.519946274327125, 5.062801582196213, 4.93068965725398, 4.929989813795438, 4.828623365373787, 4.828060196178458, 8.715661670830462, 4.492125096638489, 4.371277445988892, 4.136859715311061, 4.136410960726958, 28.44704814095741, 20.669176704572937, 30.20158596464836, 8.122555024349257, 21.62039752264315, 23.447925635592902, 9.345976661190804, 6.517291317284248, 6.604205464055364, 74.04929309257959, 19.61565942982096, 13.620177093696372, 16.10495793745777, 10.397319613136471, 16.950477462477945, 7.977988378926003, 69.34402104831302, 56.400306871388615, 55.49796727172913, 48.80546719743447, 42.03227743263603, 18.79060012354146, 18.593238473557708, 15.739541953127691, 14.059836273204452, 12.791892586113653, 12.0534944611003, 11.699607202693485, 11.287057070835951, 10.735255352662312, 10.735034571046162, 9.723264306619331, 9.200065788134838, 8.857557340386707, 8.857315165203103, 8.18896043578455, 7.19510428900297, 5.759331488187869, 5.660812826437313, 5.659424383909395, 5.532420614962053, 4.912268588122109, 4.667310101390113, 4.667248487915838, 4.667103011657135, 4.225431100035315, 13.921854609052556, 15.28585113530889, 8.286998598010037, 6.201756881255503, 57.795691184074215, 8.823644257254896, 37.107105100366944, 6.28616862462534, 9.241762706849968, 6.850834294910484, 42.046359840484946, 16.93786820751033, 14.891638637119701, 13.50731933266433, 12.713232017292267, 11.786870271504574, 11.19635117643198, 10.40256775687314, 10.095724490058512, 9.759541005917535, 6.908242316064581, 6.757073037538143, 6.756003525753486, 6.4196030331381495, 6.196428495938627, 6.196286621926377, 5.962700295159185, 5.860197160799436, 5.8591603891714525, 5.624533093320292, 5.421509702807514, 5.289259617636591, 4.9337493671640775, 4.933509272681808, 4.831437636797187, 4.729593083281287, 4.3737684433555915, 4.3709288643825905, 4.369924413165681, 4.291063869379951, 28.65780836437176, 9.861799428593432, 22.127847917237087, 12.11898306283252, 11.552181273050454, 16.18062700025474, 8.968371761945368, 8.935032208557711, 48.22203989175034, 73.84098750487247, 6.522387397048809, 9.438422191302205, 7.112026705347213, 6.248081549783347, 20.651319073312788, 19.6269583052228, 17.769310347427083, 17.519891075187036, 16.229520465261487, 14.088699720551727, 14.049942912048255, 13.67725658957117, 12.476509331435047, 11.743347086137545, 11.589447964267448, 11.278233770333737, 10.937374186922227, 9.512893006345053, 9.325325227794075, 8.023976322994278, 7.713045820978733, 7.456183171636537, 7.454665711053736, 7.11452908446594, 6.753887605364833, 6.750991618364433, 6.051381142022, 5.813033342060407, 5.709664659268228, 5.502336615496487, 5.264199712606024, 5.007189393716982, 4.9032649742639975, 4.799348042280993, 16.764779727611014, 41.794508352376766, 31.59835459233373, 18.12992853217714, 47.08727775460666, 7.849568188905327, 15.759412175039296, 11.916406643688822, 8.857095460595986, 91.47343573865561, 12.505964206398886, 26.133336775133824, 10.838588667699481, 9.324327730404395, 27.780206371251566, 17.713253973934624, 14.7976870734702, 14.430465136115366, 12.93367032574988, 12.89405496607923, 12.30488398414835, 12.179265937313852, 11.957094366592457, 11.72583182847519, 11.589313260974953, 10.768644988070173, 10.663253997268004, 10.526661254385983, 9.842393357439041, 8.517706625776027, 7.958984230509971, 7.93914598389644, 7.591296863012303, 7.380591502132002, 7.2240545478053315, 7.137434004164654, 6.633982864809945, 6.5279589379203635, 6.180849940625885, 6.161029626522234, 6.161020660267294, 6.055587691089719, 5.813650011351361, 5.812825523453851, 8.30713901917618, 15.878565846125616, 8.463840626548127, 15.639950978956904, 8.433942241891033, 55.09751923470194, 11.011360694203168, 8.369413735310367, 56.750779610891506, 26.67056597161271, 24.06514586031459, 20.009412706157846, 17.957840769986813, 11.667540548255367, 11.58488045080689, 11.215179097364404, 10.964372218900127, 9.715748537704666, 9.64486614827454, 8.146252299728149, 14.616197063617976, 7.361354636468648, 6.909572220995936, 6.676785626608762, 6.475304829355888, 6.243789560666638, 6.143370781919554, 6.124529001312425, 6.123163163635075, 5.892867777414443, 5.892466998767512, 5.791921406478414, 15.490130594482295, 5.357781227165103, 5.107158986027721, 9.004551076730229, 26.91840589173553, 4.775427122446107, 8.318345454365863, 15.634095069876349, 15.016784293881114, 20.219618514372105, 7.944712881120948, 11.342384245976472, 7.103725348957919, 53.546541168787655, 11.4989598894606, 22.064556158310882, 6.502192490540595, 66.19396447035152, 46.79358949838507, 34.982437590052626, 33.59058130277073, 23.63488096812008, 14.976983083560084, 14.573537679549936, 14.339767995929813, 13.68770317897819, 10.878460061930571, 10.685474899476224, 10.420536378919516, 10.068435185833687, 9.854830277903453, 9.502983443965869, 9.502913798008612, 8.513851119419481, 7.789278804792534, 7.065897284630436, 6.9596516198127425, 6.959650105770193, 6.714370670691983, 6.128679586538732, 5.884102667203293, 5.776857734303208, 5.405142498504716, 5.298006955178803, 16.18670610835815, 4.574600831825282, 3.976278847706353, 33.88854184834409, 9.96690576355637, 9.961539239741164, 18.183623761655557, 11.441020739550927, 7.576405936434779, 10.575731796370162, 8.327482322904604, 19.022977155970626, 8.011539493975846, 7.940794341827647, 29.562262911209423, 25.825169256336963, 22.345955612955414, 22.302703810500205, 20.81784414144389, 16.915623519268603, 15.520816154006875, 15.015329303524586, 14.223932455911253, 10.690052867249813, 10.67022943276154, 9.973432491808119, 9.624532349554206, 9.362113614344466, 8.296169117403522, 7.822713787916993, 7.367870629350475, 6.418991759570099, 26.087441485629466, 5.9337027475868, 5.8280545929308545, 15.712291988545992, 5.3737334541856, 5.248589653532976, 5.248412070602992, 5.1111471250856875, 5.110828215740592, 4.899636236400068, 4.899470122367646, 4.2883917217883445, 13.401396441525327, 14.676671256757468, 11.305837955402549, 10.744356987309866, 10.661057274427895, 45.984096375650644, 9.898360788015381, 17.16192364386685, 8.921611017302983, 47.692761302995315, 40.43450382036706, 33.99871917287102, 27.759042486634122, 24.169874785388913, 20.881133474791977, 19.02918670260898, 15.117694897924983, 13.86485514731579, 12.781232658079524, 12.078540083334074, 11.890255182829163, 8.716056853450795, 8.478173519186669, 7.92888065127235, 7.567369099327538, 7.329363619027166, 6.180956586495985, 6.057551231758627, 5.611737485674427, 5.374120586916266, 5.3739002240380085, 5.250982024837025, 5.1464450183304065, 5.012392243614724, 4.102024620838429, 4.10038493530507, 3.998391566430466, 3.9976065459986816, 6.339244277689901, 9.879170697328663, 12.942428282101279, 11.78654462640405, 5.6107856751873, 28.079805120861007, 16.78859124360954, 38.250064108651664, 9.700436045388772, 6.34071360164639, 6.323262433157833, 76.28628145013059, 56.42211059453686, 23.4186733628136, 23.060316846589885, 21.315817104692798, 17.573699247585445, 13.996644906878393, 13.420943005467914, 12.196031830870592, 10.471821152051923, 10.36292717020714, 9.896003337224043, 8.780104165405584, 8.171676744987975, 7.358232911961635, 6.870442556329801, 30.931856521133746, 5.9927777725247635, 5.992559293295603, 5.88353815794446, 5.882954024571318, 5.742611678827489, 5.416750611040004, 5.30732061745294, 5.254991329541174, 5.1463885362510124, 5.037532489706471, 5.005745518127502, 4.92917873463733, 4.658681778780818, 7.845485850840069, 6.620621041609707, 5.992397014511242, 7.533211591835801, 29.733140373857776, 5.678887750732492], \"Total\": [321.0, 338.0, 217.0, 184.0, 169.0, 163.0, 132.0, 121.0, 547.0, 105.0, 114.0, 95.0, 106.0, 77.0, 87.0, 174.0, 87.0, 86.0, 73.0, 84.0, 70.0, 67.0, 68.0, 79.0, 68.0, 77.0, 67.0, 64.0, 64.0, 79.0, 217.27925045953162, 54.515379887772724, 33.133730830077035, 23.770822277399517, 23.278306803352436, 20.07400507034176, 17.877575729316064, 16.858031591127126, 12.513117954578378, 11.943455142244577, 10.630427197333198, 8.434117195709105, 8.09183004039861, 7.7679146862677095, 7.651014393913432, 7.425551106709883, 21.978223556238177, 6.904850958125879, 79.50596299071509, 6.806784539708136, 6.66034627576035, 6.238160509259215, 6.11064665258711, 5.896079111537688, 5.89527136603128, 5.571629081614882, 5.130644713906749, 5.130539777536375, 5.130229083577032, 4.905697290372686, 19.462790346685985, 28.16494229288917, 17.094776507979375, 15.922528900454465, 15.659609497613005, 1959.6012947642405, 9.592460917122182, 88.96702948344182, 13.867168851907707, 27.282416481020302, 174.7322980345195, 69.67925605153262, 321.5419853841557, 87.81233862771626, 40.6836758793653, 26.159660326367494, 21.360189138958685, 18.744699873319096, 17.42286184877895, 16.800265135805247, 13.004943771865266, 11.78178724364683, 10.895571134876697, 27.178572434826158, 9.573182650464648, 8.034365139988862, 6.595024170292632, 5.698054434739243, 5.597873340016504, 5.1736011898195935, 4.928120082837948, 4.928107940340774, 4.928032194286972, 4.828540041725339, 4.700513599018158, 13.943511240743968, 4.1593887054781415, 4.155910458251844, 32.9178195704163, 3.82889161542328, 20.882316375412763, 3.3890027683247914, 25.337432993102293, 26.83089126001551, 41.67426192722202, 20.94125579638152, 17.715970439423035, 47.46446653132314, 20.386983372086018, 27.636448283825384, 26.070323403538385, 1959.6012947642405, 17.406977815973864, 82.9868703007715, 122.41686909759783, 87.16463471747932, 30.676559612385212, 21.469281419264966, 18.537784505416163, 17.24458496954587, 16.800273802786403, 14.683776659173212, 12.714347160602204, 12.26989193416379, 12.258860420188835, 11.714816161456481, 11.487019777287946, 11.369921155376218, 11.369540837823802, 11.27056838095575, 10.142584552242509, 9.826209328922502, 9.645630521363955, 34.56349171903744, 9.073167897885323, 8.955547779935811, 8.599624717312889, 8.599101492558956, 8.529745400727295, 8.155183896842368, 8.155102070944727, 8.155099189751148, 8.05585705316411, 7.956581494731555, 7.927188710316887, 17.729972145388697, 45.391565039382755, 22.05719027283256, 88.96702948344182, 18.956464378952425, 29.95288740276271, 54.80973780208663, 25.034252877145853, 13.787731621110044, 18.94101350407081, 17.04904263200818, 1959.6012947642405, 122.41686909759783, 63.13347180048263, 547.0209644065427, 174.7322980345195, 61.04912454310748, 77.43174095421371, 43.5196554787148, 25.012075460232644, 16.55719360639537, 15.633509291226193, 12.537843790257703, 10.954014795445373, 8.933202180528351, 8.446325938950062, 8.242949259298928, 8.242742632418741, 8.008814528179267, 7.552733174059286, 7.217168242823707, 7.096257559736163, 6.862624143414951, 6.6584221073677465, 6.527222096321693, 12.281604976063528, 6.425227845112226, 6.070114514548861, 11.336967939317015, 5.837536679559859, 5.8373899111630685, 5.633443712576151, 5.633140966785125, 65.25879009868932, 5.044634804958816, 4.943525480847644, 4.607990766634934, 4.2534616318470295, 338.0959106524989, 23.217340025158368, 24.782043281237726, 24.119645454108905, 59.873632207128026, 77.43174095421371, 32.120612399644266, 174.7322980345195, 30.243458335548254, 19.203146816772446, 31.49952852643141, 17.299301575206638, 11.22144633382376, 44.51481273842302, 1959.6012947642405, 69.55448079452137, 77.19625041040966, 122.41686909759783, 547.0209644065427, 79.50596299071509, 25.687180435219705, 69.67925605153262, 132.4149935517534, 26.17986453869754, 23.12485885764348, 21.68320701848806, 21.167879649704822, 14.520745585089788, 13.266357178575579, 13.143945877534954, 11.962648772638454, 11.828052875242994, 11.496883380746041, 11.258938147236965, 10.916345797113745, 9.692556146731869, 9.196800740229525, 9.093473106130967, 8.597296680536479, 8.596716151633652, 8.254630001011684, 8.254553501408601, 53.59694799169338, 7.685597198112499, 7.601003285963182, 6.980965322171758, 6.9803294531305315, 6.897255767136092, 6.773192400199106, 6.535598739333984, 6.174082232079381, 6.173929775423592, 10.981370711412639, 1959.6012947642405, 11.166383179264786, 547.0209644065427, 42.98048349318689, 33.61244836500606, 86.70729499370536, 163.55627357993475, 95.87253748952477, 44.559102470486586, 32.84278610642012, 31.646266728650957, 21.269647997225128, 18.274892312130916, 17.45659756000435, 16.5861519340813, 12.50489284271225, 12.357700093072651, 11.260222755894432, 10.835043518306668, 10.80527006118977, 9.817870060487717, 9.263673548811171, 8.691651549997133, 8.375566769091796, 8.048337483435272, 7.949580425980286, 7.920224562765172, 7.604013931642862, 7.277305728289683, 7.050426909446877, 30.214796778912856, 6.606492869276429, 5.7071666987263425, 5.706443840042061, 5.606934801538535, 5.4094082056153105, 65.74285640211372, 20.911804657732983, 29.53188917033297, 9.63030442316412, 17.60871575846244, 13.878652431843893, 82.9868703007715, 1959.6012947642405, 547.0209644065427, 29.74625551869268, 86.11432984748214, 53.64862767237557, 50.96735422741781, 15.123478170905381, 13.487143535548409, 11.323751867601302, 10.545942859587916, 10.01608067902561, 8.312783730816376, 8.1130107790802, 8.112059248670935, 79.66873023252182, 7.582888769164357, 84.04878125180359, 7.206094835647595, 12.255596422653651, 6.427729338746924, 6.327980597662362, 5.979159438276735, 5.878940481740723, 5.650353211481762, 5.65002022629082, 5.549833054704853, 5.201414504686454, 5.20104065313117, 4.872471299892481, 4.871889837115875, 4.870295544383489, 4.772261929293783, 4.77190851092067, 24.681002198380284, 38.34495772077915, 43.16076025666057, 80.82186743925736, 46.756430412709186, 40.51431123456595, 16.646755292634545, 32.54276152924146, 11.204745821141046, 10.603338130401616, 9.044869861335268, 27.282416481020302, 8.680905212707072, 114.98632955507013, 17.34449311774209, 1959.6012947642405, 82.9868703007715, 41.67426192722202, 39.838142975685706, 23.16300607544776, 21.615060625203306, 17.464322179191825, 17.43546134677597, 16.00264657210855, 14.129776595450597, 13.922507648277062, 41.30985897315212, 12.687307023143958, 12.04956074096063, 11.7249508412145, 10.223987366437315, 9.626008289127654, 9.185533913677453, 9.184939673655222, 18.19255360165665, 8.418648178895054, 8.212758065831197, 7.429235089862044, 7.330917708324824, 7.232394192074499, 7.20327051324217, 7.134222288385045, 7.10507296599989, 7.0066160243578635, 7.006373396896504, 6.663427370588859, 6.339960581524503, 6.24179459557801, 6.211469121779557, 29.359507678842935, 68.76735428357624, 42.69195457135874, 20.620555923616237, 69.67925605153262, 19.709623730395137, 15.932751181856787, 45.65589860579195, 14.01445077765883, 8.800512664980705, 25.376385652376882, 1959.6012947642405, 547.0209644065427, 77.43174095421371, 46.756430412709186, 26.50223994420878, 67.52808923846743, 48.42963135483439, 41.45293034304277, 35.893351520784975, 25.50348228754108, 19.373321958853783, 15.091570320439983, 12.901150197555522, 11.688907911891063, 11.474393622601985, 10.134874241226038, 9.401027144503594, 9.175639971739837, 8.413139463059427, 8.119207459657718, 7.973672254255424, 7.846320673401479, 7.650171109791428, 7.552519627537814, 7.552496259649985, 7.407165036435204, 7.309183969596995, 77.19625041040966, 5.558856146515975, 5.558474471014759, 5.137958619240504, 5.119706838352654, 5.11875605741659, 5.039394328868549, 4.894466688549824, 67.50624531032648, 30.417490107497756, 61.04912454310748, 22.163655476568334, 12.317636405056794, 26.580360445439425, 10.372249640684979, 14.164624079173436, 86.70729499370536, 20.44694695841093, 338.0959106524989, 1959.6012947642405, 32.54276152924146, 10.261622913887543, 17.20954906113385, 174.7322980345195, 37.15335753094814, 169.55177696495528, 121.12665839219471, 41.467734016498866, 33.38039583172915, 23.17138629666278, 20.082487394238274, 16.78784855459601, 14.677287141465744, 13.581710066721831, 12.240333895600328, 10.571873708049019, 10.473772224021971, 9.37846930068521, 8.579682511880895, 8.462340848779633, 8.23519474193754, 7.366885295049526, 7.267013978977377, 7.266745660578889, 7.0407729606461285, 6.370260351429316, 6.271392798931222, 6.270830399679318, 5.926183194165846, 5.827451745203217, 5.599233823019338, 5.5014794030077265, 4.929947603873877, 4.929172299805781, 4.928420327772336, 18.32809086208788, 49.26035743685352, 22.329140132835736, 26.448614702034728, 20.37094269431731, 10.35013029420017, 25.00526864903384, 547.0209644065427, 122.41686909759783, 67.50624531032648, 1959.6012947642405, 42.69195457135874, 10.490812497338771, 68.38233497533611, 35.8081233382131, 33.60718558786338, 27.710857004104035, 22.057361254998035, 17.5515039950809, 15.600956250278557, 12.914691375223114, 11.547076329473693, 10.881353719942664, 10.862532108165272, 10.631400062847861, 10.179166219902815, 9.846666776794562, 9.71599290980512, 9.544082191806687, 8.52734800801057, 8.377929418838903, 7.825058148697151, 7.642060431635342, 7.361934816836317, 7.059541494716425, 7.040508917112287, 6.375734452401685, 6.375413438341854, 6.02424279872676, 6.0241322699337045, 6.0240774860971475, 14.444745223036737, 13.265992751217738, 37.107001590644884, 19.073390781371398, 51.41550152449798, 12.304833282836624, 14.931749212504682, 12.925984706530572, 14.781227661688051, 63.13347180048263, 20.215420039365302, 1959.6012947642405, 86.70729499370536, 547.0209644065427, 44.21868086002921, 68.76735428357624, 73.02604968485609, 64.79951688629296, 39.309267114082694, 32.546497039762286, 25.05180234169552, 20.322985089881602, 18.765483828993982, 17.605934970716916, 14.524837336819765, 13.856812014118866, 13.068492100322038, 11.361087427915585, 10.118928615786364, 9.664845195225785, 9.097795326653968, 8.914206156792298, 8.865196378503116, 8.560969345955948, 7.389943930946022, 6.733559277011901, 6.7330580064441214, 6.399125755287941, 6.2685626413133955, 6.166803775584014, 6.046788033875227, 6.046143341615916, 5.813479501027584, 5.712723646668815, 4.924189305687271, 4.8233840766478115, 114.98632955507013, 14.159568108464063, 14.341566621782375, 28.70313855740505, 16.688434338543185, 21.304007779251954, 26.50223994420878, 11.103411375737528, 1959.6012947642405, 17.68646943149551, 65.74285640211372, 122.41686909759783, 547.0209644065427, 80.82186743925736, 86.70729499370536, 184.12215108273872, 63.125093922305254, 23.852278690662573, 18.764811419940266, 18.270552991131478, 14.174851378206995, 13.717941021216362, 13.272119164379061, 11.824320063034172, 11.41578719186856, 11.346020521023076, 10.048865770530664, 9.640216602822804, 9.293948337652257, 86.11432984748214, 26.997185134801864, 8.273800696293556, 8.173795517650246, 7.846383705142546, 7.300837094388812, 6.4981250652096385, 6.398417193049338, 6.29897380173512, 5.625300758121926, 5.625093018733957, 5.525432509278363, 5.4261349575796265, 5.297129266588242, 4.951185506285584, 4.950978704772955, 12.529653098436782, 12.720251092313712, 14.200946043487036, 19.53346974950988, 15.727495256003719, 38.686328064056404, 33.61244836500606, 1959.6012947642405, 12.526291790111554, 16.315551851184445, 547.0209644065427, 12.410724750699352, 41.77639314631637, 21.56204981376632, 17.97950519751489, 13.984257818055566, 12.021144403983245, 11.523942565823036, 11.284724521690416, 10.941799249176732, 10.837599216859303, 10.59839050613457, 10.233508391569798, 9.426134075848369, 9.11404451630743, 8.874571670139531, 8.855088181178152, 8.0452255789144, 7.702501908011046, 7.699810619847207, 7.566906624918125, 6.997252808034058, 6.807755227719696, 6.757526093171668, 6.703861797851312, 6.549633299255397, 6.44516539813165, 6.083047838982619, 5.947675624338166, 5.843610459764686, 5.843361257774138, 5.739945698389501, 14.659067505895086, 32.371097147023214, 44.4977444136421, 17.377769667759402, 24.64672592064069, 15.70346243320929, 1959.6012947642405, 17.122629090084654, 547.0209644065427, 8.946532943414503, 174.7322980345195, 84.04878125180359, 80.82186743925736, 63.13347180048263, 105.81110364404114, 64.40610286688762, 48.40431375779337, 42.42174143028623, 36.86474659800799, 32.73347718707039, 25.182628886290434, 15.053037131639574, 14.333187872929647, 13.13627050220385, 12.70973512868945, 12.038192566434232, 11.266489293533295, 10.822655271798661, 10.565125781230115, 10.513904451237412, 9.59560480197272, 8.824735479524632, 8.707212293165918, 8.626336803215823, 8.251484926649002, 8.151932207813879, 7.608600908642942, 7.479264511288478, 7.300389127564344, 6.7271306544888825, 6.183966145408515, 5.758104920668009, 5.709657990086873, 5.610733296508979, 9.757542469473275, 11.180485432471539, 46.83619465432787, 8.762216661876154, 15.883891066145148, 19.08942188221636, 1959.6012947642405, 26.1748175778851, 33.26207961718252, 45.391565039382755, 62.15624946267897, 21.087441076734756, 15.987040379798056, 15.066664268926958, 14.614050036456634, 22.898871675596034, 13.199186418882725, 12.547319555801474, 12.546827188414044, 12.339584610907846, 11.691892766065157, 10.88624560523224, 10.307534798806856, 10.008416099367855, 9.410089596690264, 9.275983785326616, 9.171431958955107, 9.088066627777046, 7.922238944100953, 7.200579922447362, 7.086384676610853, 6.963569786408765, 6.518615265617705, 6.518588167039479, 6.518275844442975, 6.414578771530429, 6.384668371339925, 6.072978228093697, 6.05408684468662, 5.115064156208351, 106.83229331213339, 43.98781035167265, 27.530248845216377, 34.28979665934534, 8.813037562319707, 39.838142975685706, 36.84643362573728, 28.52831466657205, 36.720171896727216, 547.0209644065427, 1959.6012947642405, 174.7322980345195, 86.70729499370536, 68.76735428357624, 68.230949430131, 63.200688342791814, 16.12437718254313, 16.105356755111362, 15.198651679475313, 13.10076228539462, 12.613418368602943, 11.46452382739354, 11.211173372312778, 9.408641958160864, 7.92344458796063, 7.6696827745111085, 7.466134729211959, 7.3332414904849035, 7.231434746146904, 7.1298635089269515, 6.876370592073459, 6.77411064122096, 6.641923478655003, 6.43788616620513, 5.980741474074219, 5.848629549131986, 5.847929705673444, 5.746563257251792, 5.746000088056464, 10.380348115601263, 5.410064988516495, 5.289217337866898, 5.054799607189067, 5.054350852604964, 36.84988559779703, 29.599279975346857, 46.72135863660922, 10.640932686806675, 38.686328064056404, 44.29354904623473, 14.974258547856849, 8.950418668778955, 9.780693813246042, 1959.6012947642405, 106.83229331213339, 51.41550152449798, 122.41686909759783, 65.25879009868932, 547.0209644065427, 59.873632207128026, 70.26319143826639, 57.31947726134198, 56.417137661682496, 49.72463810382692, 42.951447822589394, 19.709770513494824, 19.512408863511073, 16.658712343081056, 14.979006663157815, 13.711062976067016, 12.972664851053663, 12.618777592646849, 12.206227460789314, 11.654425742615675, 11.654204960999525, 10.642434696572694, 10.119236178088201, 9.77672773034007, 9.776485555156466, 9.108130825737913, 8.114274678956333, 6.678501878141232, 6.579983216390676, 6.578594773862759, 6.451591004915416, 5.8314389780754725, 5.586480491343476, 5.586418877869201, 5.586273401610498, 5.144601489988678, 18.376461096754742, 22.037571430730626, 12.56794339917499, 8.656387323889062, 338.0959106524989, 15.965003472542007, 1959.6012947642405, 10.683350985161987, 122.41686909759783, 44.51481273842302, 42.96427434014321, 17.855782707168594, 15.809553136777966, 14.425233832322595, 13.631146516950531, 12.704784771162839, 12.114265676090245, 11.320482256531404, 11.013638989716776, 10.6774555055758, 7.826156815722845, 7.674987537196407, 7.67391802541175, 7.337517532796413, 7.114342995596891, 7.114201121584641, 6.880614794817449, 6.7781116604577, 6.777074888829716, 6.542447592978556, 6.339424202465778, 6.207174117294855, 5.851663866822341, 5.8514237723400715, 5.7493521364554505, 5.647507582939551, 5.291682943013855, 5.288843364040854, 5.287838912823945, 5.208978369038215, 42.98048349318689, 13.202205940580267, 33.26207961718252, 18.11024472299635, 17.359160265138467, 29.74625551869268, 17.406977815973864, 17.66038997499628, 547.0209644065427, 1959.6012947642405, 9.947353099826273, 43.98781035167265, 43.16076025666057, 34.28979665934534, 21.5686853642957, 20.544324596205712, 18.686676638409995, 18.43725736616995, 17.1468867562444, 15.006066011534639, 14.967309203031167, 14.594622880554082, 13.393875622417958, 12.660713377120457, 12.50681425525036, 12.195600061316648, 11.854740477905139, 10.430259297327964, 10.242691518776986, 8.94134261397719, 8.630412111961645, 8.373549462619449, 8.372032002036649, 8.031895375448851, 7.671253896347745, 7.668357909347345, 6.9687474330049115, 6.7303996330433185, 6.6270309502511395, 6.419702906479399, 6.1815660035889355, 5.924555684699894, 5.820631265246909, 5.716714333263905, 20.60648653743675, 54.10203741061292, 41.88063346556495, 23.338532407623635, 69.55448079452137, 9.726065753473828, 22.98001479202158, 16.59990642321104, 11.673161863761358, 547.0209644065427, 22.38629050010936, 1959.6012947642405, 46.83619465432787, 47.46446653132314, 28.696891745711678, 18.62993934445315, 15.714372443988726, 15.347150506633891, 13.850355696268405, 13.810740336597755, 13.221569354666876, 13.095951307832378, 12.873779745982326, 12.642517198993716, 12.505998631493478, 11.685330358588699, 11.57993936778653, 11.443346624904509, 10.759078727957567, 9.434391996294552, 8.875669601028497, 8.855831354414965, 8.507982233530829, 8.297276872650528, 8.140739918323858, 8.054119679867767, 7.55066823532847, 7.444644308438889, 7.09753531114441, 7.07771499704076, 7.077706030785819, 6.972273061608244, 6.730335381869886, 6.7295108939723765, 10.086375563512616, 21.74401846942339, 11.410436784878598, 46.72135863660922, 15.13078302615149, 1959.6012947642405, 49.26035743685352, 79.66873023252182, 57.6691264740401, 27.588912834761302, 24.983492723463183, 20.92775956930644, 18.876187633135405, 12.585887411403958, 12.503227313955481, 12.133525960512994, 11.882719082048718, 10.634095400853257, 10.56321301142313, 9.064599162876739, 16.272740845277998, 8.27970149961724, 7.827919084144527, 7.595132489757353, 7.39365169250448, 7.162136423815229, 7.061717645068145, 7.042875864461016, 7.0415100267836666, 6.811214640563034, 6.810813861916103, 6.710268269627005, 18.046897927788635, 6.276128090313694, 6.025505849176312, 10.645073115674458, 32.08690998246151, 5.6937739855946985, 9.962326357621068, 20.260804488531555, 19.498057218859223, 32.76824882505917, 11.285586276765375, 20.9859661923846, 9.714045053837406, 1959.6012947642405, 47.46446653132314, 547.0209644065427, 36.720171896727216, 67.11018875703644, 47.709813785069976, 35.898661876737535, 34.50680558945564, 24.551105254804995, 15.893207370244996, 15.489761966234848, 15.255992282614725, 14.603927465663102, 11.794684348615483, 11.601699186161136, 11.336760665604428, 10.984659472518599, 10.771054564588365, 10.41920773065078, 10.419138084693524, 9.430075406104393, 8.705503091477446, 7.982121571315348, 7.8758759064976545, 7.875874392455105, 7.6305949573768945, 7.044903873223644, 6.800326953888205, 6.69308202098812, 6.321366785189628, 6.214231241863715, 19.320907305228754, 5.490825118510194, 4.892503134391265, 44.21868086002921, 14.134761594756405, 14.186310047445845, 37.15335753094814, 20.07166090517673, 10.977064089476043, 54.10203741061292, 22.98494016867979, 1959.6012947642405, 42.69195457135874, 82.9868703007715, 30.478852151501844, 26.741758496629384, 23.262544853247835, 23.219293050792626, 21.73443338173631, 17.832212759561024, 16.437405394299294, 15.931918543817003, 15.14052169620367, 11.60664210754223, 11.586818673053957, 10.890021732100536, 10.541121589846624, 10.278702854636883, 9.21275835769594, 8.739303028209411, 8.284459869642893, 7.3355809998625165, 29.853492390032606, 6.850291987879217, 6.744643833223272, 18.214108214575717, 6.290322694478017, 6.165178893825393, 6.165001310895409, 6.027736365378105, 6.027417456033009, 5.816225476692485, 5.816059362660063, 5.204980962080762, 20.350478433381436, 23.309444137285684, 18.67971007110068, 17.713110836105358, 17.979963433188882, 1959.6012947642405, 54.80973780208663, 547.0209644065427, 69.67925605153262, 48.61008759674088, 41.35183011411263, 34.91604546661659, 28.676368780379693, 25.087201079134484, 21.798459768537548, 19.94651299635455, 16.035021191670552, 14.78218144106136, 13.698558951825094, 12.995866377079643, 12.807581476574732, 9.633383147196364, 9.395499812932238, 8.84620694501792, 8.484695393073109, 8.246689912772736, 7.098282880241555, 6.974877525504196, 6.529063779419996, 6.2914468806618356, 6.291226517783578, 6.168308318582595, 6.063771312075977, 5.929718537360294, 5.019350914583999, 5.01771122905064, 4.915717860176036, 4.914932839744251, 7.973318996863128, 13.714976999145707, 18.768795470795823, 18.79312946591475, 9.080004870383517, 547.0209644065427, 174.7322980345195, 1959.6012947642405, 63.13347180048263, 22.98001479202158, 25.687180435219705, 77.20179362285684, 57.33762276726311, 24.334185535539852, 23.975829019316137, 22.23132927741905, 18.489211420311698, 14.912157079604645, 14.336455178194166, 13.111544003596844, 11.387333324778176, 11.278439342933392, 10.811515509950295, 9.695616338131837, 9.087188917714228, 8.273745084687889, 7.785954729056053, 35.34148355023454, 6.908289945251017, 6.908071466021855, 6.799050330670713, 6.7984661972975715, 6.658123851553741, 6.332262783766257, 6.2228327901791936, 6.170503502267428, 6.061900708977266, 5.953044662432724, 5.921257690853755, 5.844690907363583, 5.5741939515070715, 10.272404267590405, 9.010633969116643, 8.4620985025424, 13.508946242041016, 1959.6012947642405, 86.70729499370536], \"Category\": [\"Default\", \"Default\", \"Default\", \"Default\", \"Default\", \"Default\", \"Default\", \"Default\", \"Default\", \"Default\", \"Default\", \"Default\", \"Default\", \"Default\", \"Default\", \"Default\", \"Default\", \"Default\", \"Default\", \"Default\", \"Default\", \"Default\", \"Default\", \"Default\", \"Default\", \"Default\", \"Default\", \"Default\", \"Default\", \"Default\", \"Topic1\", \"Topic1\", \"Topic1\", \"Topic1\", \"Topic1\", \"Topic1\", \"Topic1\", \"Topic1\", \"Topic1\", \"Topic1\", \"Topic1\", \"Topic1\", \"Topic1\", \"Topic1\", \"Topic1\", \"Topic1\", \"Topic1\", \"Topic1\", \"Topic1\", \"Topic1\", \"Topic1\", \"Topic1\", \"Topic1\", \"Topic1\", \"Topic1\", \"Topic1\", \"Topic1\", \"Topic1\", \"Topic1\", \"Topic1\", \"Topic1\", \"Topic1\", \"Topic1\", \"Topic1\", \"Topic1\", \"Topic1\", \"Topic1\", \"Topic1\", \"Topic1\", \"Topic1\", \"Topic1\", \"Topic1\", \"Topic2\", \"Topic2\", \"Topic2\", \"Topic2\", \"Topic2\", \"Topic2\", \"Topic2\", \"Topic2\", \"Topic2\", \"Topic2\", \"Topic2\", \"Topic2\", \"Topic2\", \"Topic2\", \"Topic2\", \"Topic2\", \"Topic2\", \"Topic2\", \"Topic2\", \"Topic2\", \"Topic2\", \"Topic2\", \"Topic2\", \"Topic2\", \"Topic2\", \"Topic2\", \"Topic2\", \"Topic2\", \"Topic2\", \"Topic2\", \"Topic2\", \"Topic2\", \"Topic2\", \"Topic2\", \"Topic2\", \"Topic2\", \"Topic2\", \"Topic2\", \"Topic2\", \"Topic2\", \"Topic2\", \"Topic2\", \"Topic2\", \"Topic3\", \"Topic3\", \"Topic3\", \"Topic3\", \"Topic3\", \"Topic3\", \"Topic3\", \"Topic3\", \"Topic3\", \"Topic3\", \"Topic3\", \"Topic3\", \"Topic3\", \"Topic3\", \"Topic3\", \"Topic3\", \"Topic3\", \"Topic3\", \"Topic3\", \"Topic3\", \"Topic3\", \"Topic3\", \"Topic3\", \"Topic3\", \"Topic3\", \"Topic3\", \"Topic3\", \"Topic3\", \"Topic3\", \"Topic3\", \"Topic3\", \"Topic3\", \"Topic3\", \"Topic3\", \"Topic3\", \"Topic3\", \"Topic3\", \"Topic3\", \"Topic3\", \"Topic3\", \"Topic3\", \"Topic3\", \"Topic3\", \"Topic3\", \"Topic3\", \"Topic3\", \"Topic3\", \"Topic3\", \"Topic4\", \"Topic4\", \"Topic4\", \"Topic4\", \"Topic4\", \"Topic4\", \"Topic4\", \"Topic4\", \"Topic4\", \"Topic4\", \"Topic4\", \"Topic4\", \"Topic4\", \"Topic4\", \"Topic4\", \"Topic4\", \"Topic4\", \"Topic4\", \"Topic4\", \"Topic4\", \"Topic4\", \"Topic4\", \"Topic4\", \"Topic4\", \"Topic4\", \"Topic4\", \"Topic4\", \"Topic4\", \"Topic4\", \"Topic4\", \"Topic4\", \"Topic4\", \"Topic4\", \"Topic4\", \"Topic4\", \"Topic4\", \"Topic4\", \"Topic4\", \"Topic4\", \"Topic4\", \"Topic4\", \"Topic4\", \"Topic4\", \"Topic4\", \"Topic4\", \"Topic4\", \"Topic4\", \"Topic4\", \"Topic4\", \"Topic4\", \"Topic4\", \"Topic4\", \"Topic5\", \"Topic5\", \"Topic5\", \"Topic5\", \"Topic5\", \"Topic5\", \"Topic5\", \"Topic5\", \"Topic5\", \"Topic5\", \"Topic5\", \"Topic5\", \"Topic5\", \"Topic5\", \"Topic5\", \"Topic5\", \"Topic5\", \"Topic5\", \"Topic5\", \"Topic5\", \"Topic5\", \"Topic5\", \"Topic5\", \"Topic5\", \"Topic5\", \"Topic5\", \"Topic5\", \"Topic5\", \"Topic5\", \"Topic5\", \"Topic5\", \"Topic5\", \"Topic5\", \"Topic5\", \"Topic5\", \"Topic5\", \"Topic5\", \"Topic6\", \"Topic6\", \"Topic6\", \"Topic6\", \"Topic6\", \"Topic6\", \"Topic6\", \"Topic6\", \"Topic6\", \"Topic6\", \"Topic6\", \"Topic6\", \"Topic6\", \"Topic6\", \"Topic6\", \"Topic6\", \"Topic6\", \"Topic6\", \"Topic6\", \"Topic6\", \"Topic6\", \"Topic6\", \"Topic6\", \"Topic6\", \"Topic6\", \"Topic6\", \"Topic6\", \"Topic6\", \"Topic6\", \"Topic6\", \"Topic6\", \"Topic6\", \"Topic6\", \"Topic6\", \"Topic6\", \"Topic6\", \"Topic6\", \"Topic6\", \"Topic6\", \"Topic6\", \"Topic6\", \"Topic7\", \"Topic7\", \"Topic7\", \"Topic7\", \"Topic7\", \"Topic7\", \"Topic7\", \"Topic7\", \"Topic7\", \"Topic7\", \"Topic7\", \"Topic7\", \"Topic7\", \"Topic7\", \"Topic7\", \"Topic7\", \"Topic7\", \"Topic7\", \"Topic7\", \"Topic7\", \"Topic7\", \"Topic7\", \"Topic7\", \"Topic7\", \"Topic7\", \"Topic7\", \"Topic7\", \"Topic7\", \"Topic7\", \"Topic7\", \"Topic7\", \"Topic7\", \"Topic7\", \"Topic7\", \"Topic7\", \"Topic7\", \"Topic7\", \"Topic7\", \"Topic7\", \"Topic7\", \"Topic7\", \"Topic7\", \"Topic7\", \"Topic7\", \"Topic7\", \"Topic7\", \"Topic7\", \"Topic7\", \"Topic8\", \"Topic8\", \"Topic8\", \"Topic8\", \"Topic8\", \"Topic8\", \"Topic8\", \"Topic8\", \"Topic8\", \"Topic8\", \"Topic8\", \"Topic8\", \"Topic8\", \"Topic8\", \"Topic8\", \"Topic8\", \"Topic8\", \"Topic8\", \"Topic8\", \"Topic8\", \"Topic8\", \"Topic8\", \"Topic8\", \"Topic8\", \"Topic8\", \"Topic8\", \"Topic8\", \"Topic8\", \"Topic8\", \"Topic8\", \"Topic8\", \"Topic8\", \"Topic8\", \"Topic8\", \"Topic8\", \"Topic8\", \"Topic8\", \"Topic8\", \"Topic8\", \"Topic8\", \"Topic8\", \"Topic8\", \"Topic8\", \"Topic8\", \"Topic8\", \"Topic8\", \"Topic9\", \"Topic9\", \"Topic9\", \"Topic9\", \"Topic9\", \"Topic9\", \"Topic9\", \"Topic9\", \"Topic9\", \"Topic9\", \"Topic9\", \"Topic9\", \"Topic9\", \"Topic9\", \"Topic9\", \"Topic9\", \"Topic9\", \"Topic9\", \"Topic9\", \"Topic9\", \"Topic9\", \"Topic9\", \"Topic9\", \"Topic9\", \"Topic9\", \"Topic9\", \"Topic9\", \"Topic9\", \"Topic9\", \"Topic9\", \"Topic9\", \"Topic9\", \"Topic9\", \"Topic9\", \"Topic9\", \"Topic9\", \"Topic9\", \"Topic9\", \"Topic9\", \"Topic9\", \"Topic9\", \"Topic9\", \"Topic9\", \"Topic9\", \"Topic9\", \"Topic9\", \"Topic9\", \"Topic10\", \"Topic10\", \"Topic10\", \"Topic10\", \"Topic10\", \"Topic10\", \"Topic10\", \"Topic10\", \"Topic10\", \"Topic10\", \"Topic10\", \"Topic10\", \"Topic10\", \"Topic10\", \"Topic10\", \"Topic10\", \"Topic10\", \"Topic10\", \"Topic10\", \"Topic10\", \"Topic10\", \"Topic10\", \"Topic10\", \"Topic10\", \"Topic10\", \"Topic10\", \"Topic10\", \"Topic10\", \"Topic10\", \"Topic10\", \"Topic10\", \"Topic10\", \"Topic10\", \"Topic10\", \"Topic10\", \"Topic10\", \"Topic10\", \"Topic10\", \"Topic10\", \"Topic10\", \"Topic10\", \"Topic10\", \"Topic10\", \"Topic11\", \"Topic11\", \"Topic11\", \"Topic11\", \"Topic11\", \"Topic11\", \"Topic11\", \"Topic11\", \"Topic11\", \"Topic11\", \"Topic11\", \"Topic11\", \"Topic11\", \"Topic11\", \"Topic11\", \"Topic11\", \"Topic11\", \"Topic11\", \"Topic11\", \"Topic11\", \"Topic11\", \"Topic11\", \"Topic11\", \"Topic11\", \"Topic11\", \"Topic11\", \"Topic11\", \"Topic11\", \"Topic11\", \"Topic11\", \"Topic11\", \"Topic11\", \"Topic11\", \"Topic11\", \"Topic11\", \"Topic11\", \"Topic11\", \"Topic11\", \"Topic11\", \"Topic11\", \"Topic11\", \"Topic11\", \"Topic11\", \"Topic11\", \"Topic12\", \"Topic12\", \"Topic12\", \"Topic12\", \"Topic12\", \"Topic12\", \"Topic12\", \"Topic12\", \"Topic12\", \"Topic12\", \"Topic12\", \"Topic12\", \"Topic12\", \"Topic12\", \"Topic12\", \"Topic12\", \"Topic12\", \"Topic12\", \"Topic12\", \"Topic12\", \"Topic12\", \"Topic12\", \"Topic12\", \"Topic12\", \"Topic12\", \"Topic12\", \"Topic12\", \"Topic12\", \"Topic12\", \"Topic12\", \"Topic12\", \"Topic12\", \"Topic12\", \"Topic12\", \"Topic12\", \"Topic12\", \"Topic12\", \"Topic12\", \"Topic12\", \"Topic12\", \"Topic12\", \"Topic12\", \"Topic12\", \"Topic12\", \"Topic12\", \"Topic13\", \"Topic13\", \"Topic13\", \"Topic13\", \"Topic13\", \"Topic13\", \"Topic13\", \"Topic13\", \"Topic13\", \"Topic13\", \"Topic13\", \"Topic13\", \"Topic13\", \"Topic13\", \"Topic13\", \"Topic13\", \"Topic13\", \"Topic13\", \"Topic13\", \"Topic13\", \"Topic13\", \"Topic13\", \"Topic13\", \"Topic13\", \"Topic13\", \"Topic13\", \"Topic13\", \"Topic13\", \"Topic13\", \"Topic13\", \"Topic13\", \"Topic13\", \"Topic13\", \"Topic13\", \"Topic13\", \"Topic13\", \"Topic13\", \"Topic13\", \"Topic13\", \"Topic13\", \"Topic13\", \"Topic13\", \"Topic14\", \"Topic14\", \"Topic14\", \"Topic14\", \"Topic14\", \"Topic14\", \"Topic14\", \"Topic14\", \"Topic14\", \"Topic14\", \"Topic14\", \"Topic14\", \"Topic14\", \"Topic14\", \"Topic14\", \"Topic14\", \"Topic14\", \"Topic14\", \"Topic14\", \"Topic14\", \"Topic14\", \"Topic14\", \"Topic14\", \"Topic14\", \"Topic14\", \"Topic14\", \"Topic14\", \"Topic14\", \"Topic14\", \"Topic14\", \"Topic14\", \"Topic14\", \"Topic14\", \"Topic14\", \"Topic14\", \"Topic14\", \"Topic14\", \"Topic14\", \"Topic14\", \"Topic14\", \"Topic14\", \"Topic14\", \"Topic14\", \"Topic14\", \"Topic15\", \"Topic15\", \"Topic15\", \"Topic15\", \"Topic15\", \"Topic15\", \"Topic15\", \"Topic15\", \"Topic15\", \"Topic15\", \"Topic15\", \"Topic15\", \"Topic15\", \"Topic15\", \"Topic15\", \"Topic15\", \"Topic15\", \"Topic15\", \"Topic15\", \"Topic15\", \"Topic15\", \"Topic15\", \"Topic15\", \"Topic15\", \"Topic15\", \"Topic15\", \"Topic15\", \"Topic15\", \"Topic15\", \"Topic15\", \"Topic15\", \"Topic15\", \"Topic15\", \"Topic15\", \"Topic15\", \"Topic15\", \"Topic15\", \"Topic15\", \"Topic15\", \"Topic15\", \"Topic16\", \"Topic16\", \"Topic16\", \"Topic16\", \"Topic16\", \"Topic16\", \"Topic16\", \"Topic16\", \"Topic16\", \"Topic16\", \"Topic16\", \"Topic16\", \"Topic16\", \"Topic16\", \"Topic16\", \"Topic16\", \"Topic16\", \"Topic16\", \"Topic16\", \"Topic16\", \"Topic16\", \"Topic16\", \"Topic16\", \"Topic16\", \"Topic16\", \"Topic16\", \"Topic16\", \"Topic16\", \"Topic16\", \"Topic16\", \"Topic16\", \"Topic16\", \"Topic16\", \"Topic16\", \"Topic16\", \"Topic16\", \"Topic16\", \"Topic16\", \"Topic16\", \"Topic16\", \"Topic16\", \"Topic16\", \"Topic16\", \"Topic16\", \"Topic17\", \"Topic17\", \"Topic17\", \"Topic17\", \"Topic17\", \"Topic17\", \"Topic17\", \"Topic17\", \"Topic17\", \"Topic17\", \"Topic17\", \"Topic17\", \"Topic17\", \"Topic17\", \"Topic17\", \"Topic17\", \"Topic17\", \"Topic17\", \"Topic17\", \"Topic17\", \"Topic17\", \"Topic17\", \"Topic17\", \"Topic17\", \"Topic17\", \"Topic17\", \"Topic17\", \"Topic17\", \"Topic17\", \"Topic17\", \"Topic17\", \"Topic17\", \"Topic17\", \"Topic17\", \"Topic17\", \"Topic17\", \"Topic17\", \"Topic17\", \"Topic17\", \"Topic17\", \"Topic17\", \"Topic17\", \"Topic17\", \"Topic17\", \"Topic17\", \"Topic17\", \"Topic18\", \"Topic18\", \"Topic18\", \"Topic18\", \"Topic18\", \"Topic18\", \"Topic18\", \"Topic18\", \"Topic18\", \"Topic18\", \"Topic18\", \"Topic18\", \"Topic18\", \"Topic18\", \"Topic18\", \"Topic18\", \"Topic18\", \"Topic18\", \"Topic18\", \"Topic18\", \"Topic18\", \"Topic18\", \"Topic18\", \"Topic18\", \"Topic18\", \"Topic18\", \"Topic18\", \"Topic18\", \"Topic18\", \"Topic18\", \"Topic18\", \"Topic18\", \"Topic18\", \"Topic18\", \"Topic18\", \"Topic18\", \"Topic18\", \"Topic18\", \"Topic18\", \"Topic18\", \"Topic19\", \"Topic19\", \"Topic19\", \"Topic19\", \"Topic19\", \"Topic19\", \"Topic19\", \"Topic19\", \"Topic19\", \"Topic19\", \"Topic19\", \"Topic19\", \"Topic19\", \"Topic19\", \"Topic19\", \"Topic19\", \"Topic19\", \"Topic19\", \"Topic19\", \"Topic19\", \"Topic19\", \"Topic19\", \"Topic19\", \"Topic19\", \"Topic19\", \"Topic19\", \"Topic19\", \"Topic19\", \"Topic19\", \"Topic19\", \"Topic19\", \"Topic19\", \"Topic19\", \"Topic19\", \"Topic19\", \"Topic19\", \"Topic19\", \"Topic19\", \"Topic19\", \"Topic19\", \"Topic19\", \"Topic19\", \"Topic19\", \"Topic19\", \"Topic20\", \"Topic20\", \"Topic20\", \"Topic20\", \"Topic20\", \"Topic20\", \"Topic20\", \"Topic20\", \"Topic20\", \"Topic20\", \"Topic20\", \"Topic20\", \"Topic20\", \"Topic20\", \"Topic20\", \"Topic20\", \"Topic20\", \"Topic20\", \"Topic20\", \"Topic20\", \"Topic20\", \"Topic20\", \"Topic20\", \"Topic20\", \"Topic20\", \"Topic20\", \"Topic20\", \"Topic20\", \"Topic20\", \"Topic20\", \"Topic20\", \"Topic20\", \"Topic20\", \"Topic20\", \"Topic20\", \"Topic20\", \"Topic20\", \"Topic20\", \"Topic20\", \"Topic20\", \"Topic20\", \"Topic20\", \"Topic20\", \"Topic20\", \"Topic21\", \"Topic21\", \"Topic21\", \"Topic21\", \"Topic21\", \"Topic21\", \"Topic21\", \"Topic21\", \"Topic21\", \"Topic21\", \"Topic21\", \"Topic21\", \"Topic21\", \"Topic21\", \"Topic21\", \"Topic21\", \"Topic21\", \"Topic21\", \"Topic21\", \"Topic21\", \"Topic21\", \"Topic21\", \"Topic21\", \"Topic21\", \"Topic21\", \"Topic21\", \"Topic21\", \"Topic21\", \"Topic21\", \"Topic21\", \"Topic21\", \"Topic21\", \"Topic21\", \"Topic21\", \"Topic21\", \"Topic21\", \"Topic21\", \"Topic21\", \"Topic22\", \"Topic22\", \"Topic22\", \"Topic22\", \"Topic22\", \"Topic22\", \"Topic22\", \"Topic22\", \"Topic22\", \"Topic22\", \"Topic22\", \"Topic22\", \"Topic22\", \"Topic22\", \"Topic22\", \"Topic22\", \"Topic22\", \"Topic22\", \"Topic22\", \"Topic22\", \"Topic22\", \"Topic22\", \"Topic22\", \"Topic22\", \"Topic22\", \"Topic22\", \"Topic22\", \"Topic22\", \"Topic22\", \"Topic22\", \"Topic22\", \"Topic22\", \"Topic22\", \"Topic22\", \"Topic22\", \"Topic22\", \"Topic22\", \"Topic22\", \"Topic22\", \"Topic22\", \"Topic22\", \"Topic23\", \"Topic23\", \"Topic23\", \"Topic23\", \"Topic23\", \"Topic23\", \"Topic23\", \"Topic23\", \"Topic23\", \"Topic23\", \"Topic23\", \"Topic23\", \"Topic23\", \"Topic23\", \"Topic23\", \"Topic23\", \"Topic23\", \"Topic23\", \"Topic23\", \"Topic23\", \"Topic23\", \"Topic23\", \"Topic23\", \"Topic23\", \"Topic23\", \"Topic23\", \"Topic23\", \"Topic23\", \"Topic23\", \"Topic23\", \"Topic23\", \"Topic23\", \"Topic23\", \"Topic23\", \"Topic23\", \"Topic23\", \"Topic23\", \"Topic23\", \"Topic23\", \"Topic23\", \"Topic23\", \"Topic24\", \"Topic24\", \"Topic24\", \"Topic24\", \"Topic24\", \"Topic24\", \"Topic24\", \"Topic24\", \"Topic24\", \"Topic24\", \"Topic24\", \"Topic24\", \"Topic24\", \"Topic24\", \"Topic24\", \"Topic24\", \"Topic24\", \"Topic24\", \"Topic24\", \"Topic24\", \"Topic24\", \"Topic24\", \"Topic24\", \"Topic24\", \"Topic24\", \"Topic24\", \"Topic24\", \"Topic24\", \"Topic24\", \"Topic24\", \"Topic24\", \"Topic24\", \"Topic24\", \"Topic24\", \"Topic24\", \"Topic24\", \"Topic24\", \"Topic24\", \"Topic24\", \"Topic25\", \"Topic25\", \"Topic25\", \"Topic25\", \"Topic25\", \"Topic25\", \"Topic25\", \"Topic25\", \"Topic25\", \"Topic25\", \"Topic25\", \"Topic25\", \"Topic25\", \"Topic25\", \"Topic25\", \"Topic25\", \"Topic25\", \"Topic25\", \"Topic25\", \"Topic25\", \"Topic25\", \"Topic25\", \"Topic25\", \"Topic25\", \"Topic25\", \"Topic25\", \"Topic25\", \"Topic25\", \"Topic25\", \"Topic25\", \"Topic25\", \"Topic25\", \"Topic25\", \"Topic25\", \"Topic25\", \"Topic25\", \"Topic25\", \"Topic25\", \"Topic25\", \"Topic25\", \"Topic26\", \"Topic26\", \"Topic26\", \"Topic26\", \"Topic26\", \"Topic26\", \"Topic26\", \"Topic26\", \"Topic26\", \"Topic26\", \"Topic26\", \"Topic26\", \"Topic26\", \"Topic26\", \"Topic26\", \"Topic26\", \"Topic26\", \"Topic26\", \"Topic26\", \"Topic26\", \"Topic26\", \"Topic26\", \"Topic26\", \"Topic26\", \"Topic26\", \"Topic26\", \"Topic26\", \"Topic26\", \"Topic26\", \"Topic26\", \"Topic26\", \"Topic26\", \"Topic26\", \"Topic26\", \"Topic26\", \"Topic26\"], \"logprob\": [30.0, 29.0, 28.0, 27.0, 26.0, 25.0, 24.0, 23.0, 22.0, 21.0, 20.0, 19.0, 18.0, 17.0, 16.0, 15.0, 14.0, 13.0, 12.0, 11.0, 10.0, 9.0, 8.0, 7.0, 6.0, 5.0, 4.0, 3.0, 2.0, 1.0, -1.7639, -3.1593, -3.6684, -4.0118, -4.0336, -4.1883, -4.3101, -4.3721, -4.6903, -4.7407, -4.8675, -5.1239, -5.1706, -5.2168, -5.234, -5.2681, -4.1933, -5.3515, -2.9098, -5.368, -5.3932, -5.4696, -5.4938, -5.536, -5.5362, -5.6034, -5.703, -5.7031, -5.7031, -5.7579, -4.49, -4.1556, -4.6324, -4.8029, -4.8939, -1.7593, -5.2292, -4.1654, -5.1327, -4.904, -4.6184, -5.2714, -1.354, -2.6596, -3.4413, -3.8958, -4.1067, -4.2436, -4.3207, -4.3591, -4.6322, -4.7389, -4.824, -3.9179, -4.9662, -5.162, -5.388, -5.56, -5.5812, -5.6763, -5.7357, -5.7357, -5.7357, -5.7608, -5.7941, -4.7345, -5.9486, -5.9496, -3.8846, -6.0562, -4.3644, -6.2201, -4.2175, -4.1793, -3.7913, -4.4473, -4.6469, -3.9426, -4.6184, -4.3842, -4.4372, -2.3488, -5.1018, -4.4802, -4.7233, -2.6636, -3.7277, -4.0979, -4.2519, -4.3281, -4.3557, -4.4987, -4.6531, -4.6915, -4.6925, -4.7417, -4.763, -4.7741, -4.7742, -4.7837, -4.8991, -4.934, -4.9544, -3.6798, -5.0223, -5.0368, -5.0821, -5.0822, -5.0913, -5.1417, -5.1417, -5.1417, -5.1555, -5.1695, -5.1737, -4.3962, -3.5138, -4.2282, -2.9956, -4.4185, -4.1641, -3.7299, -4.3888, -4.7931, -4.6071, -4.6791, -2.2667, -4.2376, -4.4182, -3.9915, -4.3001, -4.5531, -4.5833, -3.3678, -3.9377, -4.3699, -4.4307, -4.6669, -4.8135, -5.0383, -5.101, -5.1284, -5.1284, -5.1608, -5.2273, -5.2792, -5.2986, -5.3372, -5.3721, -5.3952, -4.7649, -5.4136, -5.4802, -4.8577, -5.5264, -5.5265, -5.5688, -5.5689, -3.131, -5.7022, -5.727, -5.814, -5.915, -1.6435, -4.2565, -4.2041, -4.2537, -3.4307, -3.2948, -4.0761, -2.6671, -4.2828, -4.6369, -4.2906, -4.7769, -5.0583, -4.4184, -3.1174, -4.4217, -4.7511, -4.72, -4.5417, -4.8337, -4.9756, -5.0249, -2.1816, -3.8313, -3.9601, -4.0273, -4.0524, -4.4503, -4.547, -4.557, -4.6586, -4.6708, -4.7017, -4.7244, -4.7581, -4.8886, -4.9468, -4.9594, -5.022, -5.022, -5.0676, -5.0676, -3.1987, -5.1483, -5.1609, -5.2583, -5.2584, -5.2722, -5.2931, -5.3345, -5.4011, -5.4011, -4.9594, -2.1067, -5.1466, -3.8219, -4.798, -5.0573, -4.993, -1.9267, -2.4648, -3.2422, -3.5549, -3.5931, -4.0051, -4.1643, -4.2126, -4.2666, -4.5684, -4.5812, -4.6821, -4.7241, -4.7271, -4.8323, -4.8966, -4.9676, -5.0091, -5.054, -5.0679, -5.0721, -5.1183, -5.1684, -5.2048, -3.7595, -5.2799, -5.4521, -5.4522, -5.4732, -5.5163, -3.0853, -4.2038, -3.9131, -5.046, -4.6223, -4.8136, -3.8134, -2.2755, -3.8238, -4.9629, -4.8998, -3.0227, -3.0749, -4.3343, -4.4567, -4.6456, -4.7233, -4.7799, -4.9872, -5.0146, -5.0147, -2.7335, -5.0912, -2.6923, -5.1494, -4.6238, -5.2815, -5.2998, -5.3664, -5.3865, -5.4336, -5.4337, -5.4551, -5.5333, -5.5334, -5.6132, -5.6134, -5.6138, -5.6389, -5.639, -4.0035, -3.5778, -3.4873, -2.8898, -3.495, -3.682, -4.5566, -4.0069, -4.9233, -4.9699, -5.0983, -4.4063, -5.1641, -3.8672, -4.8656, -2.9387, -4.5901, -4.8139, -4.864, -3.863, -3.9352, -4.159, -4.1608, -4.2515, -4.3841, -4.3999, -3.3171, -4.4997, -4.5554, -4.585, -4.7346, -4.801, -4.8529, -4.853, -4.1725, -4.9503, -4.9781, -5.0918, -5.107, -5.1225, -5.1271, -5.1381, -5.1428, -5.1589, -5.1589, -5.2169, -5.2749, -5.2932, -5.2989, -3.8127, -3.062, -3.6627, -4.3061, -3.3582, -4.3698, -4.545, -3.8677, -4.6801, -4.9988, -4.4157, -2.3436, -3.3873, -4.3337, -4.6398, -4.8414, -2.7534, -3.0913, -3.2501, -3.3976, -3.7501, -4.0369, -4.3009, -4.4688, -4.5755, -4.5956, -4.7313, -4.8143, -4.8412, -4.9381, -4.9782, -4.9986, -5.0168, -5.0455, -5.0601, -5.0601, -5.0823, -5.0975, -2.7682, -5.4176, -5.4177, -5.5127, -5.5171, -5.5173, -5.5364, -5.5722, -3.0167, -3.8632, -3.2336, -4.2115, -4.7377, -4.0687, -4.8953, -4.6392, -3.4576, -4.4732, -3.2501, -2.6959, -4.5504, -4.9306, -4.8083, -4.2868, -4.7645, -1.823, -2.1616, -3.2482, -3.4706, -3.8482, -3.9977, -4.1863, -4.329, -4.412, -4.524, -4.6834, -4.6936, -4.8154, -4.9146, -4.93, -4.9606, -5.0869, -5.1025, -5.1026, -5.1388, -5.2548, -5.2731, -5.2733, -5.3398, -5.3597, -5.4073, -5.4285, -5.5617, -5.5619, -5.562, -4.2666, -3.3299, -4.1349, -4.1468, -4.4595, -4.9743, -4.5073, -2.8008, -3.8706, -4.214, -4.2142, -5.0547, -5.1024, -2.7277, -3.3871, -3.4522, -3.6511, -3.8881, -4.1279, -4.2526, -4.4546, -4.5757, -4.6404, -4.6423, -4.6658, -4.7135, -4.75, -4.7648, -4.7845, -4.9099, -4.9298, -5.0068, -5.0336, -5.0762, -5.1242, -5.1273, -5.2423, -5.2423, -5.3089, -5.3089, -5.3089, -4.4517, -4.5524, -3.5278, -4.2021, -3.3307, -4.6589, -4.5757, -4.7355, -4.6567, -3.7569, -4.4803, -2.2896, -4.418, -4.2105, -4.6932, -4.7221, -2.6394, -2.7605, -3.2697, -3.4635, -3.7339, -3.952, -4.0357, -4.1029, -4.307, -4.3573, -4.4202, -4.5716, -4.6982, -4.7489, -4.8159, -4.8386, -4.8447, -4.8838, -5.0501, -5.157, -5.1571, -5.2163, -5.2404, -5.2596, -5.2827, -5.2828, -5.3293, -5.3501, -5.5297, -5.5552, -2.4018, -4.5223, -4.5375, -3.979, -4.511, -4.3394, -4.2683, -4.931, -2.5784, -4.759, -4.2925, -4.1487, -3.8606, -4.483, -4.4717, -1.7042, -2.7843, -3.7822, -4.033, -4.0611, -4.3303, -4.3654, -4.4008, -4.5255, -4.5637, -4.5704, -4.7032, -4.749, -4.7895, -2.5721, -3.7321, -4.9194, -4.9331, -4.9793, -5.0613, -5.1957, -5.2137, -5.2321, -5.3658, -5.3659, -5.3873, -5.4091, -5.4381, -5.5204, -5.5205, -4.616, -4.6659, -4.6787, -4.4933, -4.6848, -4.2307, -4.3784, -2.699, -4.9241, -4.8312, -3.7061, -4.9566, -3.1998, -3.8825, -4.073, -4.3398, -4.5026, -4.5484, -4.5712, -4.6049, -4.6153, -4.6397, -4.6782, -4.7688, -4.8062, -4.8358, -4.8383, -4.9459, -4.9952, -4.9956, -5.0153, -5.1049, -5.1366, -5.1451, -5.1544, -5.1814, -5.2001, -5.2678, -5.2944, -5.3153, -5.3154, -5.3366, -4.4112, -3.6498, -3.4729, -4.3767, -4.2981, -4.7035, -2.1892, -4.7194, -3.3234, -5.0461, -4.323, -4.6285, -4.7891, -4.8424, -2.2553, -2.7574, -3.0478, -3.1825, -3.3262, -3.4483, -3.7193, -4.2597, -4.3119, -4.4054, -4.4409, -4.4996, -4.5715, -4.6153, -4.6417, -4.647, -4.7476, -4.8407, -4.8556, -4.8661, -4.9159, -4.9296, -5.0077, -5.0272, -5.0549, -5.149, -5.2472, -5.3315, -5.3416, -5.3624, -4.8191, -4.7363, -3.4699, -4.9608, -4.5986, -4.6181, -2.54, -4.5523, -4.5808, -4.8733, -2.7792, -3.8898, -4.1813, -4.2443, -4.2768, -3.8291, -4.3859, -4.4404, -4.4405, -4.4584, -4.5168, -4.5945, -4.6543, -4.6867, -4.7548, -4.7707, -4.7833, -4.7934, -4.9474, -5.0561, -5.0745, -5.0946, -5.171, -5.171, -5.1711, -5.1898, -5.1952, -5.2539, -5.2576, -5.4595, -2.4357, -3.3774, -3.8713, -3.7219, -4.9226, -3.7003, -4.0249, -4.2972, -4.2017, -3.2009, -3.0566, -4.2205, -4.6224, -4.6765, -2.6535, -2.7311, -4.1411, -4.1423, -4.2039, -4.3628, -4.4036, -4.507, -4.5313, -4.7238, -4.9161, -4.953, -4.9836, -5.0041, -5.0201, -5.0363, -5.078, -5.0953, -5.1181, -5.1544, -5.2409, -5.2673, -5.2675, -5.2882, -5.2884, -4.6977, -5.3605, -5.3877, -5.4429, -5.443, -3.5148, -3.8342, -3.4549, -4.7682, -3.7892, -3.708, -4.6279, -4.9883, -4.9751, -2.5581, -3.8865, -4.2513, -4.0837, -4.5213, -4.0325, -4.7861, -2.584, -2.7906, -2.8068, -2.9353, -3.0847, -3.8898, -3.9003, -4.0669, -4.1798, -4.2743, -4.3338, -4.3636, -4.3995, -4.4496, -4.4496, -4.5486, -4.6039, -4.6418, -4.6419, -4.7203, -4.8497, -5.0723, -5.0896, -5.0898, -5.1125, -5.2314, -5.2825, -5.2825, -5.2826, -5.382, -4.1897, -4.0962, -4.7084, -4.9983, -2.7662, -4.6457, -3.2093, -4.9848, -4.5994, -4.8987, -3.0652, -3.9744, -4.1031, -4.2007, -4.2613, -4.337, -4.3884, -4.4619, -4.4918, -4.5257, -4.8712, -4.8934, -4.8935, -4.9446, -4.98, -4.98, -5.0184, -5.0358, -5.0359, -5.0768, -5.1136, -5.1383, -5.2078, -5.2079, -5.2288, -5.2501, -5.3283, -5.329, -5.3292, -5.3474, -3.4485, -4.5153, -3.7071, -4.3092, -4.3571, -4.0201, -4.6102, -4.614, -2.9281, -2.502, -4.9287, -4.5592, -4.8422, -4.9717, -3.7671, -3.818, -3.9174, -3.9316, -4.0081, -4.1495, -4.1523, -4.1792, -4.2711, -4.3316, -4.3448, -4.372, -4.4027, -4.5423, -4.5622, -4.7125, -4.752, -4.7859, -4.7861, -4.8328, -4.8848, -4.8852, -4.9946, -5.0348, -5.0528, -5.0897, -5.134, -5.184, -5.205, -5.2264, -3.9756, -3.0621, -3.3418, -3.8973, -2.9429, -4.7345, -4.0375, -4.317, -4.6137, -2.2789, -4.2687, -3.5317, -4.4118, -4.5623, -3.4502, -3.9002, -4.08, -4.1051, -4.2146, -4.2177, -4.2645, -4.2747, -4.2932, -4.3127, -4.3244, -4.3978, -4.4077, -4.4206, -4.4878, -4.6323, -4.7002, -4.7027, -4.7475, -4.7756, -4.7971, -4.8091, -4.8823, -4.8984, -4.953, -4.9562, -4.9562, -4.9735, -5.0143, -5.0144, -4.6574, -4.0095, -4.6387, -4.0246, -4.6422, -2.7654, -4.3756, -4.6499, -2.714, -3.4692, -3.572, -3.7565, -3.8647, -4.2959, -4.303, -4.3355, -4.3581, -4.479, -4.4863, -4.6552, -4.0706, -4.7565, -4.8198, -4.8541, -4.8847, -4.9211, -4.9373, -4.9404, -4.9406, -4.979, -4.979, -4.9963, -4.0125, -5.0742, -5.1221, -4.555, -3.4599, -5.1892, -4.6343, -4.0033, -4.0435, -3.7461, -4.6802, -4.3242, -4.7921, -2.7722, -4.3105, -3.6587, -4.8806, -2.508, -2.8548, -3.1457, -3.1863, -3.5378, -3.994, -4.0213, -4.0375, -4.084, -4.3138, -4.3317, -4.3568, -4.3911, -4.4126, -4.4489, -4.4489, -4.5588, -4.6478, -4.7453, -4.7604, -4.7604, -4.7963, -4.8876, -4.9283, -4.9467, -5.0132, -5.0332, -3.9164, -5.18, -5.3202, -3.1775, -4.4013, -4.4018, -3.8, -4.2633, -4.6755, -4.342, -4.581, -3.7549, -4.6197, -4.6285, -3.2912, -3.4264, -3.5711, -3.573, -3.6419, -3.8495, -3.9355, -3.9686, -4.0228, -4.3084, -4.3102, -4.3778, -4.4134, -4.441, -4.5619, -4.6207, -4.6806, -4.8184, -3.4162, -4.8971, -4.915, -3.9233, -4.9962, -5.0197, -5.0198, -5.0463, -5.0463, -5.0885, -5.0886, -5.2218, -4.0823, -3.9914, -4.2524, -4.3033, -4.3111, -2.8494, -4.3853, -3.835, -4.4892, -2.7777, -2.9428, -3.1161, -3.3189, -3.4574, -3.6036, -3.6965, -3.9266, -4.0131, -4.0945, -4.151, -4.1667, -4.4773, -4.505, -4.5719, -4.6186, -4.6506, -4.821, -4.8412, -4.9176, -4.9609, -4.9609, -4.984, -5.0042, -5.0305, -5.231, -5.2314, -5.2566, -5.2568, -4.7957, -4.352, -4.0819, -4.1755, -4.9178, -3.3074, -3.8218, -2.9983, -4.3703, -4.7955, -4.7982, -2.2913, -2.5929, -3.4723, -3.4877, -3.5664, -3.7594, -3.987, -4.029, -4.1247, -4.2771, -4.2876, -4.3337, -4.4533, -4.5251, -4.63, -4.6986, -3.194, -4.8352, -4.8353, -4.8536, -4.8537, -4.8779, -4.9363, -4.9567, -4.9666, -4.9875, -5.0089, -5.0152, -5.0306, -5.0871, -4.5659, -4.7356, -4.8353, -4.6065, -3.2335, -4.889], \"loglift\": [30.0, 29.0, 28.0, 27.0, 26.0, 25.0, 24.0, 23.0, 22.0, 21.0, 20.0, 19.0, 18.0, 17.0, 16.0, 15.0, 14.0, 13.0, 12.0, 11.0, 10.0, 9.0, 8.0, 7.0, 6.0, 5.0, 4.0, 3.0, 2.0, 1.0, 3.0231, 3.0103, 2.9992, 2.9879, 2.987, 2.9804, 2.9745, 2.9712, 2.951, 2.9472, 2.9369, 2.9119, 2.9067, 2.9013, 2.8993, 2.8951, 2.8847, 2.8844, 2.8825, 2.8822, 2.8788, 2.8679, 2.8643, 2.8578, 2.8578, 2.847, 2.8299, 2.8299, 2.8298, 2.8198, 2.7096, 2.6745, 2.6969, 2.5974, 2.5231, 0.8283, 2.6779, 1.5144, 2.4059, 1.9578, 0.3865, 0.6528, 3.041, 3.0334, 3.021, 3.0081, 2.9999, 2.9936, 2.9897, 2.9876, 2.9706, 2.9627, 2.9558, 2.9478, 2.9429, 2.9224, 2.8938, 2.868, 2.8645, 2.8483, 2.8375, 2.8375, 2.8375, 2.8327, 2.8263, 2.7986, 2.7942, 2.7939, 2.7895, 2.7694, 2.7648, 2.7275, 2.7183, 2.6993, 2.6469, 2.6791, 2.6468, 2.3656, 2.5348, 2.4647, 2.4701, 0.2388, 2.2094, 1.2693, 0.6374, 3.0367, 3.0169, 3.0036, 2.9965, 2.9925, 2.991, 2.9827, 2.9723, 2.9695, 2.9694, 2.9656, 2.9639, 2.963, 2.963, 2.9622, 2.9523, 2.9491, 2.9472, 2.9455, 2.9405, 2.939, 2.9343, 2.9343, 2.9333, 2.9277, 2.9277, 2.9277, 2.9262, 2.9246, 2.9241, 2.8966, 2.839, 2.8462, 2.6842, 2.8075, 2.6044, 2.4344, 2.559, 2.7512, 2.6196, 2.653, 0.3209, 1.1231, 1.6047, -0.1279, 0.7047, 1.5033, 1.2354, 3.0272, 3.0111, 2.9914, 2.988, 2.9724, 2.9609, 2.94, 2.9334, 2.9304, 2.9304, 2.9267, 2.9189, 2.9124, 2.9099, 2.9049, 2.9001, 2.8969, 2.8952, 2.8943, 2.8845, 2.8823, 2.8774, 2.8774, 2.8706, 2.8706, 2.8587, 2.8476, 2.843, 2.8263, 2.8053, 2.7013, 2.7667, 2.7539, 2.7314, 2.6452, 2.5239, 2.6225, 2.3378, 2.476, 2.5762, 2.4276, 2.5405, 2.692, 1.9538, -0.5298, 1.5043, 1.0707, 0.6406, -0.678, 0.9586, 1.9465, 0.8993, 3.1006, 3.0719, 3.0671, 3.0643, 3.0632, 3.0423, 3.0359, 3.0352, 3.0278, 3.0268, 3.0244, 3.0226, 3.0198, 3.0081, 3.0025, 3.0012, 2.9947, 2.9947, 2.9897, 2.9897, 2.9879, 2.9804, 2.9789, 2.9667, 2.9667, 2.9648, 2.962, 2.9563, 2.9467, 2.9467, 2.8125, 0.4809, 2.6086, 0.0417, 1.6094, 1.5959, 0.7126, 3.1443, 3.1403, 3.1291, 3.1215, 3.1204, 3.1057, 3.0983, 3.0958, 3.0929, 3.0736, 3.0726, 3.0648, 3.0613, 3.061, 3.0516, 3.0454, 3.0382, 3.0337, 3.0287, 3.0271, 3.0266, 3.0211, 3.0149, 3.0103, 3.0003, 3.0001, 2.9743, 2.9743, 2.9709, 2.9637, 2.8971, 2.924, 2.8695, 2.8572, 2.6774, 2.7242, 1.936, 0.3121, 0.0398, 1.8125, 0.8127, 3.1629, 3.162, 3.1175, 3.1097, 3.0956, 3.0891, 3.084, 3.0631, 3.06, 3.06, 3.0568, 3.0511, 3.0444, 3.0438, 3.0384, 3.026, 3.0233, 3.0134, 3.0103, 3.0028, 3.0028, 2.9992, 2.9859, 2.9859, 2.9713, 2.9713, 2.9712, 2.9664, 2.9664, 2.9586, 2.9437, 2.9159, 2.8861, 2.8281, 2.7844, 2.7993, 2.6787, 2.8285, 2.837, 2.8676, 2.4555, 2.8429, 1.5561, 2.4492, -0.3511, 1.1594, 1.6244, 1.6192, 3.1625, 3.1596, 3.1489, 3.1489, 3.1439, 3.1357, 3.1347, 3.1299, 3.1278, 3.1237, 3.1214, 3.1088, 3.1026, 3.0976, 3.0976, 3.0946, 3.0874, 3.0843, 3.0709, 3.069, 3.0671, 3.0665, 3.0651, 3.0645, 3.0624, 3.0624, 3.0546, 3.0464, 3.0437, 3.0429, 2.9758, 2.8754, 2.7514, 2.8357, 2.566, 2.8172, 2.8548, 2.4793, 2.8479, 2.9945, 2.5186, 0.244, 0.4763, 1.485, 1.6834, 2.0495, 3.2022, 3.1967, 3.1935, 3.19, 3.1792, 3.1673, 3.153, 3.142, 3.134, 3.1324, 3.1208, 3.113, 3.1103, 3.1002, 3.0957, 3.0934, 3.0913, 3.0879, 3.0861, 3.0861, 3.0834, 3.0815, 3.0536, 3.0351, 3.0351, 3.0187, 3.018, 3.0179, 3.0145, 3.0078, 2.9392, 2.8899, 2.8229, 2.8582, 2.9194, 2.8192, 2.9336, 2.8782, 2.248, 2.6771, 1.0946, -0.1083, 2.1352, 2.9092, 2.5143, 0.7181, 1.7886, 3.212, 3.2096, 3.195, 3.1895, 3.177, 3.1706, 3.1611, 3.1528, 3.1474, 3.1394, 3.1265, 3.1256, 3.1143, 3.1041, 3.1025, 3.0991, 3.0842, 3.0822, 3.0822, 3.0776, 3.0616, 3.059, 3.059, 3.0489, 3.0458, 3.0381, 3.0347, 3.0111, 3.0111, 3.0111, 2.9931, 2.9411, 2.9274, 2.7461, 2.6945, 2.8568, 2.4417, 1.0628, 1.49, 1.7419, -1.6266, 1.3594, 2.7152, 3.2153, 3.2029, 3.2012, 3.1952, 3.1863, 3.1751, 3.1682, 3.1551, 3.146, 3.1407, 3.1405, 3.1385, 3.1343, 3.131, 3.1296, 3.1277, 3.1149, 3.1128, 3.104, 3.1008, 3.0956, 3.0895, 3.0891, 3.0733, 3.0733, 3.0635, 3.0635, 3.0635, 3.0461, 3.0305, 3.0265, 3.0177, 2.8975, 2.9992, 2.8889, 2.8734, 2.818, 2.2659, 2.6814, 0.298, 1.2876, -0.3469, 1.6858, 1.2153, 3.2379, 3.2363, 3.227, 3.222, 3.2132, 3.2044, 3.2004, 3.197, 3.1853, 3.182, 3.1777, 3.1663, 3.1555, 3.1508, 3.1442, 3.1419, 3.1413, 3.1371, 3.1179, 3.104, 3.104, 3.0957, 3.0922, 3.0894, 3.0859, 3.0859, 3.0787, 3.0754, 3.0442, 3.0394, 3.0215, 2.9955, 2.9674, 2.8321, 2.8424, 2.7699, 2.6226, 2.8299, 0.0092, 2.5363, 1.6899, 1.212, 0.003, 1.2929, 1.2339, 3.2483, 3.2387, 3.2141, 3.2031, 3.2018, 3.1863, 3.184, 3.1816, 3.1725, 3.1694, 3.1689, 3.1575, 3.1532, 3.1492, 3.1404, 3.1403, 3.1356, 3.1341, 3.1288, 3.1188, 3.1009, 3.0983, 3.0957, 3.075, 3.075, 3.0715, 3.0678, 3.0628, 3.0481, 3.0481, 3.024, 2.959, 2.8361, 2.7027, 2.7279, 2.2819, 2.2748, -0.1114, 2.7162, 2.5448, 0.1575, 2.693, 3.236, 3.2147, 3.2058, 3.1904, 3.1788, 3.1753, 3.1734, 3.1707, 3.1698, 3.1677, 3.1643, 3.1558, 3.1521, 3.1491, 3.1489, 3.1372, 3.1314, 3.1314, 3.129, 3.1177, 3.1135, 3.1123, 3.1111, 3.1073, 3.1047, 3.0948, 3.0907, 3.0875, 3.0875, 3.0841, 3.0718, 3.0411, 2.8998, 2.9362, 2.6654, 2.7107, 0.3984, 2.6084, 0.5402, 2.9307, 0.6818, 1.1083, 0.9868, 1.1804, 3.2511, 3.2455, 3.2407, 3.238, 3.2346, 3.2314, 3.2227, 3.1969, 3.1936, 3.1873, 3.1848, 3.1805, 3.1748, 3.1711, 3.1689, 3.1684, 3.1592, 3.1499, 3.1483, 3.1472, 3.1418, 3.1403, 3.1311, 3.1288, 3.1253, 3.113, 3.099, 3.086, 3.0844, 3.081, 3.071, 3.0177, 2.8516, 3.0368, 2.8042, 2.6008, 0.0476, 2.351, 2.0829, 1.4795, 3.2593, 3.2296, 3.215, 3.2113, 3.2093, 3.2079, 3.2021, 3.1982, 3.1982, 3.1969, 3.1924, 3.1861, 3.1809, 3.178, 3.1715, 3.17, 3.1687, 3.1677, 3.1511, 3.1378, 3.1355, 3.1329, 3.1224, 3.1224, 3.1224, 3.1198, 3.119, 3.1104, 3.1098, 3.0765, 3.0611, 3.0068, 2.9815, 2.9114, 3.0693, 2.783, 2.5365, 2.52, 2.3631, 0.6627, -0.4689, 0.7843, 1.0832, 1.2609, 3.2918, 3.2907, 3.2467, 3.2466, 3.243, 3.2327, 3.2298, 3.2219, 3.2199, 3.2027, 3.1822, 3.1778, 3.1741, 3.1716, 3.1696, 3.1675, 3.162, 3.1597, 3.1566, 3.1515, 3.1387, 3.1346, 3.1346, 3.1313, 3.1313, 3.1305, 3.1194, 3.1147, 3.1049, 3.1049, 3.0465, 2.9462, 2.869, 3.0353, 2.7235, 2.6693, 2.8339, 2.9881, 2.9126, 0.0295, 1.6104, 1.9769, 1.277, 1.4685, -0.1689, 1.2898, 3.3318, 3.3288, 3.3286, 3.3263, 3.3234, 3.2972, 3.2967, 3.2882, 3.2817, 3.2756, 3.2715, 3.2694, 3.2667, 3.2628, 3.2628, 3.2547, 3.2498, 3.2463, 3.2463, 3.2386, 3.2248, 3.1969, 3.1945, 3.1945, 3.1913, 3.1735, 3.1652, 3.1652, 3.1652, 3.1482, 3.0674, 2.9792, 2.9285, 3.0115, 1.5786, 2.752, -0.6217, 2.8147, 0.7613, 1.4735, 3.3426, 3.3114, 3.3044, 3.2984, 3.2945, 3.2892, 3.2854, 3.2796, 3.2772, 3.2743, 3.2394, 3.2368, 3.2368, 3.2305, 3.226, 3.226, 3.221, 3.2187, 3.2186, 3.213, 3.2078, 3.2041, 3.1935, 3.1935, 3.1902, 3.1868, 3.1737, 3.1735, 3.1735, 3.1703, 2.9589, 3.0725, 2.9566, 2.9625, 2.9569, 2.7553, 2.701, 2.6828, 0.9355, 0.0856, 2.9421, 1.825, 1.561, 1.6616, 3.3297, 3.3275, 3.3229, 3.3222, 3.3182, 3.3101, 3.31, 3.3083, 3.3023, 3.298, 3.297, 3.295, 3.2927, 3.2811, 3.2794, 3.265, 3.2608, 3.2572, 3.2572, 3.2519, 3.2458, 3.2458, 3.2321, 3.2267, 3.2242, 3.219, 3.2126, 3.205, 3.2017, 3.1983, 3.1669, 3.1151, 3.0915, 3.1207, 2.9831, 3.1589, 2.996, 3.0417, 3.0971, 1.5848, 2.791, -0.9441, 1.9097, 1.7459, 3.3612, 3.3432, 3.3335, 3.3321, 3.3252, 3.325, 3.3218, 3.3211, 3.3198, 3.3184, 3.3175, 3.3119, 3.3112, 3.3101, 3.3046, 3.2914, 3.2846, 3.2844, 3.2796, 3.2766, 3.2742, 3.2728, 3.2642, 3.2622, 3.2553, 3.2549, 3.2549, 3.2527, 3.2472, 3.2472, 3.1996, 3.0793, 3.0949, 2.2993, 2.8092, -0.1778, 1.8954, 1.1403, 3.3993, 3.3815, 3.3779, 3.3705, 3.3655, 3.3396, 3.3391, 3.3367, 3.335, 3.3251, 3.3244, 3.3086, 3.308, 3.2978, 3.2906, 3.2865, 3.2828, 3.2782, 3.2761, 3.2757, 3.2757, 3.2706, 3.2706, 3.2682, 3.2626, 3.2572, 3.25, 3.248, 3.2398, 3.2395, 3.2351, 3.1562, 3.1543, 2.9326, 3.0644, 2.8001, 3.1024, -0.1845, 1.9977, 0.2049, 1.6842, 3.4538, 3.4482, 3.4417, 3.4407, 3.4295, 3.4082, 3.4066, 3.4056, 3.4028, 3.3867, 3.3853, 3.3833, 3.3805, 3.3787, 3.3755, 3.3755, 3.3654, 3.3564, 3.3457, 3.3439, 3.3439, 3.3397, 3.3283, 3.3229, 3.3204, 3.311, 3.3081, 3.2906, 3.285, 3.2602, 3.2015, 3.1182, 3.114, 2.753, 2.9055, 3.0968, 1.8353, 2.4523, -1.1673, 1.7944, 1.1209, 3.4599, 3.4555, 3.4502, 3.4501, 3.4473, 3.4376, 3.433, 3.4312, 3.428, 3.4082, 3.408, 3.4025, 3.3994, 3.397, 3.3856, 3.3796, 3.3732, 3.3569, 3.3556, 3.3468, 3.3443, 3.3427, 3.3329, 3.3295, 3.3295, 3.3255, 3.3255, 3.3189, 3.3189, 3.2967, 3.0727, 3.0278, 2.9883, 2.9905, 2.9678, -0.2618, 1.7789, 0.0286, 1.435, 3.5066, 3.5032, 3.499, 3.4931, 3.4884, 3.4827, 3.4786, 3.4668, 3.4616, 3.4563, 3.4525, 3.4513, 3.4256, 3.4229, 3.4162, 3.4112, 3.4077, 3.3873, 3.3847, 3.3743, 3.3681, 3.3681, 3.3647, 3.3616, 3.3576, 3.3238, 3.3238, 3.3191, 3.3191, 3.2963, 3.1976, 3.154, 3.0591, 3.0443, 0.5562, 1.1831, -0.4107, 1.6526, 2.238, 2.1239, 3.5304, 3.5262, 3.504, 3.5034, 3.5003, 3.4915, 3.479, 3.4763, 3.4699, 3.4585, 3.4577, 3.4538, 3.4431, 3.4361, 3.425, 3.4172, 3.409, 3.4001, 3.4001, 3.3977, 3.3977, 3.3944, 3.3862, 3.3832, 3.3817, 3.3786, 3.3753, 3.3744, 3.372, 3.3629, 3.2728, 3.2341, 3.1972, 2.9583, -0.6459, 0.8165]}, \"token.table\": {\"Topic\": [15, 19, 1, 15, 23, 8, 9, 26, 3, 6, 9, 2, 5, 1, 7, 13, 12, 1, 8, 17, 16, 3, 14, 3, 8, 18, 18, 23, 22, 13, 6, 17, 21, 1, 3, 4, 8, 19, 24, 18, 22, 17, 3, 9, 17, 8, 10, 23, 21, 17, 23, 25, 25, 21, 26, 4, 19, 7, 12, 22, 5, 10, 17, 26, 6, 26, 7, 26, 8, 21, 15, 1, 9, 26, 25, 5, 12, 5, 22, 11, 22, 14, 9, 13, 17, 12, 26, 19, 3, 9, 26, 13, 26, 3, 10, 19, 13, 17, 3, 6, 15, 18, 20, 2, 7, 26, 3, 9, 23, 16, 16, 21, 3, 14, 22, 17, 18, 7, 20, 10, 19, 14, 23, 25, 3, 9, 16, 12, 26, 15, 12, 1, 5, 12, 18, 3, 20, 4, 2, 13, 12, 19, 25, 3, 7, 15, 19, 11, 18, 4, 8, 14, 8, 18, 4, 21, 15, 16, 20, 21, 7, 10, 16, 4, 2, 6, 18, 19, 12, 13, 16, 17, 17, 19, 25, 4, 3, 19, 5, 1, 7, 14, 18, 23, 14, 26, 2, 19, 16, 23, 1, 4, 22, 17, 4, 9, 18, 20, 19, 14, 22, 9, 4, 7, 20, 1, 8, 26, 14, 1, 20, 23, 7, 1, 10, 4, 21, 7, 7, 26, 23, 19, 12, 13, 13, 17, 21, 15, 20, 21, 4, 13, 8, 6, 14, 1, 3, 11, 25, 12, 17, 22, 11, 13, 11, 9, 20, 26, 25, 15, 1, 2, 3, 4, 5, 6, 7, 8, 9, 10, 11, 12, 13, 14, 15, 16, 17, 18, 19, 20, 21, 22, 23, 24, 25, 26, 3, 26, 19, 4, 15, 4, 1, 11, 7, 25, 1, 4, 4, 17, 5, 10, 20, 25, 11, 15, 3, 4, 5, 6, 8, 10, 11, 12, 13, 14, 16, 17, 19, 20, 22, 24, 25, 8, 22, 12, 12, 13, 15, 7, 14, 9, 11, 16, 8, 15, 22, 1, 13, 14, 18, 19, 23, 24, 21, 22, 14, 13, 3, 14, 24, 10, 24, 5, 6, 6, 25, 2, 12, 13, 14, 4, 25, 7, 1, 1, 6, 7, 12, 10, 20, 22, 24, 2, 11, 14, 24, 24, 21, 1, 2, 5, 6, 8, 11, 25, 17, 19, 10, 23, 20, 14, 9, 14, 2, 9, 13, 6, 2, 17, 21, 22, 21, 5, 6, 14, 19, 3, 1, 18, 10, 11, 14, 26, 25, 24, 20, 7, 12, 18, 8, 25, 17, 20, 25, 5, 20, 3, 4, 8, 9, 24, 21, 7, 13, 7, 17, 9, 2, 10, 6, 12, 19, 12, 5, 14, 17, 2, 20, 22, 24, 8, 20, 11, 5, 11, 25, 15, 19, 13, 17, 4, 9, 17, 20, 10, 1, 6, 25, 3, 1, 20, 19, 15, 7, 11, 15, 10, 5, 8, 25, 7, 17, 21, 9, 23, 26, 10, 8, 11, 2, 11, 18, 21, 15, 4, 5, 1, 11, 22, 2, 15, 18, 21, 23, 10, 21, 13, 2, 11, 17, 20, 10, 7, 22, 9, 2, 22, 16, 22, 6, 11, 15, 21, 7, 12, 18, 26, 14, 22, 15, 18, 3, 5, 7, 16, 24, 11, 7, 5, 6, 16, 17, 5, 24, 18, 24, 3, 5, 2, 10, 23, 15, 24, 1, 15, 21, 24, 3, 5, 11, 14, 25, 1, 10, 11, 25, 10, 20, 23, 16, 10, 2, 19, 20, 23, 13, 26, 14, 14, 7, 22, 15, 20, 14, 17, 25, 24, 18, 7, 12, 14, 3, 7, 20, 17, 9, 16, 7, 6, 18, 26, 7, 19, 21, 23, 7, 1, 19, 18, 21, 6, 1, 10, 15, 16, 7, 19, 1, 6, 9, 23, 25, 16, 21, 11, 13, 14, 18, 2, 3, 5, 15, 8, 17, 6, 19, 11, 4, 2, 25, 5, 17, 25, 14, 21, 23, 23, 3, 24, 13, 5, 9, 24, 5, 12, 17, 3, 4, 20, 4, 8, 14, 17, 4, 8, 19, 4, 5, 12, 23, 19, 18, 21, 21, 1, 11, 11, 24, 2, 5, 8, 22, 12, 22, 23, 5, 17, 11, 5, 13, 16, 21, 16, 14, 18, 7, 15, 16, 19, 26, 8, 16, 1, 6, 2, 17, 9, 2, 16, 22, 17, 19, 7, 2, 16, 12, 21, 13, 2, 1, 3, 5, 24, 5, 24, 3, 3, 13, 14, 25, 23, 24, 12, 19, 5, 6, 3, 23, 1, 10, 11, 3, 21, 3, 5, 23, 21, 18, 21, 3, 12, 15, 22, 5, 14, 2, 8, 17, 12, 14, 11, 6, 9, 23, 20, 23, 25, 20, 14, 20, 9, 9, 15, 3, 22, 26, 18, 1, 7, 5, 22, 15, 9, 11, 1, 19, 7, 3, 15, 2, 1, 17, 16, 19, 21, 14, 19, 1, 1, 24, 18, 6, 10, 12, 18, 12, 17, 9, 12, 19, 16, 16, 11, 20, 23, 12, 21, 26, 2, 16, 16, 19, 3, 6, 8, 21, 5, 17, 14, 3, 6, 23, 2, 3, 15, 24, 5, 3, 5, 23, 9, 25, 17, 23, 15, 19, 15, 5, 23, 13, 14, 15, 16, 22, 11, 17, 6, 17, 13, 15, 17, 5, 3, 22, 9, 15, 15, 12, 20, 22, 4, 17, 6, 12, 16, 16, 1, 1, 10, 1, 23, 24, 14, 17, 2, 3, 9, 10, 18, 5, 7, 5, 8, 20, 24, 9, 15, 12, 17, 12, 25, 1, 14, 3, 19, 3, 4, 8, 12, 26, 9, 1, 5, 4, 13, 10, 18, 25, 23, 24, 3, 19, 12, 11, 13, 22, 25, 26, 8, 18, 26, 8, 11, 16, 3, 21, 26, 2, 24, 2, 6, 5, 26, 2, 10, 23, 1, 7, 8, 7, 12, 5, 14, 7, 24, 8, 25, 7, 7, 5, 19, 25, 13, 11, 23, 18, 25, 23, 15, 6, 17, 9, 15, 20, 1, 2, 9, 14, 19, 24, 19, 17, 21, 15, 4, 14, 21, 26, 1, 12, 26, 22, 7, 3, 3, 6, 13, 14, 6, 13, 1, 8, 10, 11, 2, 10, 25, 16, 16, 16, 8, 25, 5, 21, 10, 22, 7, 9, 16, 4, 5, 19, 19, 8, 22, 19, 21, 26, 17, 4, 9, 15, 17, 4, 21, 22, 9, 17, 9, 11, 10, 11, 6, 8, 19, 23, 4, 6, 22, 26, 17, 24, 5, 11, 2, 26, 5, 16, 8, 4, 16, 17, 1, 3, 5, 21, 22, 26, 3, 17, 6, 22, 26, 2, 4, 15, 15, 6, 13, 16, 19, 23, 1, 18, 21, 23, 25, 14, 18, 26, 10, 4, 25, 6, 7, 15, 20, 23, 24, 10, 16, 11, 19, 11, 15, 23, 11, 12, 17, 26, 14, 14, 24, 6, 19, 23, 14, 16, 18, 22, 23, 26, 19, 4, 22, 5, 13, 13, 17, 21, 19, 10, 1, 2, 3, 24, 15, 14, 2, 18, 7, 24, 6, 7, 20, 1, 4, 11, 17, 18, 7, 16, 4, 26, 20, 22, 11, 22, 10, 4, 5, 12, 16, 21, 13, 4, 15, 25, 18, 2, 8, 23, 8, 14, 2, 2, 3, 15, 16, 25, 9, 19, 8, 2, 3, 4, 7, 9, 10, 12, 17, 18, 19, 24, 26, 24, 8, 7, 12, 3, 2, 16, 1, 8, 19, 20, 24, 11, 12, 16, 19, 20, 9, 14, 17, 23, 24, 24, 26, 23, 24, 23, 10, 20, 5, 18, 19, 7, 7, 14, 21, 1, 4, 14, 25, 2, 16, 23, 9, 20, 1, 22, 13, 13, 8, 11, 7, 9, 16, 8, 10, 11, 19, 14, 2, 9, 11, 24, 24, 12, 13, 16, 10, 22, 9, 10, 4, 8, 10, 12, 20, 2, 8, 6, 12, 15, 2, 2, 22, 4, 13, 23, 2, 6, 13, 3, 10, 13, 4, 2, 4, 6, 7, 12, 16, 21, 23, 25, 9, 22, 5, 10, 19, 20, 1, 3, 20, 22, 9, 21, 14, 14, 15, 20, 11, 18, 22, 13, 8, 21, 3, 4, 5, 11, 14, 16, 18, 23, 18, 11, 18, 2, 11, 1, 5, 24, 25, 22, 4, 9, 10, 6, 25, 23, 24, 25, 12, 15, 11, 12, 16, 4, 6, 7, 13, 4, 20, 5, 9, 11, 12, 16, 24, 26, 24, 18, 18, 12, 17, 8, 20, 5, 1, 17, 15, 1, 1, 3, 4, 9, 14, 16, 25, 8, 19, 20, 13, 26, 22, 24, 7, 16, 14, 11, 10, 18, 4, 5, 4, 1, 13, 21, 8, 8, 24, 8, 11, 12, 3, 25, 3, 3, 11, 23, 20, 14, 20, 1, 2, 21, 23, 21, 8, 4, 6, 21, 2, 5, 11, 13, 18, 4, 6, 22, 26, 25, 13, 13, 3, 8, 12, 7, 21, 7, 22, 23, 7, 12, 17, 21, 4, 9, 18, 2, 6, 26, 26, 9, 18, 26], \"Freq\": [0.3006426571967617, 0.6614138458328758, 0.8814734717983699, 0.10351480747794627, 0.8281184598235701, 0.8709910227223446, 0.7812947354788508, 0.9451723776170241, 0.9303297567684977, 0.8244809582034867, 0.8320318509797364, 0.7104113508617944, 0.23680378362059815, 0.5747269752398277, 0.3192927640221265, 0.9049065374708584, 0.9312099488614465, 0.9008540624736565, 0.6789341689845583, 0.2424764889230565, 0.8501513102291582, 0.8830368817749737, 0.9014519570468712, 0.15220990725325512, 0.6595762647641055, 0.10147327150217009, 0.9438653290216875, 0.8175774016131904, 0.9597522062648735, 0.8607751742701079, 0.8510122971363041, 0.8919672961882916, 0.9402934538898284, 0.08610884128215412, 0.04305442064107706, 0.11481178837620551, 0.5310045212399505, 0.08610884128215412, 0.1291632619232312, 0.06145246271098693, 0.9217869406648038, 0.8181920652395228, 0.21294326654628032, 0.6715903021844225, 0.09828150763674476, 0.6324376635150317, 0.16396532017056378, 0.18738893733778716, 0.9033595695125448, 0.8701705400932578, 0.9683815692389303, 0.9369450447727534, 0.8138463190492222, 0.9321271791794468, 0.9067792448284621, 0.3015877661015566, 0.7037047875702988, 0.1696211904597361, 0.5088635713792082, 0.28270198409956016, 0.15996628775090377, 0.4798988632527113, 0.1999578596886297, 0.15996628775090377, 0.8697448403980432, 0.8685492079101512, 0.8504933866109708, 0.9249397081099848, 0.7833918828473501, 0.1703025832276848, 0.848332156239272, 0.7796291154516884, 0.9150122133922892, 0.9446128811258379, 0.9490049315200397, 0.9180490172827587, 0.8910592085353369, 0.2058874535701197, 0.720606087495419, 0.8291878494348089, 0.15076142716996527, 0.9309303376045717, 0.9301496235795883, 0.755125993475388, 0.9302684891444721, 0.7813567339051325, 0.8825520089200464, 0.8544928883180897, 0.9781417267722865, 0.9410631072565607, 0.9282545519673617, 0.8921307271032612, 0.8460497547784991, 0.9438156633935761, 0.9530703084416186, 0.9080203698776843, 0.5640283013774474, 0.3223018865013985, 0.9330649748677436, 0.7394524221425451, 0.8911491129173829, 0.9604583878084285, 0.934622690084958, 0.6718775259630966, 0.21596063334528104, 0.0959825037090138, 0.8933010237434454, 0.8172494072454615, 0.9103604918311743, 0.9204408843772188, 0.7942777902057991, 0.1134682557436856, 0.25472089464428554, 0.5731220129496425, 0.06368022366107139, 0.9211343410748727, 0.9011793394261953, 0.897549137606003, 0.08159537614600026, 0.9538547461163789, 0.9520725178389956, 0.9455210148024388, 0.8887900321315308, 0.8105950192108655, 0.9378943478568392, 0.8621531146705174, 0.9091469443020237, 0.22195996495417178, 0.7768598773396013, 0.9273924937660294, 0.8911255471521973, 0.7019688145322478, 0.05849740121102064, 0.05849740121102064, 0.11699480242204129, 0.8795135747508278, 0.8786752957951653, 0.874036972060007, 0.9401262180622002, 0.7937800913892825, 0.9876616844582975, 0.8853377155222931, 0.9673090620080858, 0.17277845251945806, 0.666431174003624, 0.07404790822262489, 0.07404790822262489, 0.8299950558779854, 0.8984050778870075, 0.8492319015844279, 0.7135491899505276, 0.21406475698515828, 0.9349669904362419, 0.9205534048033622, 0.8820700608422503, 0.08820700608422503, 0.8875879379515116, 0.9204888137888763, 0.9278988452342585, 0.8914860344348876, 0.20081257313832665, 0.15060942985374498, 0.6024377194149799, 0.9011143936580436, 0.5901441033607105, 0.9965988857060694, 0.8783360881678887, 0.9445260361464328, 0.8119141438779376, 0.9592422538748486, 0.8050000363535453, 0.18720931077989428, 0.8700852624723694, 0.26639962099752124, 0.6926390145935551, 0.9571023694938977, 0.7252824666741594, 0.21758474000224784, 0.9513571579152934, 0.17296556201640909, 0.46124149871042425, 0.11531037467760606, 0.17296556201640909, 0.05765518733880303, 0.8878989022421783, 0.8399063476800357, 0.4595858100455921, 0.5170340363012911, 0.7794744094797467, 0.9775527313705302, 0.9011427497233915, 0.8492106137986051, 0.9606342982404723, 0.9375667937804334, 0.7069000022471391, 0.12126736440222888, 0.17154895452022623, 0.9592574001109436, 0.8720151002377379, 0.818605958064812, 0.13643432634413533, 0.929112727194101, 0.21565828439311005, 0.10064053271678469, 0.6757292910984115, 0.9509119277354259, 0.879480712292254, 0.054967544518265875, 0.9091132685726895, 0.8153784800072978, 0.9587489356627799, 0.9597722881406795, 0.8849525841932159, 0.9464977184882482, 0.8256790976666746, 0.8876042743261113, 0.8477322982760045, 0.8210366272091186, 0.8381769607922454, 0.8248238036290065, 0.958646229441836, 0.7559031867698818, 0.8600701179244213, 0.8218235693289755, 0.9171171995486838, 0.6421046150077719, 0.34245579467081166, 0.6618812700048309, 0.23486109580816578, 0.08540403483933301, 0.7263323607229614, 0.2017589890897115, 0.9337398354102378, 0.8605055393966974, 0.09928910069961892, 0.7193213177875002, 0.20552037651071434, 0.8945620424770235, 0.8245693550550826, 0.965583482403818, 0.2051486440470108, 0.7693074151762904, 0.8299798276817069, 0.856395292111775, 0.8355286431823544, 0.9751109472107207, 0.9478138903045976, 0.9766711157054312, 0.987449362325737, 0.9135012862278361, 0.11073681191158187, 0.06072663879022232, 0.0653194097911635, 0.028066933894640565, 0.07246372023707201, 0.058685407234248456, 0.029087549672627496, 0.052051404677333414, 0.036231860118536005, 0.007654618334901973, 0.053582328344313805, 0.039293707452496794, 0.03470093645155561, 0.057154483567268065, 0.04031432323048372, 0.02347416289369938, 0.037762783785516396, 0.018881391892758198, 0.037762783785516396, 0.013268005113830085, 0.028066933894640565, 0.0275566260056471, 0.009695849890875833, 0.02347416289369938, 0.019391699781751665, 0.015309236669803945, 0.953433188542401, 0.9844330867657325, 0.8944364602989956, 0.8956484125192646, 0.08142258295629679, 0.8565472027897785, 0.1384586553185005, 0.8307519319110029, 0.7739193716786777, 0.22111982047962223, 0.8678594334874983, 0.12577672949094176, 0.8274747343359735, 0.15323606191406916, 0.9195287940877884, 0.9460979423022646, 0.3303962985510257, 0.6607925971020514, 0.8841588599273239, 0.9379294151578365, 0.042045920534238494, 0.023765085519352195, 0.04753017103870439, 0.04387400403572713, 0.06581100605359069, 0.11516926059378371, 0.027421252522329454, 0.038389753531261235, 0.04570208753721576, 0.06581100605359069, 0.07312334005954521, 0.031077419525306717, 0.08774800807145426, 0.16635559863546537, 0.040217837032749865, 0.031077419525306717, 0.05118633804168165, 0.17721719997104404, 0.7088687998841762, 0.9859495387018193, 0.8894222245978943, 0.9214662073628725, 0.8757091946104332, 0.8685432306424253, 0.11897852474553772, 0.8994656217419407, 0.9429927172804772, 0.8731476706769684, 0.971544811468808, 0.9465102647207371, 0.8781521733475981, 0.2028667018937672, 0.16229336151501375, 0.5680267653025481, 0.04057334037875344, 0.7679048973932597, 0.9284141993743736, 0.9493546339498132, 0.9413512209276153, 0.8941520307255189, 0.9139264733587948, 0.87597988924697, 0.8795429949758692, 0.10980499162728777, 0.8784399330183021, 0.9906985100790388, 0.8294987864298147, 0.9549323665539394, 0.9908989840847792, 0.9204234608326699, 0.9633708171579172, 0.9602714432158452, 0.8269734469549775, 0.8888741898752375, 0.9034353849806175, 0.7129205774380746, 0.17823014435951864, 0.8830995342286928, 0.9491025042580455, 0.32988280221662464, 0.14661457876294426, 0.4764973809795689, 0.9580149033850179, 0.7848972764320589, 0.7228956413405344, 0.24096521378017813, 0.8683609934604598, 0.811683009018725, 0.8150031410599221, 0.8710883800525999, 0.9474879339295387, 0.8295426750299768, 0.927070264754585, 0.06570892462117518, 0.13141784924235037, 0.08761189949490024, 0.08761189949490024, 0.4818654472219513, 0.13141784924235037, 0.02190297487372506, 0.8725533215031094, 0.8433835222616731, 0.852179161796091, 0.8820861880184044, 0.895931867540642, 0.8556354045887828, 0.9911287502544348, 0.9545344344758441, 0.8509708387686654, 0.6767836657566785, 0.2707134663026714, 0.8762024371316947, 0.26436173151690473, 0.13218086575845236, 0.5287234630338095, 0.8115069859299251, 0.8436502852006048, 0.1008530299927931, 0.2689414133141149, 0.06723535332852873, 0.5378828266282298, 0.8583497427581434, 0.914911362023926, 0.7775140616399431, 0.061783509867348325, 0.12356701973469665, 0.8031856282755282, 0.8824761853775116, 0.7947575859598072, 0.7948717804873935, 0.8947202165695257, 0.6911721592371756, 0.23039071974572517, 0.9854269808396826, 0.9200428550431325, 0.9525474454343205, 0.9159772338880002, 0.6962571671431226, 0.26109643767867097, 0.6268815862416869, 0.35821804928096396, 0.5473479933132956, 0.09122466555221594, 0.10946959866265912, 0.05473479933132956, 0.18244933110443187, 0.9757154275840407, 0.9482319535714564, 0.80792106743336, 0.810339865425421, 0.1620679730850842, 0.8995273840103104, 0.72125983225584, 0.8437133710146446, 0.7449574212170846, 0.06772340192882588, 0.1693085048220647, 0.8801974338678861, 0.8594799892421493, 0.670650858600657, 0.22355028620021902, 0.5056414145972066, 0.18961553047395246, 0.23175231502371968, 0.042136784549767214, 0.8709346756738693, 0.871525296681148, 0.914014884834949, 0.8955733824142222, 0.09328889400148148, 0.8602301586028602, 0.804973992798314, 0.17888310951073647, 0.5588246000724577, 0.3193283428985473, 0.653785791463695, 0.12453062694546571, 0.18679594041819855, 0.9353718701264441, 0.8986682956380664, 0.9657831822232378, 0.9205664354283524, 0.843210342699643, 0.930273152954487, 0.10281649593442582, 0.8225319674754066, 0.8852022953535769, 0.9530379099167735, 0.9879097061655212, 0.7864359395734817, 0.15728718791469634, 0.9547658461642542, 0.9285476260082967, 0.912896348379505, 0.9566631177505597, 0.8382390380800193, 0.7913973755776053, 0.9491780640769184, 0.8880228590691669, 0.23634799327839412, 0.7090439798351823, 0.8530176666906085, 0.7886484364856576, 0.9291743527857, 0.5886108690523814, 0.09810181150873024, 0.19620362301746047, 0.04905090575436512, 0.8919107280897417, 0.8680572949413851, 0.9299924608067849, 0.23825445796316985, 0.1429526747779019, 0.5241598075189737, 0.917804112901436, 0.9239876674310868, 0.24910743677970554, 0.14946446206782332, 0.5480363609153522, 0.7511110744056216, 0.2233032923908605, 0.9821767564624929, 0.14840156643582608, 0.5936062657433043, 0.19786875524776812, 0.9053828245320965, 0.9324354355679051, 0.12466142742278308, 0.8414646351037858, 0.8208850707489883, 0.9227260194665856, 0.8496516430659555, 0.8722738211221961, 0.8298058495260611, 0.880549617074515, 0.8499135538038246, 0.9069859486424809, 0.8453638815405283, 0.8849004323906308, 0.31318502426882855, 0.5637330436838913, 0.06263700485376571, 0.9814155055560407, 0.8520899604172836, 0.9775924451020402, 0.9250219702565844, 0.7912867980093728, 0.15825735960187456, 0.6607894335340543, 0.24028706673965608, 0.8110064746065432, 0.9520631120479814, 0.7690768572616116, 0.9305250588956985, 0.925474323489412, 0.8466940864505214, 0.9033527741296723, 0.9160574596898511, 0.8596640587674315, 0.8574213018087914, 0.9486656533430142, 0.8583586584449139, 0.8480089354873669, 0.983195326759742, 0.9453648987860956, 0.9176721999233038, 0.10049075534632025, 0.8709198796681088, 0.19102329882995864, 0.420251257425909, 0.22922795859595038, 0.11461397929797519, 0.23759187594504078, 0.09503675037801632, 0.38014700151206526, 0.1267156671706884, 0.15839458396336054, 0.18904581795035727, 0.6427557810312147, 0.15123665436028583, 0.9428741550970925, 0.8580079627627424, 0.7712567219573849, 0.17139038265719667, 0.8835885977930936, 0.8929793178924244, 0.9523659222437093, 0.9365527203347248, 0.9736337493597506, 0.9543932166410894, 0.6337605940082887, 0.28167137511479495, 0.9250807954929325, 0.9160818210512819, 0.10037816109437242, 0.8030252887549794, 0.9900583659211798, 0.8609868642366352, 0.9150543101666023, 0.9819590751643943, 0.9233705281214635, 0.9477331943277529, 0.8893951916537187, 0.7423733440098216, 0.13610177973513396, 0.09898311253464287, 0.17849579382929082, 0.7139831753171633, 0.8914775239411675, 0.9513677933549044, 0.6771917196889775, 0.3009740976395456, 0.8628116232816856, 0.9302380396909568, 0.9118564292161196, 0.9592994670369913, 0.764583380917333, 0.16218435352791913, 0.046338386722262606, 0.9326235170754046, 0.8362379447504847, 0.8481373781722994, 0.9121807109249659, 0.7618441835067135, 0.21766976671620383, 0.8901332705238788, 0.9675727550185595, 0.6763199883505371, 0.19323428238586773, 0.8992431879973948, 0.9810201207796377, 0.9705215293377238, 0.16149280707677893, 0.08074640353838947, 0.2422392106151684, 0.4844784212303368, 0.8137163510553383, 0.9813976957639114, 0.9539565457461208, 0.9190033021050152, 0.18150820350477181, 0.09075410175238591, 0.6806557631428943, 0.9198422786903049, 0.0735873822952244, 0.11412637219425721, 0.7988846053598005, 0.9458271939119794, 0.8415308361075489, 0.8129379686852404, 0.14345964153268947, 0.9685779637325971, 0.9338190247314414, 0.12541828570930388, 0.7525097142558232, 0.33390634895345866, 0.6010314281162256, 0.7969157901229382, 0.6966645255505587, 0.13483829526785007, 0.15731134447915843, 0.8516794704332123, 0.8973101595874566, 0.9182718130417484, 0.9302860495453599, 0.2445352849092823, 0.5868846837822775, 0.14672117094556938, 0.10135381679887788, 0.1689230279981298, 0.7094767175921451, 0.8873477912501222, 0.14558522601850452, 0.8249829474381922, 0.6680737166842193, 0.11691290041973838, 0.06680737166842193, 0.13361474333684387, 0.874301123682741, 0.9004375175578404, 0.8833545933284295, 0.9471573862794189, 0.8480167944644713, 0.8107927837425776, 0.9597658726567497, 0.9079651157384774, 0.8626772295685149, 0.9163137307041669, 0.9595395260783703, 0.7101026443448251, 0.2485359255206888, 0.8126887841665017, 0.16253775683330035, 0.8774924945463095, 0.15258673195182476, 0.21362142473255466, 0.610346927807299, 0.6619485169540192, 0.20903637377495343, 0.10451818688747672, 0.8858452034853791, 0.9313671362939194, 0.9614795246754296, 0.061291215223431374, 0.490329721787451, 0.12258243044686275, 0.2451648608937255, 0.9563795635101673, 0.8556718948957484, 0.977848294508736, 0.05238503324878563, 0.5238503324878563, 0.20954013299514251, 0.15715509974635689, 0.9152240191321542, 0.8410166879392545, 0.8258883838754739, 0.7796450614248533, 0.8760914590274436, 0.7731558450757745, 0.756255556254599, 0.7785193101830163, 0.5427614954696968, 0.2171045981878787, 0.1809204984898989, 0.7518137963525438, 0.18795344908813594, 0.9638808963317969, 0.9097768021877879, 0.929203687698357, 0.8123164548893634, 0.9402732635681652, 0.7814432615352979, 0.8116685333886035, 0.8480211858446397, 0.6335458235865232, 0.1583864558966308, 0.1583864558966308, 0.7285065052658516, 0.1821266263164629, 0.8583583551872191, 0.9779453882399491, 0.7075332031329401, 0.1572296006962089, 0.8452748504432411, 0.7909681829750067, 0.875596865409915, 0.8974439068704164, 0.7563090310437678, 0.28821241973191825, 0.648477944396816, 0.8460250178058671, 0.11280333570744895, 0.801518331017384, 0.9494468616738961, 0.9797852036518688, 0.8872666987139113, 0.8691204350361635, 0.5991790557366194, 0.23967162229464775, 0.11983581114732388, 0.9294476091168388, 0.6931297983214983, 0.2310432661071661, 0.9576025995662619, 0.9182390675129453, 0.8085425894047643, 0.851924713067362, 0.9045437144854901, 0.954792275134277, 0.716289421506034, 0.1432578843012068, 0.1432578843012068, 0.9592078820898156, 0.8794637826665641, 0.9526220911801465, 0.8917528341203481, 0.9890736230395641, 0.9853128801464456, 0.9329560451912373, 0.8964480012623843, 0.8514714660510736, 0.959476950332288, 0.886153665583857, 0.8439451439223451, 0.9921797100373662, 0.8718737902358086, 0.9781681734447789, 0.8969001237489359, 0.057864524112834576, 0.028932262056417288, 0.9769802984188783, 0.9905461561703559, 0.8326285091779249, 0.9567810367131168, 0.9535823837861551, 0.9511214455466229, 0.7306596577493718, 0.16236881283319374, 0.940695967750821, 0.8055195336100942, 0.9231310405693064, 0.8151294181616774, 0.17624419852144374, 0.9363212970582809, 0.8644920710439832, 0.09099916537305086, 0.9204447107639561, 0.8544578283706469, 0.8605514940368705, 0.28803236583057823, 0.6912776779933877, 0.865070072536419, 0.8974036007707102, 0.8758750737364615, 0.9481394712205616, 0.8357643360723928, 0.8114952687203909, 0.3744143579627371, 0.5616215369441057, 0.8752392570075719, 0.8360167416823461, 0.8921378938448882, 0.7670012830601707, 0.2091821681073193, 0.8332662180854866, 0.9564170941224891, 0.6765337919744872, 0.13530675839489745, 0.20296013759234616, 0.6591391245489505, 0.23968695438143656, 0.05992173859535914, 0.7898457534340021, 0.21265077977069285, 0.7729414064527798, 0.2046021370022064, 0.1970335755648352, 0.11822014533890111, 0.5122872964685715, 0.15762686045186816, 0.9209310582626561, 0.7393626524802336, 0.8813477863553771, 0.952365430934008, 0.8880818982701973, 0.9437994264192863, 0.5753668555551609, 0.15343116148137623, 0.23014674222206435, 0.9154048067880206, 0.9107945445955878, 0.6343294970036021, 0.13354305200075833, 0.20031457800113753, 0.7796037787719932, 0.1949009446929983, 0.8549011282039681, 0.8887902029907725, 0.9200114559890235, 0.9170879727702033, 0.8218739981058794, 0.9684914220527653, 0.8769598329791527, 0.1628380119754383, 0.1628380119754383, 0.10855867465029219, 0.48851403592631487, 0.08141900598771915, 0.7196273283918194, 0.27229142155366143, 0.9738438399330186, 0.8834541495546308, 0.38773387784860747, 0.05169785037981433, 0.5686763541779576, 0.9893139476595574, 0.9389818711958678, 0.9216429087234571, 0.7814398567019776, 0.9923344184484667, 0.918778563177908, 0.8793339169284522, 0.8746282757048831, 0.9403714771260772, 0.9595365261934472, 0.9319829281070923, 0.7757496827953506, 0.21295089331637077, 0.9484318143307344, 0.8624422147713265, 0.8182440066114955, 0.16368316932592122, 0.8184158466296061, 0.945085919944644, 0.9106099524358249, 0.9246709116707884, 0.22345323431365768, 0.782086320097802, 0.7081389811420308, 0.2608933088418008, 0.8509708436143897, 0.9586465110034124, 0.9737393334110943, 0.8881832255605812, 0.7690215798790917, 0.869911194041648, 0.8296007989408268, 0.9269545760059474, 0.889594787858886, 0.927670196191475, 0.9137584350221315, 0.9344736181982779, 0.8502821167576649, 0.966693169061561, 0.7971762059246298, 0.23017913555507144, 0.7480821905539822, 0.8160604219010738, 0.13601007031684564, 0.16788980642559814, 0.5940716227367319, 0.18080440691987493, 0.051658401977107124, 0.8969906758712928, 0.9268458744426323, 0.8689543100041838, 0.91296784936629, 0.9663473400359256, 0.8956234669183689, 0.9967456727683289, 0.6365401041291412, 0.23870253904842792, 0.974966702663648, 0.9733896327427082, 0.645197518560274, 0.29327159934557906, 0.9832087293727916, 0.8300026039737045, 0.5631359989320895, 0.20477672688439622, 0.10238836344219811, 0.051194181721099054, 0.6904017940433355, 0.2510551978339402, 0.8781687261442133, 0.7270891910980722, 0.130876054397653, 0.130876054397653, 0.879774813421448, 0.8915952577436498, 0.8034925842601692, 0.32120412882010313, 0.5888742361701891, 0.7888974168756855, 0.14343589397739737, 0.1946963873209343, 0.7787855492837372, 0.9983144179958081, 0.8144554665500141, 0.9481369774800866, 0.0641622975389616, 0.7057852729285776, 0.213874325129872, 0.7544793820224036, 0.1886198455056009, 0.87975187330859, 0.9087956203840205, 0.2948333632372023, 0.6388056203472716, 0.7954082070530544, 0.11362974386472206, 0.7901414871352583, 0.8629128295810792, 0.944827745195485, 0.7887151640767632, 0.9737643408818326, 0.9304589745177279, 0.20353388714803136, 0.7689057958925629, 0.9438474484227313, 0.9342512243602914, 0.8046047540548952, 0.906542753441369, 0.964660161295347, 0.9126844233066997, 0.1193869238895609, 0.09550953911164872, 0.7640763128931898, 0.232429100018293, 0.232429100018293, 0.5229654750411593, 0.11043473076100427, 0.6626083845660256, 0.22086946152200854, 0.953698207545074, 0.22994829621907464, 0.7358345479010389, 0.8586921261796416, 0.5396906174559157, 0.1587325345458576, 0.1904790414550291, 0.09523952072751456, 0.9589935972440318, 0.934902029203363, 0.8866474958049573, 0.9534488596431356, 0.9257129769878775, 0.9159177968567559, 0.8689329954347441, 0.09289975331827899, 0.8941601256884353, 0.973933377456188, 0.9795784212339379, 0.9476640831079545, 0.9210065151994811, 0.9734131004669022, 0.94590611618699, 0.9263077982403055, 0.22392263966525677, 0.761336974861873, 0.848825416505376, 0.861627036711914, 0.9185903352385982, 0.8233192697562982, 0.804962546214433, 0.9470861967037797, 0.17527812805995743, 0.7011125122398297, 0.7972710624746876, 0.8825541931035726, 0.21179524308103365, 0.7059841436034454, 0.7831260308592457, 0.09306549566000265, 0.23266373915000663, 0.6747248435350193, 0.8696632040149421, 0.8563631511072075, 0.988397145666125, 0.9775563685188964, 0.9612572580874514, 0.844415200460407, 0.8550034373958336, 0.8565256673259982, 0.10854850524255438, 0.08141137893191579, 0.7598395366978807, 0.8091391488719784, 0.938604053576941, 0.8942350993610192, 0.7712888020569937, 0.19282220051424842, 0.7232680908993577, 0.26300657850885734, 0.8500102571166485, 0.9381580290243602, 0.8635882900932599, 0.1514898350322276, 0.7574491751611381, 0.8823105184037359, 0.7929216196320192, 0.9596243767089537, 0.1131814400013622, 0.8771561600105571, 0.8297108679846631, 0.859688611863338, 0.8698677100837506, 0.9819328641407374, 0.8116705332804467, 0.9735407092714476, 0.8098369623295478, 0.8914400562784188, 0.9497903652203191, 0.2179420910335343, 0.76279731861737, 0.7913271169664364, 0.22480238034385894, 0.6968873790659627, 0.07868083312035062, 0.9499186179333697, 0.7897021072907867, 0.19742552682269668, 0.2044844709576114, 0.7156956483516399, 0.94030705174854, 0.837738859601872, 0.7896071547785856, 0.3124487906721345, 0.624897581344269, 0.976542722307639, 0.9441581495205688, 0.1305202440373511, 0.17402699204980146, 0.21753374006225185, 0.08701349602490073, 0.3480539840996029, 0.9426909732901378, 0.9396346122960393, 0.9545401862826538, 0.7074756749848342, 0.21224270249545027, 0.07402501883440123, 0.2961000753376049, 0.5922001506752098, 0.8256486112944463, 0.895535535671358, 0.9189678953531383, 0.9229312261740532, 0.8985550624453978, 0.018483592261237747, 0.7763108749719853, 0.2033195148736152, 0.9662087633555029, 0.04367027398409887, 0.9170757536660763, 0.8522111214740057, 0.8433667035330509, 0.18887059773371187, 0.6295686591123729, 0.1259137318224746, 0.7366852900789402, 0.20091417002152917, 0.8670229456441202, 0.09633588284934669, 0.8219563831074922, 0.9435394925495331, 0.9842890359150797, 0.8838133242974747, 0.21147148130603075, 0.7049049376867691, 0.16339792789844662, 0.40849481974611657, 0.08169896394922331, 0.19063091588152106, 0.1361649399153722, 0.8990548036295428, 0.8177152522200966, 0.7462796264666323, 0.24875987548887743, 0.9305878964585498, 0.9335889815343632, 0.8888413642205523, 0.9810019736449792, 0.9013404463673337, 0.9120535982729461, 0.9088464454245595, 0.7796922778370388, 0.12870319782534898, 0.21450532970891495, 0.6435159891267448, 0.9300448725110614, 0.9296167282624926, 0.8931963437360051, 0.950963745251567, 0.3387321434115319, 0.6210089295878085, 0.9166957745978674, 0.8209386477224128, 0.9331139948290184, 0.13226000663086826, 0.5621050281811901, 0.033065001657717065, 0.09919500497315119, 0.09919500497315119, 0.9334556083174608, 0.938259968302493, 0.8237076892068497, 0.8554772321151529, 0.859013356481344, 0.9556684715230038, 0.7842628636332677, 0.9466816572936598, 0.7973425657079951, 0.8455160976743181, 0.14081857418967478, 0.6102138214885907, 0.18775809891956638, 0.9661867205895812, 0.9041510139696988, 0.8313509950341006, 0.819878573424426, 0.10248482167805326, 0.9300031566521572, 0.8284077517084679, 0.9198772628271802, 0.04841459278037791, 0.9422235149823459, 0.8406645412099757, 0.9757294839131961, 0.17526447175159393, 0.10515868305095635, 0.14021157740127516, 0.45568762655414424, 0.07010578870063758, 0.8778891051440206, 0.9487934206758386, 0.818451418870319, 0.08985689701988835, 0.1470385587598173, 0.08985689701988835, 0.040844044099949246, 0.0490128529199391, 0.1797137940397767, 0.1307009411198376, 0.1307009411198376, 0.07351927937990865, 0.0326752352799594, 0.02450642645996955, 0.9388313122819634, 0.7684946456366952, 0.8802827778861164, 0.8213053937995346, 0.8268852772726732, 0.9709898178361585, 0.8712573897294521, 0.9408228607712411, 0.05662389117204138, 0.39636723820428965, 0.5096150205483724, 0.8088565255304345, 0.9722621645572457, 0.9406098858931731, 0.902405277721642, 0.6999166614614216, 0.1749791653653554, 0.0874895826826777, 0.1580365572578802, 0.1580365572578802, 0.5192629738473207, 0.045153302073680054, 0.11288325518420014, 0.8179311223081651, 0.810306646477502, 0.9189589522783441, 0.8449555082824899, 0.9851222688005523, 0.9571696005978549, 0.9762840341442399, 0.8098569601331351, 0.9120488806877788, 0.8853463101323503, 0.842076520534301, 0.23360898486765178, 0.5256202159522165, 0.23360898486765178, 0.1946496234808433, 0.3503693222655179, 0.1946496234808433, 0.23357954817701196, 0.7661985247402296, 0.0957748155925287, 0.0957748155925287, 0.1713331849024455, 0.7709993320610047, 0.0939401720526972, 0.8454615484742748, 0.8078873221215316, 0.9233432628318353, 0.8010516724696841, 0.9774318433116348, 0.6145759935593942, 0.3380167964576668, 0.03072879967796971, 0.8444670489257426, 0.5890743585149609, 0.29453717925748046, 0.0981790597524935, 0.8777661756738064, 0.933644426988919, 0.9586563230960166, 0.8084727602341052, 0.16169455204682104, 0.9533309314563433, 0.6304368777415522, 0.2701872333178081, 0.7820038767539299, 0.11082237002739388, 0.8311677752054542, 0.7554856556686392, 0.22220166343195272, 0.9268168011074838, 0.9750243863288142, 0.9887205310926136, 0.9381667288806509, 0.9735048677966156, 0.7218634833778228, 0.9373449530619461, 0.9874525643586088, 0.96386621587222, 0.9359209036443192, 0.9907491516521363, 0.7835165633614711, 0.9786540035742443, 0.5780580190781807, 0.28902900953909033, 0.05780580190781807, 0.9556699012181508, 0.9743387755323422, 0.9939053988010684, 0.8817207054952167, 0.5719290094568017, 0.28596450472840085, 0.9594774737120776, 0.1687013855235103, 0.060250494829825106, 0.30125247414912554, 0.13255108862561524, 0.07230059379579012, 0.09640079172772018, 0.060250494829825106, 0.09640079172772018, 0.7947297489498981, 0.8100265041330278, 0.8809001502122715, 0.17868078679584987, 0.08934039339792493, 0.17868078679584987, 0.580712557086512, 0.5047894112169126, 0.3605638651549375, 0.07211277303098751, 0.7966695274618095, 0.926843006733378, 0.8477312243441055, 0.8574793800662684, 0.922713582584203, 0.8683412457548516, 0.9632531427766803, 0.9205956677893808, 0.9346414161383767, 0.8454411068229455, 0.8460440681313263, 0.0991436412121607, 0.7931491296972856, 0.08985772945973543, 0.33696648547400787, 0.06739329709480157, 0.15725102655453702, 0.08985772945973543, 0.044928864729867714, 0.15725102655453702, 0.044928864729867714, 0.9205762080068824, 0.9743473468179366, 0.8950277645322443, 0.6773549346919553, 0.2822312227883147, 0.994112413141954, 0.1596328065233161, 0.1596328065233161, 0.6385312260932644, 0.906579013866051, 0.9129072935119599, 0.9802582925004308, 0.8113676495987221, 0.21873897420220736, 0.7291299140073578, 0.9173596605639164, 0.9415061945456236, 0.9764137228963778, 0.7768598530505044, 0.14124724600918262, 0.9159833349423087, 0.829293279663507, 0.9579822133546274, 0.7752826112076213, 0.21535628089100592, 0.07408179741753207, 0.8889815690103848, 0.9880592924507648, 0.8359656835191406, 0.09226443980960046, 0.3805908142146019, 0.1383966597144007, 0.1383966597144007, 0.11533054976200058, 0.06919832985720036, 0.06919832985720036, 0.9457262796820975, 0.9748810783315406, 0.895017893242041, 0.7976310178424563, 0.8857251258179281, 0.832954973573444, 0.9128421081477365, 0.8595582830705971, 0.7297397467114266, 0.20849707048897903, 0.9709878387116424, 0.9485284368671135, 0.06867648474255929, 0.09729168671862566, 0.49218147398834156, 0.08012256553298584, 0.07439952513777257, 0.08012256553298584, 0.09729168671862566, 0.9381702447172556, 0.7564526956937535, 0.8361172052731192, 0.7981066930933319, 0.15962133861866637, 0.9257140494567236, 0.8110298356568876, 0.9009280010254122, 0.8802752364896351, 0.8950065172768165, 0.7842233765110062, 0.8116190856245442, 0.9639889001747199, 0.9192271860001822, 0.9641378204694598, 0.8875565737593073, 0.12716583075976653, 0.5722462384189494, 0.25433166151953307, 0.831487413567002, 0.33370479435596134, 0.6117921229859291, 0.8523324252206063, 0.6962719053390916, 0.23209063511303052, 0.9278274906735176, 0.9354524587589447, 0.896503413316302, 0.9866386783899896, 0.2732971198442913, 0.7287923195847766, 0.9124974997024508, 0.8700812589203447, 0.901964638451126, 0.6280409388809197, 0.31402046944045986, 0.8598726983334543, 0.9834572249370996, 0.9122214572632504, 0.8563334966753631, 0.7053078785378101, 0.908197453432981, 0.9412963884021963, 0.11900352978048462, 0.20825617711584807, 0.11900352978048462, 0.386761471786575, 0.14875441222560576, 0.20767775473320735, 0.7268721415662258, 0.8809519863037345, 0.8803602601905962, 0.9043423977895414, 0.9642684583005391, 0.8813662888649786, 0.11319797897519052, 0.3018612772671747, 0.5282572352175557, 0.8786383289365528, 0.10041580902132032, 0.7823714455093267, 0.1303952409182211, 0.052158096367288444, 0.20002377751334924, 0.7913984240745556, 0.9594816292078701, 0.90760783974289, 0.14249396753753063, 0.8549638052251838, 0.9820220030942342, 0.17037017583512598, 0.6246906447287953, 0.17037017583512598, 0.8685217394681871, 0.7937461803863411, 0.89505107260925, 0.9011547597751338], \"Term\": [\"_\", \"_\", \"abc_news\", \"access\", \"access\", \"account\", \"accurate\", \"action\", \"activity\", \"ad\", \"address\", \"administration\", \"administration\", \"advice\", \"advice\", \"affect\", \"africa\", \"ag\", \"age\", \"age\", \"agent\", \"aid\", \"aids\", \"air\", \"air\", \"air\", \"airline\", \"airlines\", \"airport\", \"alabama\", \"alarm\", \"alcohol\", \"alert\", \"america\", \"america\", \"america\", \"america\", \"america\", \"america\", \"american\", \"american\", \"american_people\", \"americans\", \"americans\", \"americans\", \"amid_coronavirus\", \"amid_coronavirus\", \"amid_coronavirus\", \"analysis\", \"analyst\", \"answer\", \"anxiety\", \"apartment\", \"app\", \"apple\", \"approval\", \"approval\", \"april\", \"april\", \"april\", \"area\", \"area\", \"area\", \"area\", \"argument\", \"arkansas\", \"arrest\", \"art\", \"article\", \"article\", \"artist\", \"ashamed\", \"asia\", \"ass\", \"asshole\", \"assistance\", \"assumption\", \"attack\", \"attack\", \"attention\", \"attention\", \"australia\", \"authority\", \"az\", \"baby\", \"bailout\", \"ball\", \"ballot\", \"ban\", \"bank\", \"bar\", \"bat\", \"bay\", \"bbc_news\", \"bc\", \"beach\", \"benefit\", \"benefit\", \"bernie\", \"bernie_sanders\", \"bet\", \"biden\", \"big\", \"bill\", \"bill\", \"bill\", \"bill_gates\", \"bio\", \"birthday\", \"bit\", \"blame\", \"blame\", \"blog\", \"blog\", \"blog\", \"blood\", \"bloomberg\", \"board\", \"board\", \"body\", \"book\", \"border\", \"boston\", \"bout\", \"box\", \"boy\", \"brain\", \"break\", \"break\", \"breaking_news\", \"breath\", \"briefing\", \"briefing\", \"briefing\", \"briefing\", \"brother\", \"bs\", \"budget\", \"bullshit\", \"bunch\", \"business\", \"buy\", \"california\", \"call\", \"call\", \"call\", \"call\", \"camp\", \"campaign\", \"campus\", \"canada\", \"canada\", \"cancel\", \"cancellation\", \"cancer\", \"cancer\", \"candidate\", \"capacity\", \"car\", \"card\", \"care\", \"care\", \"care\", \"career\", \"caregiver\", \"case\", \"case_confirmed\", \"cash\", \"cat\", \"cause\", \"cdc\", \"cdc\", \"cell\", \"center\", \"center\", \"chain\", \"challenge\", \"challenge\", \"chance\", \"change\", \"change\", \"change\", \"change\", \"change\", \"chaos\", \"character\", \"charge\", \"charge\", \"charles\", \"check\", \"chicago\", \"chief\", \"child\", \"chill\", \"china\", \"china\", \"china\", \"choice\", \"chris\", \"church\", \"church\", \"citizen\", \"city\", \"city\", \"city\", \"claim\", \"class\", \"class\", \"climate\", \"close\", \"closing\", \"closure\", \"clown\", \"cnn\", \"co\", \"coach\", \"code\", \"collaboration\", \"colleague\", \"collection\", \"college\", \"columbia\", \"com\", \"comment\", \"communist\", \"community\", \"community\", \"company\", \"company\", \"company\", \"concern\", \"concern\", \"condition\", \"conference\", \"conference\", \"congress\", \"congress\", \"connecticut\", \"consequence\", \"conspiracy\", \"contact\", \"contact\", \"contagion\", \"content\", \"contingency\", \"control\", \"conversation\", \"corona\", \"corona_virus\", \"coronaoutbreak\", \"coronavirus\", \"coronavirus\", \"coronavirus\", \"coronavirus\", \"coronavirus\", \"coronavirus\", \"coronavirus\", \"coronavirus\", \"coronavirus\", \"coronavirus\", \"coronavirus\", \"coronavirus\", \"coronavirus\", \"coronavirus\", \"coronavirus\", \"coronavirus\", \"coronavirus\", \"coronavirus\", \"coronavirus\", \"coronavirus\", \"coronavirus\", \"coronavirus\", \"coronavirus\", \"coronavirus\", \"coronavirus\", \"coronavirus\", \"coronavirus_fear\", \"coronavirus_outbreak\", \"coronavirususa\", \"cost\", \"cost\", \"cotton\", \"cough\", \"cough\", \"council\", \"council\", \"country\", \"country\", \"county\", \"county\", \"couple\", \"course\", \"court\", \"court\", \"cover\", \"coverage\", \"covid\", \"covid\", \"covid\", \"covid\", \"covid\", \"covid\", \"covid\", \"covid\", \"covid\", \"covid\", \"covid\", \"covid\", \"covid\", \"covid\", \"covid\", \"covid\", \"covid\", \"covid_update\", \"covid_update\", \"covid\\u30fc\", \"cpac\", \"crap\", \"crash\", \"crisis\", \"crisis\", \"criterion\", \"crowd\", \"cruise\", \"cruise_ship\", \"cuomo\", \"cup\", \"cure\", \"cure\", \"cure\", \"cure\", \"curve\", \"customer\", \"cut\", \"daily\", \"damage\", \"danger\", \"data\", \"date\", \"datum\", \"datum\", \"day\", \"dc\", \"deal\", \"death\", \"death_rate\", \"death_toll\", \"decision\", \"decline\", \"defeat\", \"delivery\", \"dem\", \"dem\", \"demand\", \"democrat\", \"democrats\", \"democrats\", \"democrats\", \"department\", \"depression\", \"detail\", \"detail\", \"development\", \"diagnosis\", \"difference\", \"digital\", \"disaster\", \"discrimination\", \"discussion\", \"disease\", \"disease\", \"disease\", \"disease\", \"disease\", \"disease\", \"disease\", \"disgrace\", \"disinformation\", \"disneyland\", \"distance\", \"district\", \"doc\", \"doctor\", \"dog\", \"dollar\", \"donald_trump\", \"donald_trump\", \"donor\", \"door\", \"door\", \"door\", \"doubt\", \"dow\", \"dr\", \"dr\", \"dr\", \"dr\", \"dr_fauci\", \"drive\", \"driver\", \"drug\", \"drug\", \"drug\", \"due\", \"earth\", \"east\", \"easter\", \"ebola\", \"ebola\", \"economy\", \"education\", \"effect\", \"effort\", \"election\", \"election\", \"email\", \"email\", \"emergency\", \"emergency\", \"emergency\", \"emergency\", \"emergency\", \"employee\", \"employer\", \"employment\", \"end\", \"end\", \"engineer\", \"enjoy\", \"epicenter\", \"epidemic\", \"epidemic\", \"epidemic\", \"episode\", \"est\", \"europe\", \"europe\", \"event\", \"event\", \"event\", \"event\", \"example\", \"excuse\", \"experience\", \"expert\", \"expert\", \"export\", \"exposure\", \"exposure\", \"eye\", \"eye\", \"face\", \"face\", \"face\", \"facebook\", \"facility\", \"fact\", \"factory\", \"faculty\", \"failure\", \"fake_news\", \"fake_news\", \"fallout\", \"false_none\", \"family\", \"fan\", \"fan\", \"father\", \"fauci\", \"fda\", \"fear\", \"feature\", \"feb\", \"february\", \"fed\", \"fee\", \"fee\", \"feeling\", \"festival\", \"fever\", \"fight\", \"fight\", \"fight\", \"fight\", \"figure\", \"filter\", \"fire\", \"first\", \"first\", \"first\", \"first_case\", \"first_death\", \"flight\", \"flight\", \"flight\", \"florida\", \"florida\", \"flu\", \"folk\", \"folk\", \"folk\", \"follow\", \"follower\", \"food\", \"food\", \"fool\", \"foot\", \"football\", \"foundation\", \"founder\", \"fox\", \"fox_news\", \"foxnews\", \"france\", \"freedom\", \"friday\", \"friday\", \"friday\", \"friend\", \"front\", \"fuck\", \"fucking\", \"fund\", \"fund\", \"funding\", \"funding\", \"ga\", \"game\", \"games\", \"gas\", \"gathering\", \"gear\", \"general\", \"germany\", \"get\", \"gilead\", \"girl\", \"global_health\", \"globe\", \"god\", \"golf\", \"good\", \"gop\", \"gop\", \"gov\", \"gov\", \"gov\", \"gov\", \"government\", \"government\", \"government\", \"government\", \"government\", \"governor\", \"governor\", \"governor\", \"govt\", \"graph\", \"great\", \"great\", \"grocery\", \"ground\", \"group\", \"growth\", \"gt\", \"guess\", \"guidance\", \"guidance\", \"guideline\", \"guidelines\", \"gun\", \"gun\", \"guy\", \"hair\", \"hall\", \"hand\", \"hand_sanitizer\", \"head\", \"headline\", \"health\", \"health\", \"health\", \"health_care\", \"health_care\", \"health_insurance\", \"health_official\", \"healthcare\", \"healthcare\", \"hearing\", \"heart\", \"heat\", \"hell\", \"help\", \"help\", \"help\", \"hero\", \"high_risk\", \"hill\", \"hillary\", \"history\", \"history\", \"hiv\", \"hoax\", \"hold\", \"hold\", \"holy\", \"home\", \"hong_kong\", \"hope\", \"hope\", \"hope\", \"hope\", \"horror\", \"hospital\", \"host\", \"hotel\", \"hour\", \"hour\", \"hour\", \"house\", \"house\", \"housing\", \"housing\", \"human\", \"ice\", \"idea\", \"idea\", \"idiot\", \"ignorance\", \"illinois\", \"illinois\", \"illness\", \"illness\", \"immunity\", \"impact\", \"impact\", \"impact\", \"income\", \"incompetence\", \"india\", \"individual\", \"industry\", \"industry\", \"industry\", \"infection\", \"infection\", \"infection\", \"influenza\", \"info\", \"info\", \"information\", \"information\", \"information\", \"information\", \"insight\", \"instagram\", \"institute\", \"insurance\", \"intelligence\", \"international\", \"internet\", \"interview\", \"investigation\", \"investment\", \"investor\", \"iran\", \"iran\", \"isolation\", \"isolation\", \"israel\", \"issue\", \"issue\", \"issue\", \"italy\", \"italy\", \"italy\", \"item\", \"jail\", \"january\", \"japan\", \"japan\", \"japan\", \"japan\", \"jesus\", \"jim\", \"job\", \"joe\", \"joe\", \"joe\", \"joe\", \"john\", \"johnson\", \"join\", \"joy\", \"jump\", \"justice\", \"ka\", \"karma\", \"kid\", \"kid\", \"kid\", \"kill\", \"kill\", \"king\", \"kushner\", \"lab\", \"land\", \"last_night\", \"last_week\", \"last_year\", \"laugh\", \"law\", \"law\", \"law\", \"lawmaker\", \"lawmaker\", \"lead\", \"leader\", \"leadership\", \"leadership\", \"league\", \"learning\", \"leave\", \"lesson\", \"let\", \"letter\", \"letter\", \"level\", \"level\", \"license\", \"lie\", \"life\", \"light\", \"limit\", \"line\", \"line\", \"line\", \"link\", \"list\", \"list\", \"live\", \"live_updates\", \"lmao\", \"lmfao\", \"loan\", \"location\", \"lockdown\", \"lockdown\", \"lockdown\", \"lol\", \"look\", \"looks_like\", \"los_angeles\", \"lot\", \"love\", \"lt\", \"luck\", \"maga\", \"mail\", \"majority\", \"mall\", \"man\", \"map\", \"mar_false\", \"march\", \"march\", \"march\", \"market\", \"mask\", \"matt\", \"matter\", \"mayor\", \"mean\", \"measure\", \"measure\", \"media\", \"medical\", \"medicine\", \"medium\", \"medium\", \"meeting\", \"member\", \"member\", \"mental_health\", \"mercy\", \"mess\", \"message\", \"message\", \"mexico\", \"michigan\", \"middle\", \"mike\", \"mike_pence\", \"millions\", \"mind\", \"mind\", \"minister\", \"minnesota\", \"minute\", \"misinformation\", \"misinformation\", \"mistake\", \"model\", \"mom\", \"mom\", \"mom\", \"monday\", \"monday\", \"monday\", \"money\", \"money\", \"month\", \"month\", \"morning\", \"morning\", \"morning\", \"morning\", \"moron\", \"mortgage\", \"mother\", \"movie\", \"msnbc\", \"music\", \"name\", \"name\", \"name\", \"nancy\", \"narrative\", \"nation\", \"nation\", \"nation\", \"national\", \"national\", \"national_guard\", \"navy\", \"nba\", \"nbc\", \"ncaa\", \"ncov\", \"nd\", \"need\", \"need\", \"need\", \"need\", \"need\", \"new\", \"new\", \"new_cases\", \"new_jersey\", \"new_york\", \"new_york\", \"new_york\", \"news\", \"night\", \"nightmare\", \"noise\", \"none_en\", \"none_none\", \"north\", \"nose\", \"note\", \"novel_coronavirus\", \"npr\", \"number\", \"number\", \"nurse\", \"nursing\", \"nursing_home\", \"ny\", \"ny\", \"nyc\", \"oan\", \"obama\", \"offer\", \"offer\", \"office\", \"office\", \"officer\", \"official\", \"ohio\", \"oil\", \"old\", \"olympics\", \"omg\", \"one\", \"online\", \"opinion\", \"opportunity\", \"option\", \"orange\", \"order\", \"oregon\", \"organization\", \"organization\", \"other\", \"other\", \"outbreak\", \"outbreak\", \"outbreak\", \"outbreak\", \"outcome\", \"owner\", \"pa\", \"package\", \"page\", \"pain\", \"pandemic\", \"pandemic_response\", \"pandemic_response\", \"panic\", \"parent\", \"park\", \"park\", \"part\", \"partner\", \"party\", \"party\", \"party\", \"party\", \"passenger\", \"passenger\", \"pastor\", \"patient\", \"patient\", \"patient\", \"pay\", \"payment\", \"peak\", \"pelosi\", \"pelosi\", \"pence\", \"pence\", \"penny\", \"penny\", \"people\", \"percent\", \"period\", \"person\", \"person\", \"person\", \"perspective\", \"perspective\", \"phase\", \"philadelphia\", \"phone\", \"phone\", \"photo\", \"photo\", \"physician\", \"picture\", \"piece\", \"pizza\", \"place\", \"plague\", \"plan\", \"plan\", \"plane\", \"planning\", \"platform\", \"player\", \"pm\", \"pneumonia\", \"point\", \"point\", \"point\", \"police\", \"police\", \"police\", \"policy\", \"policy\", \"policy\", \"poll\", \"population\", \"population\", \"possibility\", \"post\", \"post\", \"post\", \"post\", \"power\", \"ppl\", \"practice\", \"prayer\", \"precaution\", \"preparation\", \"preparedness\", \"president\", \"president\", \"president_trump\", \"press\", \"prevent\", \"prevention\", \"price\", \"priority\", \"prison\", \"problem\", \"problem\", \"product\", \"production\", \"professional\", \"professor\", \"profit\", \"program\", \"project\", \"project\", \"promise\", \"proof\", \"protect\", \"protect\", \"provider\", \"public_health\", \"public_health\", \"public_health\", \"qanon\", \"quality\", \"quarantine\", \"question\", \"race\", \"racist\", \"rapid\", \"rat\", \"rate\", \"rate\", \"rate\", \"rd\", \"read\", \"reading\", \"reality\", \"reality\", \"reason\", \"reason\", \"recession\", \"recommendation\", \"record\", \"recovery\", \"recovery\", \"refund\", \"relationship\", \"release\", \"relief\", \"relief\", \"reminder\", \"rent\", \"rep\", \"report\", \"reporting\", \"republicans\", \"rescue\", \"research\", \"resident\", \"resource\", \"resource\", \"responder\", \"response\", \"response\", \"response\", \"rest\", \"restaurant\", \"restaurant\", \"restriction\", \"restriction\", \"result\", \"return\", \"revenue\", \"right\", \"right\", \"risk\", \"room\", \"rt\", \"rt\", \"rt\", \"rt\", \"rt\", \"rumor\", \"russia\", \"safety\", \"sale\", \"sale\", \"san\", \"san\", \"san\", \"santa\", \"sars\", \"sars_cov\", \"scam\", \"scare\", \"school\", \"school\", \"school\", \"science\", \"scientist\", \"scientist\", \"scott\", \"screen\", \"season\", \"season\", \"season\", \"seattle\", \"seattle\", \"second\", \"second\", \"sector\", \"security\", \"self\", \"senior\", \"sense\", \"sense\", \"service\", \"service\", \"service\", \"service\", \"service\", \"sex\", \"shame\", \"share\", \"share\", \"shelter\", \"ship\", \"shirt\", \"shit\", \"shop\", \"shopper\", \"shopping\", \"shoutout\", \"show\", \"show\", \"show\", \"shut\", \"shutdown\", \"sick\", \"side\", \"sign\", \"sign\", \"singapore\", \"sister\", \"site\", \"situation\", \"situation\", \"situation\", \"situation\", \"situation\", \"small_business\", \"smartnew\", \"smartnews\", \"smh\", \"smith\", \"social_distancing\", \"socialism\", \"son\", \"song\", \"soul\", \"source\", \"source\", \"source\", \"south\", \"south_korea\", \"spain\", \"speech\", \"speech\", \"speed\", \"spending\", \"spread\", \"spread\", \"spring_break\", \"spy\", \"st\", \"staff\", \"staff\", \"staff\", \"staff\", \"staff\", \"star\", \"start\", \"stat\", \"state\", \"state\", \"state\", \"state\", \"state\", \"state\", \"state\", \"state\", \"state\", \"state\", \"state\", \"statement\", \"states\", \"station\", \"statistic\", \"status\", \"stay_home\", \"stay_safe\", \"stayhome\", \"step\", \"step\", \"step\", \"steve\", \"stock\", \"stock_market\", \"stop\", \"store\", \"store\", \"store\", \"story\", \"story\", \"story\", \"story\", \"story\", \"strategy\", \"stream\", \"street\", \"stress\", \"student\", \"study\", \"stuff\", \"stupidity\", \"success\", \"summer\", \"sun\", \"sunday\", \"sunday\", \"sunday\", \"supply\", \"supply\", \"supply\", \"supply\", \"support\", \"support\", \"support\", \"supporter\", \"supporter\", \"surface\", \"surface\", \"swine\", \"switch\", \"sxsw\", \"symptom\", \"system\", \"system\", \"system\", \"tag\", \"talk\", \"talk\", \"talk\", \"task_force\", \"tax\", \"teacher\", \"team\", \"team\", \"tech\", \"tennessee\", \"tennessee\", \"tennis\", \"term\", \"term\", \"test\", \"test\", \"test_results\", \"tested_positive\", \"testing\", \"tests_positive\", \"texas\", \"tfw\", \"th\", \"thank\", \"theory\", \"therapy\", \"thing\", \"think\", \"thought\", \"thousand\", \"thousand\", \"thousand\", \"thread\", \"threat\", \"time\", \"timeline\", \"times\", \"times\", \"tip\", \"today\", \"today\", \"today\", \"today\", \"today\", \"today\", \"today\", \"today\", \"toilet_paper\", \"toll\", \"tom\", \"tomorrow\", \"tomorrow\", \"tomorrow\", \"tomorrow\", \"tonight\", \"tonight\", \"tonight\", \"tool\", \"top\", \"topic\", \"tour\", \"tourism\", \"tournament\", \"town\", \"track\", \"trade\", \"traffic\", \"train\", \"transmission\", \"transmission\", \"travel\", \"travel\", \"travel\", \"travel\", \"travel\", \"travel\", \"travel\", \"travel\", \"treat\", \"treatment\", \"trend\", \"trial\", \"trial\", \"trump\", \"trump_administration\", \"trump_administration\", \"trump_administration\", \"trump_says\", \"trust\", \"truth\", \"tryna\", \"tuesday\", \"tuesday\", \"tune\", \"tv\", \"tweet\", \"twitter\", \"twitter\", \"type\", \"ugh\", \"uk\", \"united_states\", \"united_states\", \"university\", \"university\", \"update\", \"updates\", \"us\", \"us\", \"us\", \"us\", \"us\", \"us\", \"us\", \"usa\", \"vaccine\", \"valley\", \"value\", \"vehicle\", \"ventilator\", \"version\", \"vice_president\", \"victim\", \"victim\", \"video\", \"view\", \"virus\", \"virus\", \"virus\", \"virus\", \"virus\", \"virus\", \"virus\", \"visit\", \"vodka\", \"voice\", \"vote\", \"vote\", \"voter\", \"wake\", \"walk\", \"wall\", \"wanna\", \"want\", \"wapo\", \"war\", \"warfare\", \"warning\", \"warren\", \"wash\", \"wash\", \"wash\", \"washing\", \"washington\", \"washington\", \"washington_post\", \"washington_state\", \"washington_state\", \"watch\", \"water\", \"wave\", \"way\", \"weather\", \"weather\", \"web\", \"webinar\", \"website\", \"wednesday\", \"wednesday\", \"weed\", \"week\", \"weekend\", \"weinstein\", \"welfare\", \"west\", \"white\", \"white_house\", \"white_house\", \"white_house\", \"white_house\", \"white_house\", \"wife\", \"wife\", \"wilson\", \"window\", \"wipe\", \"woman\", \"wonder\", \"word\", \"word\", \"word\", \"work\", \"work\", \"worker\", \"worker\", \"worker\", \"world\", \"world\", \"worry\", \"wtf\", \"wuhan\", \"wuhan\", \"year\", \"yesterday\", \"yesterday\", \"yesterday\", \"yike\", \"yo\", \"zero_hedge\", \"zoom\"]}, \"R\": 30, \"lambda.step\": 0.01, \"plot.opts\": {\"xlab\": \"PC1\", \"ylab\": \"PC2\"}, \"topic.order\": [15, 11, 22, 1, 8, 3, 26, 12, 23, 24, 7, 6, 5, 13, 4, 20, 16, 19, 9, 17, 25, 10, 18, 14, 21, 2]};\n",
              "\n",
              "function LDAvis_load_lib(url, callback){\n",
              "  var s = document.createElement('script');\n",
              "  s.src = url;\n",
              "  s.async = true;\n",
              "  s.onreadystatechange = s.onload = callback;\n",
              "  s.onerror = function(){console.warn(\"failed to load library \" + url);};\n",
              "  document.getElementsByTagName(\"head\")[0].appendChild(s);\n",
              "}\n",
              "\n",
              "if(typeof(LDAvis) !== \"undefined\"){\n",
              "   // already loaded: just create the visualization\n",
              "   !function(LDAvis){\n",
              "       new LDAvis(\"#\" + \"ldavis_el1541399290410864161530318578\", ldavis_el1541399290410864161530318578_data);\n",
              "   }(LDAvis);\n",
              "}else if(typeof define === \"function\" && define.amd){\n",
              "   // require.js is available: use it to load d3/LDAvis\n",
              "   require.config({paths: {d3: \"https://d3js.org/d3.v5\"}});\n",
              "   require([\"d3\"], function(d3){\n",
              "      window.d3 = d3;\n",
              "      LDAvis_load_lib(\"https://cdn.jsdelivr.net/gh/bmabey/pyLDAvis@3.3.0/pyLDAvis/js/ldavis.v3.0.0.js\", function(){\n",
              "        new LDAvis(\"#\" + \"ldavis_el1541399290410864161530318578\", ldavis_el1541399290410864161530318578_data);\n",
              "      });\n",
              "    });\n",
              "}else{\n",
              "    // require.js not available: dynamically load d3 & LDAvis\n",
              "    LDAvis_load_lib(\"https://d3js.org/d3.v5.js\", function(){\n",
              "         LDAvis_load_lib(\"https://cdn.jsdelivr.net/gh/bmabey/pyLDAvis@3.3.0/pyLDAvis/js/ldavis.v3.0.0.js\", function(){\n",
              "                 new LDAvis(\"#\" + \"ldavis_el1541399290410864161530318578\", ldavis_el1541399290410864161530318578_data);\n",
              "            })\n",
              "         });\n",
              "}\n",
              "</script>"
            ],
            "text/plain": [
              "PreparedData(topic_coordinates=              x         y  topics  cluster      Freq\n",
              "topic                                               \n",
              "14    -0.076346  0.135360       1        1  4.844622\n",
              "10    -0.047777  0.146792       2        1  4.764977\n",
              "21    -0.027545  0.040164       3        1  4.748698\n",
              "0     -0.215666 -0.169140       4        1  4.743124\n",
              "7      0.050631  0.063317       5        1  4.471077\n",
              "2      0.058626  0.078758       6        1  4.285591\n",
              "25    -0.029925  0.111408       7        1  4.157700\n",
              "11     0.054531  0.002186       8        1  4.063937\n",
              "22    -0.204595 -0.078089       9        1  4.011902\n",
              "23     0.122434 -0.205654      10        1  4.005747\n",
              "6      0.020413  0.056269      11        1  3.960224\n",
              "5      0.019077  0.045263      12        1  3.875138\n",
              "4      0.050775 -0.013933      13        1  3.864446\n",
              "12     0.032756  0.001730      14        1  3.845762\n",
              "3     -0.008247  0.107068      15        1  3.839364\n",
              "19     0.064543 -0.074048      16        1  3.785006\n",
              "15    -0.020366 -0.022605      17        1  3.668770\n",
              "18    -0.224012 -0.102249      18        1  3.526025\n",
              "8      0.106866 -0.029291      19        1  3.459061\n",
              "16     0.147577 -0.143310      20        1  3.427952\n",
              "24    -0.034000  0.081267      21        1  3.358617\n",
              "9      0.085804  0.002271      22        1  3.286326\n",
              "17     0.003003 -0.003212      23        1  3.119250\n",
              "13     0.037319  0.002121      24        1  3.048822\n",
              "20     0.060688 -0.075396      25        1  2.943238\n",
              "1     -0.026564  0.042953      26        1  2.894622, topic_info=             Term        Freq        Total Category  logprob  loglift\n",
              "53         people  321.000000   321.000000  Default  30.0000  30.0000\n",
              "1           china  338.000000   338.000000  Default  29.0000  29.0000\n",
              "71          trump  217.000000   217.000000  Default  28.0000  28.0000\n",
              "73           time  184.000000   184.000000  Default  27.0000  27.0000\n",
              "96       pandemic  169.000000   169.000000  Default  26.0000  26.0000\n",
              "...           ...         ...          ...      ...      ...      ...\n",
              "0           break    6.620621     9.010634  Topic26  -4.7356   3.2341\n",
              "505           fee    5.992397     8.462099  Topic26  -4.8353   3.1972\n",
              "1132          san    7.533212    13.508946  Topic26  -4.6065   2.9583\n",
              "12    coronavirus   29.733140  1959.601295  Topic26  -3.2335  -0.6459\n",
              "201            us    5.678888    86.707295  Topic26  -4.8890   0.8165\n",
              "\n",
              "[1145 rows x 6 columns], token_table=      Topic      Freq        Term\n",
              "term                             \n",
              "271      15  0.300643           _\n",
              "271      19  0.661414           _\n",
              "612       1  0.881473    abc_news\n",
              "441      15  0.103515      access\n",
              "441      23  0.828118      access\n",
              "...     ...       ...         ...\n",
              "56       26  0.170370   yesterday\n",
              "997      26  0.868522        yike\n",
              "133       9  0.793746          yo\n",
              "1263     18  0.895051  zero_hedge\n",
              "702      26  0.901155        zoom\n",
              "\n",
              "[1451 rows x 3 columns], R=30, lambda_step=0.01, plot_opts={'xlab': 'PC1', 'ylab': 'PC2'}, topic_order=[15, 11, 22, 1, 8, 3, 26, 12, 23, 24, 7, 6, 5, 13, 4, 20, 16, 19, 9, 17, 25, 10, 18, 14, 21, 2])"
            ]
          },
          "metadata": {
            "tags": []
          },
          "execution_count": 26
        }
      ]
    },
    {
      "cell_type": "markdown",
      "metadata": {
        "id": "MbbCz6CV1a4k"
      },
      "source": [
        "So how to infer pyLDAvis’s output?\n",
        "\n",
        "Each bubble on the left-hand side plot represents a topic. The larger the bubble, the more prevalent is that topic.\n",
        "\n",
        "A good topic model will have fairly big, non-overlapping bubbles scattered throughout the chart instead of being clustered in one quadrant.\n",
        "\n",
        "A model with too many topics, will typically have many overlaps, small sized bubbles clustered in one region of the chart.\n",
        "\n",
        "Alright, if you move the cursor over one of the bubbles, the words and bars on the right-hand side will update. These words are the salient keywords that form the selected topic.\n",
        "\n",
        "Upnext, we will focus on how to arrive at the optimal number of topics given any large corpus of text."
      ]
    },
    {
      "cell_type": "markdown",
      "metadata": {
        "id": "zzj3N8oV1a4k"
      },
      "source": [
        "# 7. Finding the dominant topic in each sentence\n",
        "\n",
        "One of the practical application of topic modeling is to determine what topic a given document is about.\n",
        "\n",
        "To find that, we find the topic number that has the highest percentage contribution in that document.\n",
        "\n",
        "The `format_topics_sentences()` function below nicely aggregates this information in a presentable table."
      ]
    },
    {
      "cell_type": "code",
      "metadata": {
        "id": "G2NV5NLP1a4l",
        "colab": {
          "base_uri": "https://localhost:8080/",
          "height": 195
        },
        "outputId": "99f2d5b8-c914-4a19-ecd0-80ec6a71f741"
      },
      "source": [
        "def format_topics_sentences(ldamodel=lda_model, corpus=corpus):\n",
        "    # Init output\n",
        "    sent_topics_df = pd.DataFrame()\n",
        "\n",
        "    # Get main topic in each document\n",
        "    for i, row in enumerate(ldamodel[corpus]):\n",
        "        row = sorted(row, key=lambda x: (x[1]), reverse=True)\n",
        "        # Get the Dominant topic, Perc Contribution and Keywords for each document\n",
        "        for j, (topic_num, prop_topic) in enumerate(row):\n",
        "            if j == 0:  # => dominant topic\n",
        "                wp = ldamodel.show_topic(topic_num)\n",
        "                topic_keywords = \", \".join([word for word, prop in wp])\n",
        "                sent_topics_df = sent_topics_df.append(pd.Series([int(topic_num), round(prop_topic,4), topic_keywords]), ignore_index=True)\n",
        "            else:\n",
        "                break\n",
        "    sent_topics_df.columns = ['dominant_topic', 'topic_perc_contrib', 'keywords']\n",
        "    \n",
        "    return(sent_topics_df)\n",
        "\n",
        "df_topic_sents_keywords = format_topics_sentences(ldamodel=lda_model, corpus=corpus)\n",
        "df_topic_sents_keywords.head()\n"
      ],
      "execution_count": null,
      "outputs": [
        {
          "output_type": "execute_result",
          "data": {
            "text/html": [
              "<div>\n",
              "<style scoped>\n",
              "    .dataframe tbody tr th:only-of-type {\n",
              "        vertical-align: middle;\n",
              "    }\n",
              "\n",
              "    .dataframe tbody tr th {\n",
              "        vertical-align: top;\n",
              "    }\n",
              "\n",
              "    .dataframe thead th {\n",
              "        text-align: right;\n",
              "    }\n",
              "</style>\n",
              "<table border=\"1\" class=\"dataframe\">\n",
              "  <thead>\n",
              "    <tr style=\"text-align: right;\">\n",
              "      <th></th>\n",
              "      <th>dominant_topic</th>\n",
              "      <th>topic_perc_contrib</th>\n",
              "      <th>keywords</th>\n",
              "    </tr>\n",
              "  </thead>\n",
              "  <tbody>\n",
              "    <tr>\n",
              "      <th>0</th>\n",
              "      <td>18.0</td>\n",
              "      <td>0.5064</td>\n",
              "      <td>year, china, market, vaccine, economy, job, co...</td>\n",
              "    </tr>\n",
              "    <tr>\n",
              "      <th>1</th>\n",
              "      <td>0.0</td>\n",
              "      <td>0.0385</td>\n",
              "      <td>china, virus, coronavirus, county, outbreak, u...</td>\n",
              "    </tr>\n",
              "    <tr>\n",
              "      <th>2</th>\n",
              "      <td>0.0</td>\n",
              "      <td>0.4815</td>\n",
              "      <td>china, virus, coronavirus, county, outbreak, u...</td>\n",
              "    </tr>\n",
              "    <tr>\n",
              "      <th>3</th>\n",
              "      <td>4.0</td>\n",
              "      <td>0.5611</td>\n",
              "      <td>time, president, coronavirus, flu, covid, univ...</td>\n",
              "    </tr>\n",
              "    <tr>\n",
              "      <th>4</th>\n",
              "      <td>9.0</td>\n",
              "      <td>0.5039</td>\n",
              "      <td>quarantine, coronavirus, food, thought, child,...</td>\n",
              "    </tr>\n",
              "  </tbody>\n",
              "</table>\n",
              "</div>"
            ],
            "text/plain": [
              "   dominant_topic  ...                                           keywords\n",
              "0            18.0  ...  year, china, market, vaccine, economy, job, co...\n",
              "1             0.0  ...  china, virus, coronavirus, county, outbreak, u...\n",
              "2             0.0  ...  china, virus, coronavirus, county, outbreak, u...\n",
              "3             4.0  ...  time, president, coronavirus, flu, covid, univ...\n",
              "4             9.0  ...  quarantine, coronavirus, food, thought, child,...\n",
              "\n",
              "[5 rows x 3 columns]"
            ]
          },
          "metadata": {
            "tags": []
          },
          "execution_count": 27
        }
      ]
    },
    {
      "cell_type": "code",
      "metadata": {
        "id": "ifFyXwSQ1a4l",
        "colab": {
          "base_uri": "https://localhost:8080/",
          "height": 330
        },
        "outputId": "e050784e-0e7a-427d-ab34-019075c82fc8"
      },
      "source": [
        "# Combine the original data with inferred topics\n",
        "\n",
        "dominant_topic = pd.Series(df_topic_sents_keywords.dominant_topic.values.tolist())\n",
        "topic_perc_contrib = pd.Series(df_topic_sents_keywords.topic_perc_contrib.values.tolist())\n",
        "keywords = pd.Series(df_topic_sents_keywords.keywords.values.tolist())\n",
        "\n",
        "text_no = pd.Series(df.text_no.values.tolist())\n",
        "timestampStr = pd.Series(df.timestampStr.values.tolist())\n",
        "user_location_state = pd.Series(df.user_location_state.values.tolist())\n",
        "text = pd.Series(df.text.values.tolist())\n",
        "\n",
        "pd.set_option('display.max_colwidth', 150)\n",
        "new_df = pd.concat([text_no, timestampStr, user_location_state, dominant_topic, topic_perc_contrib, keywords, text], axis=1)\n",
        "new_df.columns = ['text_no', 'timestampStr', 'user_location_state', 'dominant_topic', 'topic_perc_contrib', 'keywords', 'text']\n",
        "new_df.head()\n"
      ],
      "execution_count": null,
      "outputs": [
        {
          "output_type": "execute_result",
          "data": {
            "text/html": [
              "<div>\n",
              "<style scoped>\n",
              "    .dataframe tbody tr th:only-of-type {\n",
              "        vertical-align: middle;\n",
              "    }\n",
              "\n",
              "    .dataframe tbody tr th {\n",
              "        vertical-align: top;\n",
              "    }\n",
              "\n",
              "    .dataframe thead th {\n",
              "        text-align: right;\n",
              "    }\n",
              "</style>\n",
              "<table border=\"1\" class=\"dataframe\">\n",
              "  <thead>\n",
              "    <tr style=\"text-align: right;\">\n",
              "      <th></th>\n",
              "      <th>text_no</th>\n",
              "      <th>timestampStr</th>\n",
              "      <th>user_location_state</th>\n",
              "      <th>dominant_topic</th>\n",
              "      <th>topic_perc_contrib</th>\n",
              "      <th>keywords</th>\n",
              "      <th>text</th>\n",
              "    </tr>\n",
              "  </thead>\n",
              "  <tbody>\n",
              "    <tr>\n",
              "      <th>0</th>\n",
              "      <td>9031</td>\n",
              "      <td>2020-03-26</td>\n",
              "      <td>la</td>\n",
              "      <td>18.0</td>\n",
              "      <td>0.5064</td>\n",
              "      <td>year, china, market, vaccine, economy, job, coronavirus, war, ohio, biden</td>\n",
              "      <td>It almost like nobody has ever bought something made in China at Home Depot and have it break in 48 hours. https://t.co/zEcB0QqnGt</td>\n",
              "    </tr>\n",
              "    <tr>\n",
              "      <th>1</th>\n",
              "      <td>3462</td>\n",
              "      <td>2020-03-15</td>\n",
              "      <td>ma</td>\n",
              "      <td>0.0</td>\n",
              "      <td>0.0385</td>\n",
              "      <td>china, virus, coronavirus, county, outbreak, update, information, novel_coronavirus, face, concern</td>\n",
              "      <td>@Curly_Jazzy @HoneyDip_8 YOOOOOOO WHERE THEY ATT 😂💀💀 https://t.co/8HYd3v7K2V</td>\n",
              "    </tr>\n",
              "    <tr>\n",
              "      <th>2</th>\n",
              "      <td>3863</td>\n",
              "      <td>2020-04-01</td>\n",
              "      <td>ny</td>\n",
              "      <td>0.0</td>\n",
              "      <td>0.4815</td>\n",
              "      <td>china, virus, coronavirus, county, outbreak, update, information, novel_coronavirus, face, concern</td>\n",
              "      <td>Wear a mask if out!Make one with microfiber cloth inside and folded out with the best filter you can devise inside.Tie,stitch, or pin at edges.Rew...</td>\n",
              "    </tr>\n",
              "    <tr>\n",
              "      <th>3</th>\n",
              "      <td>1144</td>\n",
              "      <td>2020-03-04</td>\n",
              "      <td>ca</td>\n",
              "      <td>4.0</td>\n",
              "      <td>0.5611</td>\n",
              "      <td>time, president, coronavirus, flu, covid, university, woman, cause, plague, new_york</td>\n",
              "      <td>03/04/2020 11 deaths in the USA from the #coronavirus #TrumpVirus</td>\n",
              "    </tr>\n",
              "    <tr>\n",
              "      <th>4</th>\n",
              "      <td>2692</td>\n",
              "      <td>2020-03-04</td>\n",
              "      <td>ca</td>\n",
              "      <td>9.0</td>\n",
              "      <td>0.5039</td>\n",
              "      <td>quarantine, coronavirus, food, thought, child, covid, issue, social_distancing, mayor, restaurant</td>\n",
              "      <td>If extreme measures like mass quarantines come to pass, #telehealth could finally have its bittersweet moment in the spotlight. The #Coronavirus O...</td>\n",
              "    </tr>\n",
              "  </tbody>\n",
              "</table>\n",
              "</div>"
            ],
            "text/plain": [
              "   text_no  ...                                                                                                                                                   text\n",
              "0     9031  ...                     It almost like nobody has ever bought something made in China at Home Depot and have it break in 48 hours. https://t.co/zEcB0QqnGt\n",
              "1     3462  ...                                                                           @Curly_Jazzy @HoneyDip_8 YOOOOOOO WHERE THEY ATT 😂💀💀 https://t.co/8HYd3v7K2V\n",
              "2     3863  ...  Wear a mask if out!Make one with microfiber cloth inside and folded out with the best filter you can devise inside.Tie,stitch, or pin at edges.Rew...\n",
              "3     1144  ...                                                                                      03/04/2020 11 deaths in the USA from the #coronavirus #TrumpVirus\n",
              "4     2692  ...  If extreme measures like mass quarantines come to pass, #telehealth could finally have its bittersweet moment in the spotlight. The #Coronavirus O...\n",
              "\n",
              "[5 rows x 7 columns]"
            ]
          },
          "metadata": {
            "tags": []
          },
          "execution_count": 28
        }
      ]
    },
    {
      "cell_type": "code",
      "metadata": {
        "id": "l_BRBnW61a4l",
        "colab": {
          "base_uri": "https://localhost:8080/"
        },
        "outputId": "18aed261-9936-4521-ae4f-e505693e8106"
      },
      "source": [
        "new_df.dominant_topic.value_counts()"
      ],
      "execution_count": null,
      "outputs": [
        {
          "output_type": "execute_result",
          "data": {
            "text/plain": [
              "0.0     561\n",
              "14.0    322\n",
              "10.0    287\n",
              "21.0    258\n",
              "7.0     226\n",
              "2.0     205\n",
              "11.0    204\n",
              "22.0    203\n",
              "6.0     196\n",
              "12.0    194\n",
              "15.0    185\n",
              "5.0     183\n",
              "4.0     178\n",
              "25.0    174\n",
              "23.0    173\n",
              "8.0     163\n",
              "16.0    161\n",
              "19.0    151\n",
              "9.0     136\n",
              "18.0    135\n",
              "3.0     127\n",
              "1.0     123\n",
              "24.0    119\n",
              "13.0    116\n",
              "20.0    112\n",
              "17.0    108\n",
              "Name: dominant_topic, dtype: int64"
            ]
          },
          "metadata": {
            "tags": []
          },
          "execution_count": 29
        }
      ]
    },
    {
      "cell_type": "code",
      "metadata": {
        "id": "Gh626FIE1a4m",
        "colab": {
          "base_uri": "https://localhost:8080/"
        },
        "outputId": "876eb993-adf1-481c-a7f0-8ad66b2d6af5"
      },
      "source": [
        "new_df.keywords.value_counts()"
      ],
      "execution_count": null,
      "outputs": [
        {
          "output_type": "execute_result",
          "data": {
            "text/plain": [
              "china, virus, coronavirus, county, outbreak, update, information, novel_coronavirus, face, concern         561\n",
              "coronavirus, trump, country, mask, fact, hoax, nyc, iran, response, cnn                                    322\n",
              "people, coronavirus, thing, god, bill, money, thread, house, event, meeting                                287\n",
              "coronavirus, way, response, medium, march, leader, emergency, covid, ban, nation                           258\n",
              "coronavirus, news, expert, covid, deal, chance, ncov, piece, warning, loan                                 226\n",
              "case, coronavirus, death, number, thank, threat, press, conference, today, covid                           205\n",
              "coronavirus, patient, spread, america, covid, amid_coronavirus, article, resident, disease, cruise_ship    204\n",
              "coronavirus, man, wuhan, test, doctor, americans, lot, china, control, us                                  203\n",
              "coronavirus, life, new, symptom, report, team, treatment, government, game, idiot                          196\n",
              "coronavirus, friend, covid, impact, drug, president_trump, border, cure, virus, shutdown                   194\n",
              "coronavirus, hand, shit, community, rate, story, new_york, infection, cdc, covid                           185\n",
              "world, coronavirus, covidー, business, order, part, department, covid, ppl, italy                           183\n",
              "time, president, coronavirus, flu, covid, university, woman, cause, plague, new_york                       178\n",
              "crisis, work, health, coronavirus, family, home, help, person, worker, call                                174\n",
              "pandemic, day, covid, testing, florida, official, lie, state, course, problem                              173\n",
              "coronavirus, covid, question, public_health, _, book, dr, start, hong_kong, poll                           163\n",
              "covid, city, school, point, coronavirus, gt, texas, great, town, stuff                                     161\n",
              "cdc, hospital, coronavirus, covid, month, care, store, scientist, resource, nurse                          151\n",
              "quarantine, coronavirus, food, thought, child, covid, issue, social_distancing, mayor, restaurant          136\n",
              "year, china, market, vaccine, economy, job, coronavirus, war, ohio, biden                                  135\n",
              "none_en, coronavirus, mar_false, video, guy, risk, fuck, company, false_none, shut                         127\n",
              "coronavirus_outbreak, corona, relief, coronavirus, action, hell, ass, republicans, statement, apple        123\n",
              "coronavirus, employee, south, population, community, safety, weekend, read, white, wtf                     119\n",
              "coronavirus, self, gop, stock, usa, disaster, science, covid, tech, datum                                  116\n",
              "corona_virus, california, coronavirus, place, covid, tweet, fear, death_toll, effect, virus                112\n",
              "week, student, panic, plan, love, check, coronavirus, hope, access, music                                  108\n",
              "Name: keywords, dtype: int64"
            ]
          },
          "metadata": {
            "tags": []
          },
          "execution_count": 30
        }
      ]
    },
    {
      "cell_type": "code",
      "metadata": {
        "id": "tL2jQXCw1a4m",
        "colab": {
          "base_uri": "https://localhost:8080/",
          "height": 433
        },
        "outputId": "f9e3734a-6719-4d9a-bfd3-1470c6cc653c"
      },
      "source": [
        "plt.hist(new_df.dominant_topic, bins=best_num_topics)"
      ],
      "execution_count": null,
      "outputs": [
        {
          "output_type": "execute_result",
          "data": {
            "text/plain": [
              "(array([561., 123., 205., 127., 178., 183., 196., 226., 163., 136., 287.,\n",
              "        204., 194., 116., 322., 185., 161., 108., 135., 151., 112., 258.,\n",
              "        203., 173., 119., 174.]),\n",
              " array([ 0.        ,  0.96153846,  1.92307692,  2.88461538,  3.84615385,\n",
              "         4.80769231,  5.76923077,  6.73076923,  7.69230769,  8.65384615,\n",
              "         9.61538462, 10.57692308, 11.53846154, 12.5       , 13.46153846,\n",
              "        14.42307692, 15.38461538, 16.34615385, 17.30769231, 18.26923077,\n",
              "        19.23076923, 20.19230769, 21.15384615, 22.11538462, 23.07692308,\n",
              "        24.03846154, 25.        ]),\n",
              " <a list of 26 Patch objects>)"
            ]
          },
          "metadata": {
            "tags": []
          },
          "execution_count": 31
        },
        {
          "output_type": "display_data",
          "data": {
            "image/png": "[encoded data removed]",
            "text/plain": [
              "<Figure size 432x288 with 1 Axes>"
            ]
          },
          "metadata": {
            "tags": [],
            "needs_background": "light"
          }
        }
      ]
    },
    {
      "cell_type": "code",
      "metadata": {
        "id": "69fyjqHnB8gd"
      },
      "source": [
        ""
      ],
      "execution_count": null,
      "outputs": []
    },
    {
      "cell_type": "markdown",
      "metadata": {
        "id": "neNQezElB-4U"
      },
      "source": [
        "# 8. Find the most representative documents for each topic. \n",
        "\n",
        "Sometimes just the topic keywords may not be enough to make sense of what a topic is about. So, to help with understanding the topic, you can find the documents a given topic has contributed to the most and infer the topic by reading that document. \n",
        "\n",
        "\n"
      ]
    },
    {
      "cell_type": "code",
      "metadata": {
        "id": "PkaC2VGi_usw",
        "colab": {
          "base_uri": "https://localhost:8080/",
          "height": 687
        },
        "outputId": "d4b93220-06ff-4cd6-b1a9-14f9fb7914a0"
      },
      "source": [
        "# Group top 5 sentences under each topic\n",
        "sent_topics_sorteddf_lda = pd.DataFrame()\n",
        "sent_topics_outdf_grpd = new_df.groupby('dominant_topic')\n",
        "\n",
        "for i, grp in sent_topics_outdf_grpd:\n",
        "    sent_topics_sorteddf_lda = pd.concat([sent_topics_sorteddf_lda, \n",
        "                                             grp.sort_values(['topic_perc_contrib'], ascending=[0]).head(3)], \n",
        "                                            axis=0)\n",
        "\n",
        "# Reset Index    \n",
        "sent_topics_sorteddf_lda.reset_index(drop=True, inplace=True)\n",
        "\n",
        "# # Show\n",
        "sent_topics_sorteddf_lda"
      ],
      "execution_count": null,
      "outputs": [
        {
          "output_type": "execute_result",
          "data": {
            "text/html": [
              "<div>\n",
              "<style scoped>\n",
              "    .dataframe tbody tr th:only-of-type {\n",
              "        vertical-align: middle;\n",
              "    }\n",
              "\n",
              "    .dataframe tbody tr th {\n",
              "        vertical-align: top;\n",
              "    }\n",
              "\n",
              "    .dataframe thead th {\n",
              "        text-align: right;\n",
              "    }\n",
              "</style>\n",
              "<table border=\"1\" class=\"dataframe\">\n",
              "  <thead>\n",
              "    <tr style=\"text-align: right;\">\n",
              "      <th></th>\n",
              "      <th>text_no</th>\n",
              "      <th>timestampStr</th>\n",
              "      <th>user_location_state</th>\n",
              "      <th>dominant_topic</th>\n",
              "      <th>topic_perc_contrib</th>\n",
              "      <th>keywords</th>\n",
              "      <th>text</th>\n",
              "    </tr>\n",
              "  </thead>\n",
              "  <tbody>\n",
              "    <tr>\n",
              "      <th>0</th>\n",
              "      <td>2824</td>\n",
              "      <td>2020-02-28</td>\n",
              "      <td>dc</td>\n",
              "      <td>0.0</td>\n",
              "      <td>0.8798</td>\n",
              "      <td>china, virus, coronavirus, county, outbreak, update, information, novel_coronavirus, face, concern</td>\n",
              "      <td>Coronavirus (COVID-19) Supply Chain Update @drawandstrike @catesduane @rising_serpent @COsweda @almostjingo @tracybeanz @CarrollQuigley1 @dbongino...</td>\n",
              "    </tr>\n",
              "    <tr>\n",
              "      <th>1</th>\n",
              "      <td>1499</td>\n",
              "      <td>2020-04-09</td>\n",
              "      <td>or</td>\n",
              "      <td>0.0</td>\n",
              "      <td>0.8397</td>\n",
              "      <td>china, virus, coronavirus, county, outbreak, update, information, novel_coronavirus, face, concern</td>\n",
              "      <td>#ThankfulThursday I'm🙏🙏🙏for the pandemic for putting me face to face with my procrastination monster. 👹⏰⌚️👹 Ironically, I'm also, grateful for the...</td>\n",
              "    </tr>\n",
              "    <tr>\n",
              "      <th>2</th>\n",
              "      <td>5379</td>\n",
              "      <td>2020-01-28</td>\n",
              "      <td>fl</td>\n",
              "      <td>0.0</td>\n",
              "      <td>0.8077</td>\n",
              "      <td>china, virus, coronavirus, county, outbreak, update, information, novel_coronavirus, face, concern</td>\n",
              "      <td>5 Million Potential Carriers Have Left Wuhan As Coronavirus Appears To Mutate Into “More Transmissable” Form https://t.co/QJJ1end0zm</td>\n",
              "    </tr>\n",
              "    <tr>\n",
              "      <th>3</th>\n",
              "      <td>8813</td>\n",
              "      <td>2020-03-18</td>\n",
              "      <td>tx</td>\n",
              "      <td>1.0</td>\n",
              "      <td>0.8932</td>\n",
              "      <td>coronavirus_outbreak, corona, relief, coronavirus, action, hell, ass, republicans, statement, apple</td>\n",
              "      <td>US Sens John Cornyn and Ted Cruz both voted for the coronavirus relief bill https://t.co/CzQprLv7yB</td>\n",
              "    </tr>\n",
              "    <tr>\n",
              "      <th>4</th>\n",
              "      <td>363</td>\n",
              "      <td>2020-02-18</td>\n",
              "      <td>wa</td>\n",
              "      <td>1.0</td>\n",
              "      <td>0.8773</td>\n",
              "      <td>coronavirus_outbreak, corona, relief, coronavirus, action, hell, ass, republicans, statement, apple</td>\n",
              "      <td>Apple unlikely to meet revenue guidance due to coronavirus impact: Apple Inc said on Monday it would not meet its revenue guidance for the March q...</td>\n",
              "    </tr>\n",
              "    <tr>\n",
              "      <th>...</th>\n",
              "      <td>...</td>\n",
              "      <td>...</td>\n",
              "      <td>...</td>\n",
              "      <td>...</td>\n",
              "      <td>...</td>\n",
              "      <td>...</td>\n",
              "      <td>...</td>\n",
              "    </tr>\n",
              "    <tr>\n",
              "      <th>73</th>\n",
              "      <td>3908</td>\n",
              "      <td>2020-02-13</td>\n",
              "      <td>ca</td>\n",
              "      <td>24.0</td>\n",
              "      <td>0.8026</td>\n",
              "      <td>coronavirus, employee, south, population, community, safety, weekend, read, white, wtf</td>\n",
              "      <td>An attempted rally is fizzling out late in the session, #DOW-117. #coronavirus concerns get some blame, but investors remain fairly confident that...</td>\n",
              "    </tr>\n",
              "    <tr>\n",
              "      <th>74</th>\n",
              "      <td>1860</td>\n",
              "      <td>2020-04-04</td>\n",
              "      <td>pa</td>\n",
              "      <td>24.0</td>\n",
              "      <td>0.7596</td>\n",
              "      <td>coronavirus, employee, south, population, community, safety, weekend, read, white, wtf</td>\n",
              "      <td>COVID-19 Stimulus Payments courtesy of David M. Spitzberg https://t.co/czb0VZWw5z</td>\n",
              "    </tr>\n",
              "    <tr>\n",
              "      <th>75</th>\n",
              "      <td>7576</td>\n",
              "      <td>2020-03-08</td>\n",
              "      <td>nc</td>\n",
              "      <td>25.0</td>\n",
              "      <td>0.8077</td>\n",
              "      <td>crisis, work, health, coronavirus, family, home, help, person, worker, call</td>\n",
              "      <td>Truly horrible. #PresidentPAB has worshipers following him blindly &amp;amp; believing his narcissistic medical advice instead of board certified phys...</td>\n",
              "    </tr>\n",
              "    <tr>\n",
              "      <th>76</th>\n",
              "      <td>2676</td>\n",
              "      <td>2020-04-03</td>\n",
              "      <td>ny</td>\n",
              "      <td>25.0</td>\n",
              "      <td>0.7820</td>\n",
              "      <td>crisis, work, health, coronavirus, family, home, help, person, worker, call</td>\n",
              "      <td>Extremely sad to have lost a colleague and truly kind person to this horrid health crisis. Today is a very tough day for our city. Rest In Peace, ...</td>\n",
              "    </tr>\n",
              "    <tr>\n",
              "      <th>77</th>\n",
              "      <td>4080</td>\n",
              "      <td>2020-03-12</td>\n",
              "      <td>dc</td>\n",
              "      <td>25.0</td>\n",
              "      <td>0.7596</td>\n",
              "      <td>crisis, work, health, coronavirus, family, home, help, person, worker, call</td>\n",
              "      <td>We know that with the rise in #CoronaVirus we need to take precautions, but we STILL have work to do! Households will be receiving #Census invitat...</td>\n",
              "    </tr>\n",
              "  </tbody>\n",
              "</table>\n",
              "<p>78 rows × 7 columns</p>\n",
              "</div>"
            ],
            "text/plain": [
              "    text_no  ...                                                                                                                                                   text\n",
              "0      2824  ...  Coronavirus (COVID-19) Supply Chain Update @drawandstrike @catesduane @rising_serpent @COsweda @almostjingo @tracybeanz @CarrollQuigley1 @dbongino...\n",
              "1      1499  ...  #ThankfulThursday I'm🙏🙏🙏for the pandemic for putting me face to face with my procrastination monster. 👹⏰⌚️👹 Ironically, I'm also, grateful for the...\n",
              "2      5379  ...                   5 Million Potential Carriers Have Left Wuhan As Coronavirus Appears To Mutate Into “More Transmissable” Form https://t.co/QJJ1end0zm\n",
              "3      8813  ...                                                    US Sens John Cornyn and Ted Cruz both voted for the coronavirus relief bill https://t.co/CzQprLv7yB\n",
              "4       363  ...  Apple unlikely to meet revenue guidance due to coronavirus impact: Apple Inc said on Monday it would not meet its revenue guidance for the March q...\n",
              "..      ...  ...                                                                                                                                                    ...\n",
              "73     3908  ...  An attempted rally is fizzling out late in the session, #DOW-117. #coronavirus concerns get some blame, but investors remain fairly confident that...\n",
              "74     1860  ...                                                                      COVID-19 Stimulus Payments courtesy of David M. Spitzberg https://t.co/czb0VZWw5z\n",
              "75     7576  ...  Truly horrible. #PresidentPAB has worshipers following him blindly &amp; believing his narcissistic medical advice instead of board certified phys...\n",
              "76     2676  ...  Extremely sad to have lost a colleague and truly kind person to this horrid health crisis. Today is a very tough day for our city. Rest In Peace, ...\n",
              "77     4080  ...  We know that with the rise in #CoronaVirus we need to take precautions, but we STILL have work to do! Households will be receiving #Census invitat...\n",
              "\n",
              "[78 rows x 7 columns]"
            ]
          },
          "metadata": {
            "tags": []
          },
          "execution_count": 32
        }
      ]
    },
    {
      "cell_type": "code",
      "metadata": {
        "id": "WUrEwhgZ_90E"
      },
      "source": [
        ""
      ],
      "execution_count": null,
      "outputs": []
    },
    {
      "cell_type": "markdown",
      "metadata": {
        "id": "t4av606v1a4m"
      },
      "source": [
        "# Exercise 1\n",
        "\n",
        "Create a new topic model that includes terms from a different [part of speech](https://www.ling.upenn.edu/courses/Fall_2003/ling001/penn_treebank_pos.html) such as Adjectives and Verb and see if you can get better topics. \n",
        "\n",
        "After you complete and run below code, you will need to rerun almost all the above codes (from Section 2). \n",
        "See options for part of speech here: https://spacy.io/api/annotation\n",
        "\n",
        "Question to anwser: \n",
        "Find the best LDA model. How many topics does it have? \n",
        "\n"
      ]
    },
    {
      "cell_type": "code",
      "metadata": {
        "id": "WBmR46y51a4m"
      },
      "source": [
        "print(\"Before Lemmatization:\", data_words_bigrams[:1])\n",
        "\n",
        "# Do lemmatization keeping only noun, adj, vb, adv\n",
        "data_lemmatized = #WRITE YOUR CODE\n",
        "\n",
        "print(\"After Lemmatization: \", data_lemmatized[:1])\n"
      ],
      "execution_count": null,
      "outputs": []
    },
    {
      "cell_type": "markdown",
      "metadata": {
        "id": "b6RYnZ6u1a4n"
      },
      "source": [
        "# Exercise 2\n",
        "\n",
        "Chunksize controls how many documents are processed at a time in the LDA training algorithm. Increasing chunksize will speed up training, at least as long as the chunk of documents easily fit into memory. \n",
        "\n",
        "#### Exercise 2a) \n",
        "Update the `compute_coherence_values` function below (duplicated for you from Section 4) by setting the chunk size of the LdaModel.\n",
        "See [Set LdaModel parameters](https://radimrehurek.com/gensim/models/ldamodel.html).\n",
        "\n",
        "Rerun the compute_coherence_values function based on chunk sizes of 100 to 800 (both inclusive) in steps of 200. "
      ]
    },
    {
      "cell_type": "code",
      "metadata": {
        "id": "yq9dTHku1a4n"
      },
      "source": [
        "### Update the following compute_coherence_values function to define chunk size for LdaModel \n",
        "\n",
        "def compute_coherence_values(dictionary, corpus, texts, limit, start, step):\n",
        "    \"\"\"\n",
        "    Compute c_v coherence for various document chunksize\n",
        "\n",
        "    \"\"\"\n",
        "    coherence_values = []\n",
        "    model_list = []\n",
        "    \n",
        "    for ??? in range(start, limit, step):\n",
        "        print(f'Training model based on chunk size= {???}')\n",
        "        model = models.LdaModel(corpus=corpus, id2word=id2word, num_topics=best_num_topics, passes=60, ???)\n",
        "        model_list.append(model)\n",
        "        coherencemodel = CoherenceModel(model=model, texts=texts, dictionary=dictionary, coherence='c_v')\n",
        "        coherence_values.append(coherencemodel.get_coherence())\n",
        "\n",
        "    return model_list, coherence_values"
      ],
      "execution_count": null,
      "outputs": []
    },
    {
      "cell_type": "code",
      "metadata": {
        "id": "QqJvp_Gn1a4n"
      },
      "source": [
        "### Set values of chunk size and run this cell after updating compute_coherence_values function above \n",
        "\n",
        "# setting values for chunk size\n",
        "start = ??\n",
        "limit = ??\n",
        "step = ??\n",
        "\n",
        "# Run LdaModel\n",
        "model_list, coherence_values = compute_coherence_values(dictionary=id2word, corpus=corpus, texts=data_lemmatized, start=start, limit=limit, step=step)\n",
        "print('Completed')"
      ],
      "execution_count": null,
      "outputs": []
    },
    {
      "cell_type": "markdown",
      "metadata": {
        "id": "6AqQK0I81a4n"
      },
      "source": [
        "#### Exercise 2b) \n",
        "Generate a coherence graph based on the chunk size defined and coherence values computed in Exercise 2a, where x-axis represents \n",
        "the 'Chunk Size' and y-axis represents 'Coherence score').\n",
        "\n",
        "Question to anwser: \n",
        "According to the graph, what is the most optimal chunk size? "
      ]
    },
    {
      "cell_type": "code",
      "metadata": {
        "id": "ysl-godv1a4n"
      },
      "source": [
        "## Write your code below\n",
        "\n",
        "\n"
      ],
      "execution_count": null,
      "outputs": []
    },
    {
      "cell_type": "code",
      "metadata": {
        "id": "ECPHD4qG1a4o"
      },
      "source": [
        ""
      ],
      "execution_count": null,
      "outputs": []
    }
  ]
}